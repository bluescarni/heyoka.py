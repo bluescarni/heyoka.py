{
 "cells": [
  {
   "cell_type": "markdown",
   "id": "c4c78436-2cfa-4b10-ac2a-58e17aaf85d7",
   "metadata": {},
   "source": [
    "# Lagrange propagation and the state transition matrix\n",
    "\n",
    "In the gravitational [two-body problem](https://en.wikipedia.org/wiki/Two-body_problem) it is possible to compute the state of the system at an arbitrary time from an initial state $\\left( \\boldsymbol{r}_0, \\boldsymbol{v}_0 \\right)$ via the so-called Lagrange coefficients $F$, $G$, $F_t$ and $G_t$:\n",
    "\n",
    "\\begin{equation}\n",
    "\\begin{cases}\n",
    "\\boldsymbol{r} & = F \\boldsymbol{r}_0 + G \\boldsymbol{v}_0 \\\\\n",
    "\\boldsymbol{v} & = F_t \\boldsymbol{r}_0 + G_t \\boldsymbol{v}_0\n",
    "\\end{cases}.\n",
    "\\end{equation}\n",
    "\n",
    "Analytical expressions for these coefficients are available in terms of anomalies differences between the end state and the initial state. The details on these analytical expressions and their derivation can be found, for example, in the seminal book by Richard Battin [\"An introduction to the mathematics and methods of astrodynamics\"](https://ui.adsabs.harvard.edu/abs/1987aiaa.rept.....B/abstract) (section 4.3). See [here](https://orbital-mechanics.space/time-since-periapsis-and-keplers-equation/the-lagrange-coefficients.html) for another derivation.\n",
    "\n",
    "In this notebook, we will first show how to implement a Lagrange propagator using heyoka.py's expression system. Because the propagator will be implemented in terms of analytical formulae, we will then be able to differentiate it and effortlessly construct the state transtition matrix (i.e., the Jacobian of the propagator with respect to the initial state).\n",
    "\n",
    "## The Lagrange propagator\n",
    "\n",
    "```{note}\n",
    "\n",
    "The propagator presented here is implemented in terms of eccentric anomalies, and thus it is limited to elliptic orbits.\n",
    "```\n",
    "\n",
    "We begin by introducing the symbolic variables corresponding to the inputs of the propagator:\n",
    "\n",
    "- the initial Cartesian position $\\boldsymbol{r}_0=\\left( x_0, y_0, z_0 \\right)$,\n",
    "- the initial Cartesian velocity $\\boldsymbol{v}_0=\\left( v_{x0}, v_{y0}, v_{z0} \\right)$,\n",
    "- the gravitational parameter of the system $\\mu$,\n",
    "- the propagation time $t$."
   ]
  },
  {
   "cell_type": "code",
   "execution_count": 1,
   "id": "90a93d15-3a4f-4408-85dc-dc9917e33dba",
   "metadata": {},
   "outputs": [],
   "source": [
    "import heyoka as hy\n",
    "import numpy as np\n",
    "\n",
    "x0, y0, z0 = hy.make_vars(\"x0\", \"y0\", \"z0\")\n",
    "vx0, vy0, vz0 = hy.make_vars(\"vx0\", \"vy0\", \"vz0\")\n",
    "mu, tm = hy.make_vars(\"mu\", \"t\")\n",
    "\n",
    "# Package initial position and velocity into\n",
    "# arrays for later use.\n",
    "pos_0 = np.array([x0, y0, z0])\n",
    "vel_0 = np.array([vx0, vy0, vz0])"
   ]
  },
  {
   "cell_type": "markdown",
   "id": "9474f6df-0b83-4d38-8030-eeb1db3b5f0d",
   "metadata": {},
   "source": [
    "Next, we compute the semi-major axis $a$ from the [specific orbital energy](https://en.wikipedia.org/wiki/Specific_orbital_energy) $\\epsilon$:"
   ]
  },
  {
   "cell_type": "code",
   "execution_count": 2,
   "id": "ed7a873f-4bc6-4b5b-bb04-e813c017838a",
   "metadata": {},
   "outputs": [],
   "source": [
    "v02 = vx0**2+vy0**2+vz0**2\n",
    "r0 = hy.sqrt(x0**2+y0**2+z0**2)\n",
    "eps = v02 * 0.5 - mu/r0\n",
    "a = -mu/(2.*eps)"
   ]
  },
  {
   "cell_type": "markdown",
   "id": "259225a2-ed98-4a2e-acf0-37a262c63aec",
   "metadata": {},
   "source": [
    "Now we compute the quantities $\\sigma_0=\\frac{\\boldsymbol{r}_0 \\cdot \\boldsymbol{v}_0}{\\sqrt{\\mu}}$, $s_0=\\frac{\\sigma_0}{\\sqrt{a}}$ and $c_0=1-\\frac{r_0}{a}$:"
   ]
  },
  {
   "cell_type": "code",
   "execution_count": 3,
   "id": "40295794-9b1e-4719-9e97-1ce1bbc96fe9",
   "metadata": {},
   "outputs": [],
   "source": [
    "sigma0 = np.dot(pos_0, vel_0) / hy.sqrt(mu)\n",
    "s0 = sigma0 / hy.sqrt(a)\n",
    "c0 = 1. - r0 / a"
   ]
  },
  {
   "cell_type": "markdown",
   "id": "675933ae-bcf7-4951-87a8-2e1d8dc3b6c8",
   "metadata": {},
   "source": [
    "We can now calculate the difference in mean anomaly $\\Delta M$ from the mean motion $n$ and the propagation time $t$,"
   ]
  },
  {
   "cell_type": "code",
   "execution_count": 4,
   "id": "5a2fc25b-b346-440c-b3ea-4e32a1d5c0bd",
   "metadata": {},
   "outputs": [],
   "source": [
    "n = hy.sqrt(mu / (a * a * a))\n",
    "DM = n*tm"
   ]
  },
  {
   "cell_type": "markdown",
   "id": "242b2f6e-ab3e-41d9-bd15-bdd903549927",
   "metadata": {},
   "source": [
    "and then proceed to convert it to a difference in eccentric anomaly $\\Delta E$ via the ``kepDE()`` function:"
   ]
  },
  {
   "cell_type": "code",
   "execution_count": 5,
   "id": "860b4070-f0e3-4be8-af72-118987efe45c",
   "metadata": {},
   "outputs": [],
   "source": [
    "DE = hy.kepDE(s0, c0, DM)\n",
    "\n",
    "# Compute cos(DE) and sin(DE).\n",
    "cDE = hy.cos(DE)\n",
    "sDE = hy.sin(DE)"
   ]
  },
  {
   "cell_type": "markdown",
   "id": "69d193e4-6651-4b6d-83c9-5a66fbe707c8",
   "metadata": {},
   "source": [
    "We can now calculate $r(t)$,"
   ]
  },
  {
   "cell_type": "code",
   "execution_count": 6,
   "id": "abb11aab-6eb0-4077-b74e-75267ae9bb5c",
   "metadata": {},
   "outputs": [],
   "source": [
    "r = a+(r0-a)*cDE+sigma0*hy.sqrt(a)*sDE"
   ]
  },
  {
   "cell_type": "markdown",
   "id": "cc867251-a10b-4651-9476-d5770e1eb849",
   "metadata": {},
   "source": [
    "and the Lagrange coefficients $F$, $G$, $F_t$ and $G_t$:"
   ]
  },
  {
   "cell_type": "code",
   "execution_count": 7,
   "id": "0b018d77-4e19-4df0-84bb-4f70583315f5",
   "metadata": {},
   "outputs": [],
   "source": [
    "F = 1. - a/r0*(1. - cDE)\n",
    "G = a*sigma0/hy.sqrt(mu)*(1. - cDE) + r0*hy.sqrt(a/mu)*sDE\n",
    "Ft = -hy.sqrt(mu*a)/(r*r0)*sDE\n",
    "Gt = 1-a/r*(1.-cDE)"
   ]
  },
  {
   "cell_type": "markdown",
   "id": "fe0bf65b-e3b4-4404-97f6-cf17569ce721",
   "metadata": {},
   "source": [
    "Finally, we can calculate the position and velocity vectors at time $t$:"
   ]
  },
  {
   "cell_type": "code",
   "execution_count": 8,
   "id": "95c178dd-20dc-42b8-8b56-8b09c8ec7840",
   "metadata": {},
   "outputs": [],
   "source": [
    "pos = F*pos_0 + G*vel_0\n",
    "vel = Ft*pos_0 + Gt*vel_0\n",
    "\n",
    "# Concatenate position and velocity\n",
    "# into a single state vector.\n",
    "pos_vel = np.hstack([pos, vel])"
   ]
  },
  {
   "cell_type": "markdown",
   "id": "78d7802f-4a9d-4f47-867c-ace54bc20ea9",
   "metadata": {},
   "source": [
    "We can now proceed to create a [compiled function](<./compiled_functions.ipynb>) for the evaluation of the state vector at time $t$:"
   ]
  },
  {
   "cell_type": "code",
   "execution_count": 9,
   "id": "d508036c-b678-41f4-9e91-6882079859f4",
   "metadata": {},
   "outputs": [],
   "source": [
    "cf = hy.cfunc(pos_vel,\n",
    "                   # Specify the order in which the input\n",
    "                   # variables are passed to the compiled\n",
    "                   # function.\n",
    "                   vars=[x0, y0, z0, vx0, vy0, vz0, mu, tm])"
   ]
  },
  {
   "cell_type": "markdown",
   "id": "56b81ce7-3be7-45ec-ab1d-a1324bb0415e",
   "metadata": {},
   "source": [
    "We can now run a quick test for our propagator. We set up a circular orbit with $\\boldsymbol{r}_0=\\left( 1, 0, 0 \\right)$, $\\boldsymbol{v}_0=\\left( 0, 1, 0 \\right)$ and $\\mu = 1$, and we ask for the state vector at $t=\\pi$ (i.e., half period):"
   ]
  },
  {
   "cell_type": "code",
   "execution_count": 10,
   "id": "f468c825-783d-4138-b3f6-6c17f1134321",
   "metadata": {},
   "outputs": [
    {
     "data": {
      "text/plain": [
       "array([-1.0000000e+00,  1.2246468e-16,  0.0000000e+00, -1.2246468e-16,\n",
       "       -1.0000000e+00, -0.0000000e+00])"
      ]
     },
     "execution_count": 10,
     "metadata": {},
     "output_type": "execute_result"
    }
   ],
   "source": [
    "cf([\n",
    "    # r0.\n",
    "    1., 0., 0.,\n",
    "    # v0.\n",
    "    0., 1., 0.,\n",
    "    # mu and t.\n",
    "    1., np.pi])"
   ]
  },
  {
   "cell_type": "markdown",
   "id": "1c04b904-68d5-4beb-a121-df60624f89d7",
   "metadata": {},
   "source": [
    "Indeed, as expected, $\\boldsymbol{r}\\left(\\pi\\right) = \\left( -1, 0, 0 \\right)$ and $\\boldsymbol{v}\\left(\\pi\\right) = \\left( 0, -1, 0 \\right)$ (plus/minus epsilon).\n",
    "\n",
    "Recall from the [compiled functions tutorial](<./compiled_functions.ipynb>) that the propagator is fully vectorised, and that it takes advantage of SIMD instructions. For instance, on a modern x86 machine we can propagate four different trajectories at the cost of one single propagation by passing in a two-dimensional matrix of initial conditions like this:"
   ]
  },
  {
   "cell_type": "code",
   "execution_count": 11,
   "id": "0035d29f-753b-4f5e-a10f-93c552c390b6",
   "metadata": {},
   "outputs": [
    {
     "data": {
      "text/plain": [
       "array([[-1.00000000e+00, -1.03804031e+00, -1.05314825e+00,\n",
       "        -1.04768800e+00],\n",
       "       [ 1.22464680e-16,  1.88508928e-01,  3.79275881e-01,\n",
       "         5.68044550e-01],\n",
       "       [ 0.00000000e+00, -8.32873901e-03, -1.29590841e-02,\n",
       "        -1.35748147e-02],\n",
       "       [-1.22464680e-16, -1.56913323e-01, -2.92251543e-01,\n",
       "        -4.03032933e-01],\n",
       "       [-1.00000000e+00, -9.54125221e-01, -8.82265186e-01,\n",
       "        -7.93231703e-01],\n",
       "       [-0.00000000e+00, -1.08925347e-02, -2.25868602e-02,\n",
       "        -3.38565463e-02]])"
      ]
     },
     "execution_count": 11,
     "metadata": {},
     "output_type": "execute_result"
    }
   ],
   "source": [
    "cf([\n",
    "    # x0.\n",
    "    [1., 1.01, 1.02, 1.03],\n",
    "    # y0.\n",
    "    [0., 0.01, 0.02, 0.03],\n",
    "    # z0.\n",
    "    [0., 0.01, 0.02, 0.03],\n",
    "    # vx0.\n",
    "    [0., 0.01, 0.02, 0.03],\n",
    "    # vy0.\n",
    "    [1., 1.01, 1.02, 1.03],\n",
    "    # vz0.\n",
    "    [0., 0.01, 0.02, 0.03],\n",
    "    # mu.\n",
    "    [1., 1.01, 1.02, 1.03],\n",
    "    # t.\n",
    "    [np.pi, np.pi+0.01, np.pi+0.02, np.pi+0.03]])"
   ]
  },
  {
   "cell_type": "markdown",
   "id": "1ff0b7e3-aae5-457c-832e-8876a66867f6",
   "metadata": {},
   "source": [
    "## Constructing the STM\n",
    "\n",
    "We can now proceed to the construction of an analytical expression for the state transition matrix (STM).\n",
    "\n",
    "The STM is nothing but the Jacobian of the Lagrange propagator with respect to the initial conditions. In order to compute the derivatives, we employ the :func:`~heyoka.diff_tensors()` function as explained {ref}`here <computing_derivatives>`:"
   ]
  },
  {
   "cell_type": "code",
   "execution_count": 12,
   "id": "7c86e255-8bf8-4938-bae7-c54109df938f",
   "metadata": {},
   "outputs": [],
   "source": [
    "dt = hy.diff_tensors(pos_vel,\n",
    "                     diff_args=[x0, y0, z0, vx0, vy0, vz0],\n",
    "                     diff_order=1\n",
    "                    )"
   ]
  },
  {
   "cell_type": "markdown",
   "id": "5e4e0c5a-c060-48a6-bc65-29ee83558aef",
   "metadata": {},
   "source": [
    "We can then extract the Jacobian from ``dt``,"
   ]
  },
  {
   "cell_type": "code",
   "execution_count": 13,
   "id": "fa4904b2-3703-4eae-a950-576b03dc023a",
   "metadata": {},
   "outputs": [],
   "source": [
    "jac = dt.jacobian"
   ]
  },
  {
   "cell_type": "markdown",
   "id": "d608edfc-021c-4fc7-9f23-6baefb16aae2",
   "metadata": {},
   "source": [
    "and proceed to the creation of a compiled function for the numerical evaluation of the STM:"
   ]
  },
  {
   "cell_type": "code",
   "execution_count": 14,
   "id": "39d8c8c3-2088-405c-b4a2-c8e1e65b4ff2",
   "metadata": {},
   "outputs": [],
   "source": [
    "cf_stm = hy.cfunc(jac.flatten(),\n",
    "                       # Specify the order in which the input\n",
    "                       # variables are passed to the compiled\n",
    "                       # function.\n",
    "                       vars=[x0, y0, z0, vx0, vy0, vz0, mu, tm])"
   ]
  },
  {
   "cell_type": "markdown",
   "id": "9b90449b-87cf-4131-b930-6ab94b8aa932",
   "metadata": {},
   "source": [
    "Let us take a look at the STM for our test circular orbit:"
   ]
  },
  {
   "cell_type": "code",
   "execution_count": 15,
   "id": "da100f5c-b555-486e-a455-694132057eba",
   "metadata": {},
   "outputs": [
    {
     "data": {
      "text/plain": [
       "array([[-3.00000000e+00,  2.44929360e-16,  0.00000000e+00,\n",
       "         3.67394040e-16, -4.00000000e+00,  0.00000000e+00],\n",
       "       [ 9.42477796e+00,  3.00000000e+00,  0.00000000e+00,\n",
       "         4.00000000e+00,  9.42477796e+00,  0.00000000e+00],\n",
       "       [ 0.00000000e+00,  0.00000000e+00, -1.00000000e+00,\n",
       "         0.00000000e+00,  0.00000000e+00,  1.22464680e-16],\n",
       "       [-9.42477796e+00, -2.00000000e+00,  0.00000000e+00,\n",
       "        -3.00000000e+00, -9.42477796e+00,  0.00000000e+00],\n",
       "       [ 2.00000000e+00,  3.67394040e-16,  0.00000000e+00,\n",
       "         4.89858720e-16,  3.00000000e+00,  0.00000000e+00],\n",
       "       [ 0.00000000e+00,  0.00000000e+00, -1.22464680e-16,\n",
       "         0.00000000e+00,  0.00000000e+00, -1.00000000e+00]])"
      ]
     },
     "execution_count": 15,
     "metadata": {},
     "output_type": "execute_result"
    }
   ],
   "source": [
    "cf_stm([1., 0., 0., 0., 1., 0., 1., np.pi]).reshape((6,-1))"
   ]
  },
  {
   "cell_type": "markdown",
   "id": "8c1d0775-7eb2-40c8-b7f5-89169638975d",
   "metadata": {},
   "source": [
    "We can notice that the top-left element of the STM is the value $-3$. If we slightly perturb by $10^{-5}$ the value of $x_0$ and re-evaluate the state of the system at $t=\\pi$,"
   ]
  },
  {
   "cell_type": "code",
   "execution_count": 16,
   "id": "b05667c0-95d1-43ce-8f12-e8b6f4595581",
   "metadata": {},
   "outputs": [
    {
     "data": {
      "text/plain": [
       "array([-1.00003000e+00,  9.42473082e-05,  0.00000000e+00, -9.42435384e-05,\n",
       "       -9.99979996e-01, -0.00000000e+00])"
      ]
     },
     "execution_count": 16,
     "metadata": {},
     "output_type": "execute_result"
    }
   ],
   "source": [
    "cf([1 + 1e-5, 0., 0., 0., 1., 0., 1., np.pi])"
   ]
  },
  {
   "cell_type": "markdown",
   "id": "c9b02e7c-2f12-4e63-b631-88ced911e6be",
   "metadata": {},
   "source": [
    "we can indeed see that the the initial perturbation of $10^{-5}$ has been amplified by a factor of $3$ in the final state of $x$ as predicted by the STM.\n",
    "\n",
    "Like the Lagrange propagator, the compiled function for the STM is also fully vectorised and SIMD-enabled. Note also that it is also possible via ``diff_tensors()`` to compute not only the Jacobian, but also higher-order tensors of derivatives (e.g., such as the Hessians)."
   ]
  }
 ],
 "metadata": {
  "kernelspec": {
   "display_name": "Python 3 (ipykernel)",
   "language": "python",
   "name": "python3"
  },
  "language_info": {
   "codemirror_mode": {
    "name": "ipython",
    "version": 3
   },
   "file_extension": ".py",
   "mimetype": "text/x-python",
   "name": "python",
   "nbconvert_exporter": "python",
   "pygments_lexer": "ipython3",
   "version": "3.10.13"
  }
 },
 "nbformat": 4,
 "nbformat_minor": 5
}
