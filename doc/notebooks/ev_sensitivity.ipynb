{
 "cells": [
  {
   "cell_type": "markdown",
   "id": "9a50cf41-28ba-4416-bf29-25621f95ef4f",
   "metadata": {},
   "source": [
    "# Computing event sensitivity\n",
    "\n",
    "In this example, we will show how it is possible to use heyoka.py's [event detection](<./Event detection.ipynb>) system to compute the first-order *sensitivity* of an event's trigger time. For the sake of simplicity, we will consider here a dynamical system with a single parameter and we will consider only the sensitivity with respect to this parameter. The approach can easily be generalised to the computation of the sensitivities with respect to multiple parameters and/or the initial conditions.\n",
    "\n",
    "In order to illustrate the method, we will be focusing on an analytically-solvable system of ODEs, so that we will be able to determine an explicit expression for the sensitivity which we will then use to validate the numerical computation.\n",
    "\n",
    "## The analytical approach\n",
    "\n",
    "We consider the ODE system for the [harmonic oscillator](https://en.wikipedia.org/wiki/Simple_harmonic_motion):\n",
    "\n",
    "$$\n",
    "   \\begin{cases}\n",
    "   x^\\prime &= v \\\\\n",
    "   v^\\prime &= -kx\n",
    "   \\end{cases},\n",
    "$$\n",
    "\n",
    "where $k>0$ is the spring constant. We fix the following initial conditions:\n",
    "\n",
    "$$\n",
    "   \\begin{cases}\n",
    "   x\\left( 0 \\right) &= 0 \\\\\n",
    "   v\\left( 0 \\right) &= 1\n",
    "   \\end{cases}.\n",
    "$$\n",
    "\n",
    "The analytical solution for this simple initial-value problem is:\n",
    "\n",
    "$$\n",
    "   \\begin{cases}\n",
    "   x\\left( t \\right) &= \\frac{1}{\\sqrt{k}}\\sin\\left(\\sqrt{k}t\\right) \\\\\n",
    "   v\\left( t \\right) &= \\cos\\left(\\sqrt{k}t\\right)\n",
    "   \\end{cases}.\n",
    "$$\n",
    "\n",
    "Let us now suppose that we want to detect when the oscillation reaches the maximum amplitude. We can do so by defining the simple event equation\n",
    "\n",
    "$$\n",
    "g\\left( x, v \\right) \\equiv v = 0.\n",
    "$$\n",
    "\n",
    "I.e., the maximum amplitude in the harmonic oscillator is reached when the velocity is zero. We can substitute the solution $v\\left( t \\right)$ into the event equation, yielding the time-dependent equation\n",
    "\n",
    "$$\n",
    "\\cos\\left( \\sqrt{k} t \\right) = 0.\n",
    "$$\n",
    "\n",
    "Solving this equation for $t$ gives us an analytical expression for the trigger time of the event, i.e., the time of maximum amplitude $t_M$:\n",
    "\n",
    "$$\n",
    "t_M = \\frac{\\pi}{2\\sqrt{k}}.\n",
    "$$\n",
    "\n",
    "The first-order sensitivity of $t_M$ with respect to $k$ is easily computed:\n",
    "\n",
    "$$\n",
    "\\frac{d t_M}{d k} = -\\frac{\\pi}{4k^\\frac{3}{2}}.\n",
    "$$\n",
    "\n",
    "\n",
    "## The numerical approach\n",
    "\n",
    "If we do not have the analytical solution of the ODE system, it is not possible to compute an explicit expression for the event equation as a function of $t$ and $k$, like we did above. By extension, we cannot compute an explicit expression for $t_M$ and its sensitivity either.\n",
    "We can however compute numerically the sensitivity with the help of the [variational equations](<./The variational equations.ipynb>).\n",
    "\n",
    "In the absence of an analytical solution, the left-hand side of the event equation can be seen as an unknown function of $t$ and $k$:\n",
    "\n",
    "$$\n",
    "g\\left(t, k\\right) = 0.\n",
    "$$\n",
    "\n",
    "We cannot write an explicit expression for $t_M$ using this equation, but via the formula for the derivative of an [implicit function](https://en.wikipedia.org/wiki/Implicit_function#Implicit_differentiation), we can write the sensitivity $d t_M / d k$ as\n",
    "\n",
    "$$\n",
    "\\frac{d t_M}{d k} = -\\frac{\\frac{\\partial g}{\\partial k}}{\\frac{\\partial g}{\\partial t_M}}.\n",
    "$$\n",
    "\n",
    "$\\frac{\\partial g}{\\partial t_M}$ is the time derivative of $g$ calculated at the trigger time $t_M$, which can be computed directly from the original definition of the event equation in terms of the state variables:\n",
    "\n",
    "$$\n",
    "\\frac{\\partial g}{\\partial t_M} = -kx\\left(t_M\\right).\n",
    "$$\n",
    "\n",
    "In order to compute $\\frac{\\partial g}{\\partial k}$, we need to augment the original ODE system with the variational equations for $x$, $v$ and $g$ with respect to $k$:\n",
    "\n",
    "$$\n",
    "   \\begin{cases}\n",
    "   x^\\prime & = v \\\\\n",
    "   v^\\prime & = -kx \\\\\n",
    "   \\left( \\frac{\\partial x}{\\partial k} \\right)^\\prime & = \\frac{\\partial v}{\\partial k} \\\\\n",
    "   \\left( \\frac{\\partial v}{\\partial k} \\right)^\\prime & = -x-k\\frac{\\partial x}{\\partial k} \\\\\n",
    "   \\left( \\frac{\\partial g}{\\partial k} \\right)^\\prime & = -x-k\\frac{\\partial x}{\\partial k}\n",
    "   \\end{cases}.\n",
    "$$\n",
    "\n",
    "We can now proceed to the definition of the heyoka.py integrator:"
   ]
  },
  {
   "cell_type": "code",
   "execution_count": 1,
   "id": "844df82e-9a63-4e8f-b9c5-1edaa4c09da0",
   "metadata": {},
   "outputs": [],
   "source": [
    "import heyoka as hy\n",
    "import numpy as np\n",
    "\n",
    "# The dynamical variables (including the\n",
    "# variational variables).\n",
    "x, v, x_k, v_k, g_k = hy.make_vars(\"x\", \"v\", \"x_k\", \"v_k\", \"g_k\")\n",
    "\n",
    "# The spring constant.\n",
    "k = hy.par[0]\n",
    "\n",
    "# The ODEs.\n",
    "x_t = v\n",
    "v_t = -k * x\n",
    "x_k_t = v_k\n",
    "v_k_t = -x - k * x_k\n",
    "g_k_t = -x - k * x_k\n",
    "\n",
    "# The initial conditions.\n",
    "ic = [0.0, 1.0, 0.0, 0.0, 0.0]\n",
    "\n",
    "# Event to detect the maximum amplitude.\n",
    "ev = hy.t_event(v)\n",
    "\n",
    "# Definition of the integrator.\n",
    "ta = hy.taylor_adaptive(\n",
    "    [(x, x_t), (v, v_t), (x_k, x_k_t), (v_k, v_k_t), (g_k, g_k_t)], ic, t_events=[ev]\n",
    ")\n",
    "\n",
    "# Pick a concrete value for the spring constant.\n",
    "ta.pars[0] = 0.456"
   ]
  },
  {
   "cell_type": "markdown",
   "id": "960f2a83-4444-4d2c-813c-69f47439a21f",
   "metadata": {},
   "source": [
    "Let us propagate up to a large time coordinate. The integration will anyway be stopped almost immediately due to the event triggering when the maximum amplitude is reached:"
   ]
  },
  {
   "cell_type": "code",
   "execution_count": 2,
   "id": "c788f5df-58af-4f97-aab3-531bda9ca644",
   "metadata": {},
   "outputs": [
    {
     "data": {
      "text/plain": [
       "(<taylor_outcome.???: -1>,\n",
       " 1.2823207799363494,\n",
       " 1.2823207799363494,\n",
       " 2,\n",
       " None,\n",
       " None)"
      ]
     },
     "execution_count": 2,
     "metadata": {},
     "output_type": "execute_result"
    }
   ],
   "source": [
    "ta.propagate_until(1e9)"
   ]
  },
  {
   "cell_type": "markdown",
   "id": "f29afb61-d5e7-48ef-b213-93f3488916fc",
   "metadata": {},
   "source": [
    "Recall that, analytically, we expect the sensitivity value to be $-\\frac{\\pi}{4k^\\frac{3}{2}}$, i.e.,"
   ]
  },
  {
   "cell_type": "code",
   "execution_count": 3,
   "id": "ab5e0e04-9022-465d-aacd-709438e43b24",
   "metadata": {},
   "outputs": [
    {
     "data": {
      "text/plain": [
       "-2.550601538829664"
      ]
     },
     "execution_count": 3,
     "metadata": {},
     "output_type": "execute_result"
    }
   ],
   "source": [
    "-np.pi / (4 * ta.pars[0] ** (3.0 / 2))"
   ]
  },
  {
   "cell_type": "markdown",
   "id": "d8fe6f26-ca02-4515-b6cf-3171df87f822",
   "metadata": {},
   "source": [
    "From the numerical integration, we can compute the sensitivity value, as explained above, as $-\\frac{\\frac{\\partial g}{\\partial k}}{\\frac{\\partial g}{\\partial t_M}}$. The value of $\\frac{\\partial g}{\\partial k}$ can be read directly from the state vector (at index 4), while $\\frac{\\partial g}{\\partial t_M} = -kx\\left(t_M\\right)$:"
   ]
  },
  {
   "cell_type": "code",
   "execution_count": 4,
   "id": "1c3a3032-317a-43c9-ad22-e7f11e526719",
   "metadata": {},
   "outputs": [
    {
     "data": {
      "text/plain": [
       "-2.5506015388296643"
      ]
     },
     "execution_count": 4,
     "metadata": {},
     "output_type": "execute_result"
    }
   ],
   "source": [
    "-ta.state[4] / (-ta.pars[0] * ta.state[0])"
   ]
  },
  {
   "cell_type": "markdown",
   "id": "3a1439e0-97c7-47a5-8e69-da04bb44788e",
   "metadata": {},
   "source": [
    "Indeed, the numerical value matches the analytical result to machine precision.\n",
    "\n",
    "## Application to optimisation problems\n",
    "\n",
    "Suppose that we want to determine what value the spring constant $k$ must assume in order for the maximum amplitude of the oscillator to be $A$ (a fixed constant). We can formulate this problem as the minimisation of the function\n",
    "\n",
    "$$\n",
    "f\\left( k \\right) = \\left[ x\\left(t_M\\left(k\\right), k\\right) - A\\right]^2,\n",
    "$$\n",
    "\n",
    "where $x\\left(t_M\\left(k\\right), k\\right)$ is the value assumed by the coordinates $x$ at the event trigger time $t_M$. Local optimisation algorithms can greatly benefit from the availability of the gradient of $f$ with respect to the optimisation variable $k$. For the harmonic oscillator system considered here, $df/dk$ is easily computed analytically as\n",
    "\n",
    "$$\n",
    "\\frac{df}{dk} = -\\left(\\frac{1}{\\sqrt{k}} -A \\right)k^{-\\frac{3}{2}}.\n",
    "$$\n",
    "\n",
    "If we assume that an analytical solution is not available (as it is generally the case), we can compute $df/dk$ numerically with the help of the [variational equations](<./The variational equations.ipynb>). Specifically, we can write:\n",
    "\n",
    "$$\n",
    "\\frac{df}{dk} = 2 \\left[ x\\left(t_M\\left(k\\right), k\\right) - A\\right]\\left( \\frac{\\partial x}{\\partial t_M}\\frac{\\partial t_M}{\\partial k} + \\frac{\\partial x}{\\partial k} \\right),\n",
    "$$\n",
    "\n",
    "where:\n",
    "\n",
    "* $\\partial x/\\partial t_M$ is the time derivative of $x$ (i.e., the velocity $v$) at the trigger time $t_M$,\n",
    "* $\\partial t_M/\\partial k$ is the sensitivity of $t_M$ (as computed earlier),\n",
    "* $\\partial x/\\partial k$ is the sensitivity of $x$ with respect to $k$ (which appears as an extra state variable in the augmented ODE system defined earlier).\n",
    "\n",
    "Let us now define the objective function and let us implement its gradient using the numerical solution of the augmented ODE:"
   ]
  },
  {
   "cell_type": "code",
   "execution_count": 5,
   "id": "76873c03-33c6-4281-9d71-cf203037b6f0",
   "metadata": {},
   "outputs": [],
   "source": [
    "# Pick a concrete value for the A constant.\n",
    "A = 10.123\n",
    "\n",
    "\n",
    "# Objective function.\n",
    "def fun(x):\n",
    "    # Reset the integrator state.\n",
    "    ta.reset_cooldowns()\n",
    "    ta.time = 0\n",
    "    ta.state[:] = ic\n",
    "    ta.pars[0] = x[0]\n",
    "\n",
    "    # Propagate until the event triggers.\n",
    "    oc, _, _, _ = ta.propagate_until(1e9)\n",
    "    if int(oc) != -1:\n",
    "        raise\n",
    "\n",
    "    return (ta.state[0] - A) ** 2\n",
    "\n",
    "\n",
    "# Derivative of 'fun' with respect to k.\n",
    "def jac(x):\n",
    "    # Reset the integrator state.\n",
    "    ta.reset_cooldowns()\n",
    "    ta.time = 0\n",
    "    ta.state[:] = ic\n",
    "    ta.pars[0] = x[0]\n",
    "\n",
    "    # Propagate until the event triggers.\n",
    "    oc, _, _, _, _, _ = ta.propagate_until(1e9)\n",
    "    if int(oc) != -1:\n",
    "        raise\n",
    "\n",
    "    # Compute the sensitivity of t_M.\n",
    "    tM_k = -ta.state[4] / (-ta.pars[0] * ta.state[0])\n",
    "\n",
    "    return [2 * (ta.state[0] - A) * (ta.state[1] * tM_k + ta.state[2])]"
   ]
  },
  {
   "cell_type": "markdown",
   "id": "a5ca32c3-8c94-4245-8d29-24bc9f08dbef",
   "metadata": {},
   "source": [
    "Let us now compute $df/dk$ via the analytical formula for a specific value of $k$:"
   ]
  },
  {
   "cell_type": "code",
   "execution_count": 6,
   "id": "af69ba9b-d32f-4d26-8542-973e4fce2d36",
   "metadata": {},
   "outputs": [
    {
     "data": {
      "text/plain": [
       "0.5015866697490922"
      ]
     },
     "execution_count": 6,
     "metadata": {},
     "output_type": "execute_result"
    }
   ],
   "source": [
    "# Pick a value for k.\n",
    "k_val = 7.23\n",
    "\n",
    "-(1 / np.sqrt(k_val) - A) * k_val ** (-3.0 / 2)"
   ]
  },
  {
   "cell_type": "markdown",
   "id": "d9ad3a00-6ff1-401b-9874-7d162ecf18a0",
   "metadata": {},
   "source": [
    "And here's the value computed via the numerical integration of the variational equations:"
   ]
  },
  {
   "cell_type": "code",
   "execution_count": 7,
   "id": "408b98cd-5c97-446e-958b-1c782f3c64bd",
   "metadata": {},
   "outputs": [
    {
     "data": {
      "text/plain": [
       "[0.5015866697490922]"
      ]
     },
     "execution_count": 7,
     "metadata": {},
     "output_type": "execute_result"
    }
   ],
   "source": [
    "jac([k_val])"
   ]
  },
  {
   "cell_type": "markdown",
   "id": "64f775f0-4056-4484-ac52-e116875c19d5",
   "metadata": {},
   "source": [
    "Indeed, the two values agree to machine precision."
   ]
  }
 ],
 "metadata": {
  "kernelspec": {
   "display_name": "Python 3 (ipykernel)",
   "language": "python",
   "name": "python3"
  },
  "language_info": {
   "codemirror_mode": {
    "name": "ipython",
    "version": 3
   },
   "file_extension": ".py",
   "mimetype": "text/x-python",
   "name": "python",
   "nbconvert_exporter": "python",
   "pygments_lexer": "ipython3",
   "version": "3.10.13"
  }
 },
 "nbformat": 4,
 "nbformat_minor": 5
}
