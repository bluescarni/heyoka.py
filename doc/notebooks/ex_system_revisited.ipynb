{
 "cells": [
  {
   "cell_type": "markdown",
   "id": "f47a6c5a-1d07-42a6-b745-1e42f2bde196",
   "metadata": {},
   "source": [
    "(ex_system_rev)=\n",
    "\n",
    "# Common pitfalls\n",
    "\n",
    "## Long sums and products\n",
    "\n",
    "In heyoka.py sums can be constructed in two ways.\n",
    "\n",
    "The first method involves direct use of the {func}`heyoka.sum()` function:"
   ]
  },
  {
   "cell_type": "code",
   "execution_count": 8,
   "id": "1dce7809-6879-4236-9c43-e9bbc1e7808e",
   "metadata": {},
   "outputs": [
    {
     "data": {
      "text/plain": [
       "(x + y + z)"
      ]
     },
     "execution_count": 8,
     "metadata": {},
     "output_type": "execute_result"
    }
   ],
   "source": [
    "import heyoka as hy\n",
    "\n",
    "x, y, z = hy.make_vars(\"x\", \"y\", \"z\")\n",
    "\n",
    "hy.sum([x, y, z])"
   ]
  },
  {
   "cell_type": "markdown",
   "id": "78678e6b-be03-44f8-8656-2ba6c72d4df6",
   "metadata": {},
   "source": [
    "The {func}`heyoka.sum()` function takes in input a list of expressions and returns a multivariate summation of those expressions.\n",
    "\n",
    "The other way is to use the binary ``+`` operator:"
   ]
  },
  {
   "cell_type": "code",
   "execution_count": 9,
   "id": "e3e8d80e-daf7-473f-8f43-476a5e970ae1",
   "metadata": {},
   "outputs": [
    {
     "data": {
      "text/plain": [
       "((x + y) + z)"
      ]
     },
     "execution_count": 9,
     "metadata": {},
     "output_type": "execute_result"
    }
   ],
   "source": [
    "x + y + z"
   ]
  },
  {
   "cell_type": "markdown",
   "id": "35d2976f-8f75-4f1c-8cf4-f16d851bc2de",
   "metadata": {},
   "source": [
    "The binary operator is just a wrapper around the {func}`heyoka.sum()` function. However, as you can also infer from the screen output, writing ``x + y + z`` does not produce a ternary sum. Rather, it produces a binary sum in which the first term is another binary sum - that is, a *nested* sum. This is a consequence of how binary operators are parsed in Python.\n",
    "\n",
    "Deeply nested binary sums can be less efficient than flat multivariate sums. Thus, if you need to build long summations, the recommended way is to prepare a list of terms and then invoke {func}`heyoka.sum()`, rather the repeatedly invoking the ``+`` or ``+=`` operators."
   ]
  },
  {
   "cell_type": "code",
   "execution_count": 6,
   "id": "841ca740-f2fa-47b3-9e3a-a10833ea842d",
   "metadata": {},
   "outputs": [
    {
     "data": {
      "text/plain": [
       "(((((((((x_0 + x_1) + x_2) + x_3) + x_4) + x_5) + x_6) + x_7) + x_8) + x_9)"
      ]
     },
     "execution_count": 6,
     "metadata": {},
     "output_type": "execute_result"
    }
   ],
   "source": [
    "import heyoka as hy\n",
    "\n",
    "long_sum = hy.expression(0.0)\n",
    "\n",
    "# Suboptimal, avoid this if possible.\n",
    "for i in range(10):\n",
    "    long_sum += hy.expression(f\"x_{i}\")\n",
    "\n",
    "long_sum"
   ]
  },
  {
   "cell_type": "code",
   "execution_count": 7,
   "id": "ea216961-49af-4b4c-a1b8-71f9cdbcea54",
   "metadata": {},
   "outputs": [
    {
     "data": {
      "text/plain": [
       "(x_0 + x_1 + x_2 + x_3 + x_4 + x_5 + x_6 + x_7 + x_8 + x_9)"
      ]
     },
     "execution_count": 7,
     "metadata": {},
     "output_type": "execute_result"
    }
   ],
   "source": [
    "# Do this instead.\n",
    "terms = [hy.expression(f\"x_{i}\") for i in range(10)]\n",
    "long_sum = hy.sum(terms)\n",
    "\n",
    "long_sum"
   ]
  },
  {
   "cell_type": "markdown",
   "id": "9eeeb920-410d-4e27-ab68-3d76143c1017",
   "metadata": {},
   "source": [
    "```{note}\n",
    "\n",
    "The builtin {func}`sum()` function is just a wrapper around the binary ``+`` operator. Make sure to use {func}`heyoka.sum()` instead if you want to create a multivariate summation.\n",
    "\n",
    "```\n",
    "\n",
    "Everything that was said in this section about summations also applies to products (see the {func}`heyoka.prod()` function)."
   ]
  },
  {
   "cell_type": "code",
   "execution_count": 11,
   "id": "071f148a-f429-4c30-ab48-8b87845b4e98",
   "metadata": {},
   "outputs": [
    {
     "data": {
      "text/plain": [
       "(x * y * z)"
      ]
     },
     "execution_count": 11,
     "metadata": {},
     "output_type": "execute_result"
    }
   ],
   "source": [
    "from heyoka import prod, make_vars\n",
    "\n",
    "x, y, z = make_vars(\"x\", \"y\", \"z\")\n",
    "prod([x, y, z])"
   ]
  },
  {
   "cell_type": "markdown",
   "id": "9031efc0-1e1f-4035-b159-4ae9324d1463",
   "metadata": {},
   "source": [
    "## Powers\n",
    "\n",
    "Whereas previous versions of heyoka.py would automatically turn products into powers when appropriate, starting from heyoka.py 5.0.0 this automatic transformation is not applied any more.\n",
    "\n",
    "Powers are in general more efficient than products or nested multiplications, as they can be automatically-differentiated faster and, during evaluation, heyoka.py takes care behind the scenes of transforming small integral/rational powers into repeated multiplications.\n",
    "\n",
    "Thus, you should ensure that powers are created as powers:"
   ]
  },
  {
   "cell_type": "code",
   "execution_count": 14,
   "id": "dbe367c9-13e0-4124-b22b-4fb97444f774",
   "metadata": {},
   "outputs": [
    {
     "data": {
      "text/plain": [
       "((x * x) * x)"
      ]
     },
     "execution_count": 14,
     "metadata": {},
     "output_type": "execute_result"
    }
   ],
   "source": [
    "# Don't do this!\n",
    "x * x * x"
   ]
  },
  {
   "cell_type": "code",
   "execution_count": 15,
   "id": "60de148f-402e-4c11-aef8-1f959d306e3c",
   "metadata": {},
   "outputs": [
    {
     "data": {
      "text/plain": [
       "x**3.0000000000000000"
      ]
     },
     "execution_count": 15,
     "metadata": {},
     "output_type": "execute_result"
    }
   ],
   "source": [
    "# Write this instead.\n",
    "x**3"
   ]
  },
  {
   "cell_type": "markdown",
   "id": "014f138f-3767-420f-a485-c770f5e4c7b1",
   "metadata": {},
   "source": [
    "This guideline is most important when squaring, as in this special case the automatic differentiation rule is particularly efficient."
   ]
  }
 ],
 "metadata": {
  "kernelspec": {
   "display_name": "Python 3 (ipykernel)",
   "language": "python",
   "name": "python3"
  },
  "language_info": {
   "codemirror_mode": {
    "name": "ipython",
    "version": 3
   },
   "file_extension": ".py",
   "mimetype": "text/x-python",
   "name": "python",
   "nbconvert_exporter": "python",
   "pygments_lexer": "ipython3",
   "version": "3.10.13"
  }
 },
 "nbformat": 4,
 "nbformat_minor": 5
}
