{
 "cells": [
  {
   "cell_type": "markdown",
   "id": "f47a6c5a-1d07-42a6-b745-1e42f2bde196",
   "metadata": {},
   "source": [
    "(ex_system_rev)=\n",
    "\n",
    "# Using the expression system effectively\n",
    "\n",
    "## Long sums and products\n",
    "\n",
    "heyoka.py internally represents sums and products as multivariate functions. E.g., the expression $x+y+z$, is represented as a single function with 3 arguments $x$, $y$ and $z$, rather than two nested binary additions, i.e., $\\left( x + y \\right) + z$. While such a representation has the advantage of being well-suited for the implementation of several automatic simplifications, it results in quadratic complexity when iteratively building long sums and products via repeated additions and multiplications. For instance, consider the following code for the construction of the expression $x_0 + x_1 + \\ldots + x_9$:"
   ]
  },
  {
   "cell_type": "code",
   "execution_count": 1,
   "id": "1dce7809-6879-4236-9c43-e9bbc1e7808e",
   "metadata": {},
   "outputs": [
    {
     "data": {
      "text/plain": [
       "(x_0 + x_1 + x_2 + x_3 + x_4 + x_5 + x_6 + x_7 + x_8 + x_9)"
      ]
     },
     "execution_count": 1,
     "metadata": {},
     "output_type": "execute_result"
    }
   ],
   "source": [
    "import heyoka as hy\n",
    "\n",
    "long_sum = hy.expression(0.)\n",
    "\n",
    "# BAD: quadratic complexity.\n",
    "for i in range(10):\n",
    "    long_sum += hy.expression(f\"x_{i}\")\n",
    "    \n",
    "long_sum"
   ]
  },
  {
   "cell_type": "markdown",
   "id": "fe56c965-bed2-4534-8ae3-e25a7cd367be",
   "metadata": {},
   "source": [
    "While this code is correct, every time the addition operator is invoked in the loop a new copy of the arguments in ``long_sum`` is created, resulting in overall quadratic complexity. This behaviour can be avoided by preparing a list of terms for the summation and then inovking the ``heyoka.sum()`` function:"
   ]
  },
  {
   "cell_type": "code",
   "execution_count": 2,
   "id": "ec8ad4da-5640-4f9a-b528-d5f08093a41a",
   "metadata": {},
   "outputs": [
    {
     "data": {
      "text/plain": [
       "(x_0 + x_1 + x_2 + x_3 + x_4 + x_5 + x_6 + x_7 + x_8 + x_9)"
      ]
     },
     "execution_count": 2,
     "metadata": {},
     "output_type": "execute_result"
    }
   ],
   "source": [
    "terms = [hy.expression(f\"x_{i}\") for i in range(10)]\n",
    "# GOOD: linear complexity.\n",
    "long_sum = hy.sum(terms)\n",
    "\n",
    "long_sum"
   ]
  },
  {
   "cell_type": "markdown",
   "id": "1ceb40a1-7219-4538-9b14-45c6593b2198",
   "metadata": {},
   "source": [
    "Similarly for products:"
   ]
  },
  {
   "cell_type": "code",
   "execution_count": 3,
   "id": "fb8552eb-6fde-464b-be60-b03776eeb5c7",
   "metadata": {},
   "outputs": [
    {
     "data": {
      "text/plain": [
       "(x_0 * x_1 * x_2 * x_3 * x_4 * x_5 * x_6 * x_7 * x_8 * x_9)"
      ]
     },
     "execution_count": 3,
     "metadata": {},
     "output_type": "execute_result"
    }
   ],
   "source": [
    "terms = [hy.expression(f\"x_{i}\") for i in range(10)]\n",
    "# GOOD: linear complexity.\n",
    "long_prod = hy.prod(terms)\n",
    "\n",
    "long_prod"
   ]
  },
  {
   "cell_type": "markdown",
   "id": "3d9e1395-0347-42ce-b04b-549cb08386e3",
   "metadata": {},
   "source": [
    "## Automatic simplifications\n",
    "\n",
    "heyoka.py's expression system implements several simplifications/normalisations which are automatically applied when an expression is created. Constants, for instance, are automatically folded:"
   ]
  },
  {
   "cell_type": "code",
   "execution_count": 4,
   "id": "2b7632f4-0654-482d-aeb9-a9bc3b136acd",
   "metadata": {},
   "outputs": [
    {
     "data": {
      "text/plain": [
       "3.0000000000000000"
      ]
     },
     "execution_count": 4,
     "metadata": {},
     "output_type": "execute_result"
    }
   ],
   "source": [
    "hy.expression(1.) + hy.expression(2.)"
   ]
  },
  {
   "cell_type": "code",
   "execution_count": 5,
   "id": "eee7faee-cb27-49ea-959e-9a95d5f1de22",
   "metadata": {},
   "outputs": [
    {
     "data": {
      "text/plain": [
       "0.87758256189037276"
      ]
     },
     "execution_count": 5,
     "metadata": {},
     "output_type": "execute_result"
    }
   ],
   "source": [
    "hy.cos(hy.expression(.5))"
   ]
  },
  {
   "cell_type": "markdown",
   "id": "840250c8-a31c-45fe-86e8-7cc7f1c0d64f",
   "metadata": {},
   "source": [
    "Nested sums and products are automatically flattened:"
   ]
  },
  {
   "cell_type": "code",
   "execution_count": 6,
   "id": "46be310f-9842-42ac-9920-f4b2b850c94b",
   "metadata": {},
   "outputs": [
    {
     "data": {
      "text/plain": [
       "(1.0000000000000000 + x + y + z)"
      ]
     },
     "execution_count": 6,
     "metadata": {},
     "output_type": "execute_result"
    }
   ],
   "source": [
    "x, y, z = hy.make_vars(\"x\", \"y\", \"z\")\n",
    "\n",
    "((1. + x) + y) + z"
   ]
  },
  {
   "cell_type": "code",
   "execution_count": 7,
   "id": "c642f648-7651-40e6-8aa5-7bea4203e3a1",
   "metadata": {},
   "outputs": [
    {
     "data": {
      "text/plain": [
       "(2.0000000000000000 * x * y * z)"
      ]
     },
     "execution_count": 7,
     "metadata": {},
     "output_type": "execute_result"
    }
   ],
   "source": [
    "((2. * x) * y) * z"
   ]
  },
  {
   "cell_type": "markdown",
   "id": "12d6cb4a-7241-4880-9f7e-ffb8b5c702b6",
   "metadata": {},
   "source": [
    "Terms in sums and products are sorted according to a canonical order:"
   ]
  },
  {
   "cell_type": "code",
   "execution_count": 8,
   "id": "dec06463-9006-4e1b-9aa0-ba3881093c0a",
   "metadata": {},
   "outputs": [
    {
     "data": {
      "text/plain": [
       "(1.0000000000000000 + x + y)"
      ]
     },
     "execution_count": 8,
     "metadata": {},
     "output_type": "execute_result"
    }
   ],
   "source": [
    "y + x + 1."
   ]
  },
  {
   "cell_type": "markdown",
   "id": "2545c30b-e1e0-4184-a057-443d487c1c93",
   "metadata": {},
   "source": [
    "Sums of products with numerical coefficients are automatically gathered:"
   ]
  },
  {
   "cell_type": "code",
   "execution_count": 9,
   "id": "fc8036f4-ca64-4492-b48a-0e96e5665a5f",
   "metadata": {},
   "outputs": [
    {
     "data": {
      "text/plain": [
       "(5.0000000000000000 * x)"
      ]
     },
     "execution_count": 9,
     "metadata": {},
     "output_type": "execute_result"
    }
   ],
   "source": [
    "2.*x + 3.*x"
   ]
  },
  {
   "cell_type": "markdown",
   "id": "d778f860-155b-4db7-bca0-2e5248f10797",
   "metadata": {},
   "source": [
    "Similarly, products of exponentiations with numerical exponents are also gathered:"
   ]
  },
  {
   "cell_type": "code",
   "execution_count": 10,
   "id": "4db12188-d004-45de-8d29-00679f1c04a0",
   "metadata": {},
   "outputs": [
    {
     "data": {
      "text/plain": [
       "x**5.0000000000000000"
      ]
     },
     "execution_count": 10,
     "metadata": {},
     "output_type": "execute_result"
    }
   ],
   "source": [
    "x**2. * x**3."
   ]
  },
  {
   "cell_type": "markdown",
   "id": "3ecd94ba-7669-4f40-b964-621b14dee07e",
   "metadata": {},
   "source": [
    "The product of a numerical coefficient and a sum is automatically expanded:"
   ]
  },
  {
   "cell_type": "code",
   "execution_count": 11,
   "id": "dc07aa1c-d6a8-4c9a-880a-75c512a29375",
   "metadata": {},
   "outputs": [
    {
     "data": {
      "text/plain": [
       "((2.0000000000000000 * x) + (2.0000000000000000 * y) + (2.0000000000000000 * z))"
      ]
     },
     "execution_count": 11,
     "metadata": {},
     "output_type": "execute_result"
    }
   ],
   "source": [
    "2. * (x + y + z)"
   ]
  },
  {
   "cell_type": "markdown",
   "id": "616b88a8-0a1f-4403-a9aa-32bbc6363404",
   "metadata": {},
   "source": [
    "Nested exponentiations are flattened:"
   ]
  },
  {
   "cell_type": "code",
   "execution_count": 12,
   "id": "7305f480-db04-4565-9f4f-2db70b5a2a96",
   "metadata": {},
   "outputs": [
    {
     "data": {
      "text/plain": [
       "x**6.0000000000000000"
      ]
     },
     "execution_count": 12,
     "metadata": {},
     "output_type": "execute_result"
    }
   ],
   "source": [
    "(x**2.)**3."
   ]
  },
  {
   "cell_type": "markdown",
   "id": "032e6800-cd8b-48c0-a743-9845bde2ef03",
   "metadata": {},
   "source": [
    "Exponentiations of products with integral exponents are expanded:"
   ]
  },
  {
   "cell_type": "code",
   "execution_count": 13,
   "id": "0da8aa8d-c490-4041-9ee7-7df36cd155a4",
   "metadata": {},
   "outputs": [
    {
     "data": {
      "text/plain": [
       "(x**3.0000000000000000 * y**3.0000000000000000)"
      ]
     },
     "execution_count": 13,
     "metadata": {},
     "output_type": "execute_result"
    }
   ],
   "source": [
    "(x*y)**3."
   ]
  },
  {
   "cell_type": "markdown",
   "id": "dc6100ca-d4ce-42ad-bef3-ed50859ec6f3",
   "metadata": {},
   "source": [
    "These simplifcations are almost always automatically applied. One notable exception is the substitution function ``subs()``, which, by default, does not apply any automatic simplification:"
   ]
  },
  {
   "cell_type": "code",
   "execution_count": 14,
   "id": "dbfb4fa9-160d-4e49-bd43-28a8e6ebfb2c",
   "metadata": {},
   "outputs": [
    {
     "data": {
      "text/plain": [
       "(y + y)"
      ]
     },
     "execution_count": 14,
     "metadata": {},
     "output_type": "execute_result"
    }
   ],
   "source": [
    "hy.subs(x + y, {x : y})"
   ]
  },
  {
   "cell_type": "markdown",
   "id": "4351cab5-8ce5-407d-a990-6e0f8532e53d",
   "metadata": {},
   "source": [
    "As you can see, $y+y$ has not been simplified to $2y$. We can explicitly request the application of the automatic simplifications rules either by invoking the ``normalise()`` function:"
   ]
  },
  {
   "cell_type": "code",
   "execution_count": 15,
   "id": "993ef58f-1228-4a2d-b6fd-6c80e38dce2d",
   "metadata": {},
   "outputs": [
    {
     "data": {
      "text/plain": [
       "(2.0000000000000000 * y)"
      ]
     },
     "execution_count": 15,
     "metadata": {},
     "output_type": "execute_result"
    }
   ],
   "source": [
    "hy.normalise(hy.subs(x + y, {x : y}))"
   ]
  },
  {
   "cell_type": "markdown",
   "id": "c3310525-74af-4b67-ac39-fea0188555d3",
   "metadata": {},
   "source": [
    "Or, equivalently, by passing the ``normalise=True`` flag when invoking ``subs()``:"
   ]
  },
  {
   "cell_type": "code",
   "execution_count": 16,
   "id": "96c2a927-d579-4bd6-b99c-dc2efeddfe70",
   "metadata": {},
   "outputs": [
    {
     "data": {
      "text/plain": [
       "(2.0000000000000000 * y)"
      ]
     },
     "execution_count": 16,
     "metadata": {},
     "output_type": "execute_result"
    }
   ],
   "source": [
    "hy.subs(x + y, {x : y}, normalise=True)"
   ]
  },
  {
   "cell_type": "markdown",
   "id": "849e2fa3-6192-4978-857f-4c1e6e72988e",
   "metadata": {},
   "source": [
    "(ex_system_prev_simpl)=\n",
    "\n",
    "## Preventing automatic simplifications\n",
    "\n",
    "It can sometimes be desirable to prevent the simplifications automatically applied by the expression system. Consider, for instance, the vector-valued function\n",
    "\n",
    "$$\n",
    "\\boldsymbol{f}\\left(x, y, z\\right) = \\left(x + y + 1, x + y + z\\right).\n",
    "$$\n",
    "\n",
    "We can implement in heyoka.py a [compiled function](<./compiled_functions.ipynb>) for the fast evaluation of $\\boldsymbol{f}\\left(x, y, z\\right)$:"
   ]
  },
  {
   "cell_type": "code",
   "execution_count": 17,
   "id": "0312a937-a53b-4dc4-8570-274602e796f2",
   "metadata": {},
   "outputs": [
    {
     "name": "stdout",
     "output_type": "stream",
     "text": [
      "[2024-02-12 07:51:33.090] [heyoka] [info] heyoka logger initialised\n"
     ]
    }
   ],
   "source": [
    "f_cf = hy.cfunc([x+y+1., x+y+z], [x, y, z])"
   ]
  },
  {
   "cell_type": "markdown",
   "id": "b963daff-c7f5-47f2-95fc-ab3ad9788f45",
   "metadata": {},
   "source": [
    "Let us take a look at the decomposition of $\\boldsymbol{f}\\left(x, y, z\\right)$:"
   ]
  },
  {
   "cell_type": "code",
   "execution_count": 18,
   "id": "37ff3ef3-381d-4d9f-b95e-153c3a76f74c",
   "metadata": {},
   "outputs": [
    {
     "data": {
      "text/plain": [
       "[x, y, z, (1.0000000000000000 + u_0 + u_1), (u_0 + u_1 + u_2), u_3, u_4]"
      ]
     },
     "execution_count": 18,
     "metadata": {},
     "output_type": "execute_result"
    }
   ],
   "source": [
    "f_cf.dc"
   ]
  },
  {
   "cell_type": "markdown",
   "id": "2b44ccf6-f282-4c86-a87f-d01d48cbbcfd",
   "metadata": {},
   "source": [
    "As usual, the first three elements are the inputs of the function $\\left(x, y, z\\right)$, while the last two elements represent the outputs of the function (i.e., $u_3$ indicates that the first output is the expression at index 3 in the decomposition, while $u_4$ indicates that the second output is the expression at index 4 in the decomposition). The two elements in the middle of the decomposition are the components of $\\boldsymbol{f}\\left(x, y, z\\right)$, which happen to be already elementary subexpressions (and which are thus not decomposed any further).\n",
    "\n",
    "A visual inspection of $\\boldsymbol{f}\\left(x, y, z\\right)$ immediately shows how the expression $x+y$ appears in both components. heyoka.py's compiled functions are usually able to identify and remove repeated subexpressions from the decomposition in order to avoid repeated (and redundant) evaluations of the same subexpressions. However, in this specific case $x+y$ does not show up in the decomposition as a standalone subexpression, because it is part of the ternary sums $x + y + 1$ and $x + y + z$. One may be tempted to use brackets to isolate $x+y$ from the other terms of the sums, but this approach will not work due to the expression system automatically flattening nested sums (and essentially removing the extra brackets):"
   ]
  },
  {
   "cell_type": "code",
   "execution_count": 19,
   "id": "8ee77f9b-fc65-45e8-9ca2-364619b68a4c",
   "metadata": {},
   "outputs": [
    {
     "data": {
      "text/plain": [
       "(1.0000000000000000 + x + y)"
      ]
     },
     "execution_count": 19,
     "metadata": {},
     "output_type": "execute_result"
    }
   ],
   "source": [
    "(x + y) + 1."
   ]
  },
  {
   "cell_type": "markdown",
   "id": "935c0faf-a140-4145-8e0d-738d51f6f856",
   "metadata": {},
   "source": [
    "For these situations, heyoka.py provides a function called ``fix()`` that acts as a barrier to automatic simplifications. Let us try it:"
   ]
  },
  {
   "cell_type": "code",
   "execution_count": 20,
   "id": "de55c65d-0b29-41b7-958c-f1a4e89fc16b",
   "metadata": {},
   "outputs": [
    {
     "data": {
      "text/plain": [
       "(1.0000000000000000 + {(x + y)})"
      ]
     },
     "execution_count": 20,
     "metadata": {},
     "output_type": "execute_result"
    }
   ],
   "source": [
    "hy.fix(x + y) + 1."
   ]
  },
  {
   "cell_type": "markdown",
   "id": "e591c095-ae80-4d58-8826-8fa03e479378",
   "metadata": {},
   "source": [
    "The curly brackets indicate that $x+y$ has been fixed. Because $x+y$ is now wrapped in a ``fix()`` function, we are not dealing any more with a nested summation, and no automatic flattening is applied by heyoka.py.\n",
    "\n",
    "Let us try to compile a new version of $\\boldsymbol{f}\\left(x, y, z\\right)$ in which $x+y$ is fixed in both components:"
   ]
  },
  {
   "cell_type": "code",
   "execution_count": 21,
   "id": "bf70611f-c954-4ac4-a720-2160e3bd7a1c",
   "metadata": {},
   "outputs": [],
   "source": [
    "f_cf_fix = hy.cfunc([hy.fix(x+y)+1., hy.fix(x+y)+z],\n",
    "                        [x, y, z])"
   ]
  },
  {
   "cell_type": "markdown",
   "id": "e42a699d-e3bd-45ce-9cfb-29b0e782cb59",
   "metadata": {},
   "source": [
    "And let us take a look at the decomposition:"
   ]
  },
  {
   "cell_type": "code",
   "execution_count": 22,
   "id": "e47b4dd9-ef1c-4102-99dc-10742a88c7a4",
   "metadata": {},
   "outputs": [
    {
     "data": {
      "text/plain": [
       "[x, y, z, (u_0 + u_1), (1.0000000000000000 + u_3), (u_2 + u_3), u_4, u_5]"
      ]
     },
     "execution_count": 22,
     "metadata": {},
     "output_type": "execute_result"
    }
   ],
   "source": [
    "f_cf_fix.dc"
   ]
  },
  {
   "cell_type": "markdown",
   "id": "499ae98d-4859-472a-9bb4-aecb0f50f4b8",
   "metadata": {},
   "source": [
    "We can now see how in the decomposition $x + y$ is computed only once (as $u_0 + u_1$), and the result is then re-used in the computation of both outputs. As a result, the total number of floating-point operations necessary to evaluate $\\boldsymbol{f}\\left(x, y, z\\right)$ has been reduced from 4 (in ``f_cf``) to 3 (in ``f_cf_fix``).\n",
    "\n",
    "As another example, consider the scalar function\n",
    "\n",
    "$$\n",
    "g\\left(x, y, z\\right) = 2\\left(x+y+z\\right).\n",
    "$$\n",
    "\n",
    "If we implement this function in heyoka.py, the product is immediately expanded due to the automatic simplification rules:"
   ]
  },
  {
   "cell_type": "code",
   "execution_count": 23,
   "id": "4dec6a2c-8a18-4527-8866-5d01236d0350",
   "metadata": {},
   "outputs": [
    {
     "data": {
      "text/plain": [
       "((2.0000000000000000 * x) + (2.0000000000000000 * y) + (2.0000000000000000 * z))"
      ]
     },
     "execution_count": 23,
     "metadata": {},
     "output_type": "execute_result"
    }
   ],
   "source": [
    "2.0 * (x + y + z)"
   ]
  },
  {
   "cell_type": "markdown",
   "id": "8079c90b-6bdf-43e1-8687-f9af6ddcc326",
   "metadata": {},
   "source": [
    "Let us compile $g\\left(x, y, z\\right)$ and let us take a look at the decomposition:"
   ]
  },
  {
   "cell_type": "code",
   "execution_count": 24,
   "id": "11ec5786-0559-4cec-a527-2c0d860b425b",
   "metadata": {},
   "outputs": [
    {
     "data": {
      "text/plain": [
       "[x,\n",
       " y,\n",
       " z,\n",
       " (2.0000000000000000 * u_0),\n",
       " (2.0000000000000000 * u_1),\n",
       " (2.0000000000000000 * u_2),\n",
       " (u_3 + u_4 + u_5),\n",
       " u_6]"
      ]
     },
     "execution_count": 24,
     "metadata": {},
     "output_type": "execute_result"
    }
   ],
   "source": [
    "g_cf = hy.cfunc([2.0 * (x + y + z)], [x, y, z])\n",
    "g_cf.dc"
   ]
  },
  {
   "cell_type": "markdown",
   "id": "12d7c97e-c465-4404-9a5c-03dc0c8378aa",
   "metadata": {},
   "source": [
    "Clearly, this is suboptimal as 3 multiplications are needed for the evaluation instead of only 1. Let us try to ``fix()`` $\\left( x + y + z \\right)$ in order to prevent the automatic expansion:"
   ]
  },
  {
   "cell_type": "code",
   "execution_count": 25,
   "id": "bc64b1d8-6b08-4d81-95d1-d8314a966aed",
   "metadata": {},
   "outputs": [
    {
     "data": {
      "text/plain": [
       "[x, y, z, (u_0 + u_1 + u_2), (2.0000000000000000 * u_3), u_4]"
      ]
     },
     "execution_count": 25,
     "metadata": {},
     "output_type": "execute_result"
    }
   ],
   "source": [
    "g_cf_fix = hy.cfunc([2.0 * hy.fix(x + y + z)],\n",
    "                        [x, y, z])\n",
    "g_cf_fix.dc"
   ]
  },
  {
   "cell_type": "markdown",
   "id": "cfdaeebe-c0f3-4487-95c9-7767275297ef",
   "metadata": {},
   "source": [
    "Indeed, the expansion has been prevented and as a result the total number of operations necessary to evaluate $g\\left(x, y, z\\right)$ has been reduced from 5 to 3.\n",
    "\n",
    "In addition to ``fix()``, the closely-related ``fix_nn()`` function is also available. ``fix_nn()`` will fix an expression only if it is not a number:"
   ]
  },
  {
   "cell_type": "code",
   "execution_count": 26,
   "id": "c4df32cc-ec5f-4b59-8802-a097eca57a0a",
   "metadata": {},
   "outputs": [
    {
     "data": {
      "text/plain": [
       "cos({0.50000000000000000})"
      ]
     },
     "execution_count": 26,
     "metadata": {},
     "output_type": "execute_result"
    }
   ],
   "source": [
    "# fix() prevents constant folding.\n",
    "hy.cos(hy.fix(hy.expression(.5)))"
   ]
  },
  {
   "cell_type": "code",
   "execution_count": 27,
   "id": "9ced9966-a759-4688-8145-70194846bb97",
   "metadata": {},
   "outputs": [
    {
     "data": {
      "text/plain": [
       "0.87758256189037276"
      ]
     },
     "execution_count": 27,
     "metadata": {},
     "output_type": "execute_result"
    }
   ],
   "source": [
    "# fix_nn() allows constant folding.\n",
    "hy.cos(hy.fix_nn(hy.expression(.5)))"
   ]
  },
  {
   "cell_type": "markdown",
   "id": "4e283bf6-0873-45a0-aff4-1586116570d4",
   "metadata": {},
   "source": [
    "The ``unfix()`` function can be used to remove all instances of ``fix()`` within an expression:"
   ]
  },
  {
   "cell_type": "code",
   "execution_count": 28,
   "id": "a449f18f-8fdc-4b5e-a439-62ddb25ad991",
   "metadata": {},
   "outputs": [
    {
     "data": {
      "text/plain": [
       "(2.0000000000000000 * (x + y + z))"
      ]
     },
     "execution_count": 28,
     "metadata": {},
     "output_type": "execute_result"
    }
   ],
   "source": [
    "ex = 2.0 * hy.fix(x + y + z)\n",
    "\n",
    "# Unfix ex.\n",
    "ex_unfix = hy.unfix(ex)\n",
    "ex_unfix"
   ]
  },
  {
   "cell_type": "markdown",
   "id": "9f9aff27-69e8-4edc-bece-da25a4967890",
   "metadata": {},
   "source": [
    "Note how ``unfix()`` only removes the instances of ``fix()`` within the expression tree, but it does not re-apply the automatic simplifications. Automatic simplifications can be applied via the ``normalise()`` function:"
   ]
  },
  {
   "cell_type": "code",
   "execution_count": 29,
   "id": "724d746c-b513-401b-93af-25c386351705",
   "metadata": {},
   "outputs": [
    {
     "data": {
      "text/plain": [
       "((2.0000000000000000 * x) + (2.0000000000000000 * y) + (2.0000000000000000 * z))"
      ]
     },
     "execution_count": 29,
     "metadata": {},
     "output_type": "execute_result"
    }
   ],
   "source": [
    "hy.normalise(ex_unfix)"
   ]
  }
 ],
 "metadata": {
  "kernelspec": {
   "display_name": "Python 3 (ipykernel)",
   "language": "python",
   "name": "python3"
  },
  "language_info": {
   "codemirror_mode": {
    "name": "ipython",
    "version": 3
   },
   "file_extension": ".py",
   "mimetype": "text/x-python",
   "name": "python",
   "nbconvert_exporter": "python",
   "pygments_lexer": "ipython3",
   "version": "3.11.7"
  }
 },
 "nbformat": 4,
 "nbformat_minor": 5
}
