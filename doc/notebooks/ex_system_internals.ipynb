{
 "cells": [
  {
   "cell_type": "markdown",
   "id": "0819c096-17e5-4fb3-8056-7f2a77974ca3",
   "metadata": {},
   "source": [
    "(ex_system_internals)=\n",
    "\n",
    "# Supporting large computational graphs\n",
    "\n",
    "## Reference semantics and shared (sub)expressions\n",
    "\n",
    "The first and most important thing to understand about heyoka.py's expressions is that they implement so-called *reference semantics*. That is, an expression is essentially a handle to an underlying object, and copying the expression will not perform an actual copy, rather it will return a new reference to the same underlying object.\n",
    "\n",
    "Before you ask \"isn't this how all Python objects work?\", let me immediately point out that heyoka.py's expressions are exposed from C++ and that reference semantics is implemented all the way down into the C++ layer. As a concrete example of what this means, consider the following simple expression:"
   ]
  },
  {
   "cell_type": "code",
   "execution_count": 1,
   "id": "f4825524-a60e-4180-b16f-85f20678ddb5",
   "metadata": {},
   "outputs": [],
   "source": [
    "import heyoka as hy\n",
    "\n",
    "# Create a couple of variables.\n",
    "x, y = hy.make_vars(\"x\", \"y\")\n",
    "\n",
    "# Create a simple expression.\n",
    "ex = x + y"
   ]
  },
  {
   "cell_type": "markdown",
   "id": "bfdb9c01-e36d-43a9-bf0f-6316f317b415",
   "metadata": {},
   "source": [
    "If we attempt to copy ``ex`` via the standard {func}`~copy.copy()` function, we will get nominally a new Python object, as we can see by querying the {func}`id()`:"
   ]
  },
  {
   "cell_type": "code",
   "execution_count": 2,
   "id": "7be5a6fe-612b-45a4-b037-c5a87023d1a1",
   "metadata": {},
   "outputs": [
    {
     "name": "stdout",
     "output_type": "stream",
     "text": [
      "Original id: 139990501646368\n",
      "Copy id    : 139990421127472\n"
     ]
    }
   ],
   "source": [
    "from copy import copy\n",
    "\n",
    "# Make a \"copy\" of ex.\n",
    "ex_copy = copy(ex)\n",
    "\n",
    "# Print the ids.\n",
    "print(f\"Original id: {id(ex)}\")\n",
    "print(f\"Copy id    : {id(ex_copy)}\")"
   ]
  },
  {
   "cell_type": "markdown",
   "id": "6f202955-a4fd-4bc8-9baf-e53f2abeba81",
   "metadata": {},
   "source": [
    "However, both ``ex`` and ``ex_copy`` are in reality pointing to the **same** underlying C++ object which is shared among the two Python objects.\n",
    "\n",
    "We can use ``ex`` as a building block to create more complicated expressions, e.g.:"
   ]
  },
  {
   "cell_type": "code",
   "execution_count": 3,
   "id": "ea7d364f-7c3e-400c-8d74-81fbd508a9f0",
   "metadata": {},
   "outputs": [
    {
     "data": {
      "text/plain": [
       "(sin((x + y)) + cos((x + y)))"
      ]
     },
     "execution_count": 3,
     "metadata": {},
     "output_type": "execute_result"
    }
   ],
   "source": [
    "a = hy.sin(ex) + hy.cos(ex)\n",
    "a"
   ]
  },
  {
   "cell_type": "markdown",
   "id": "02352463-a436-40aa-a126-4aae27e4df71",
   "metadata": {},
   "source": [
    "Because of the use of reference semantics, this expression will not contain two separate copies of $x + y$. Rather, it will contain two *references* to the original expression ``ex``.\n",
    "\n",
    "If, on the other hand, we do **not** re-use ``ex`` and write instead"
   ]
  },
  {
   "cell_type": "code",
   "execution_count": 4,
   "id": "209c456c-da66-4af5-b1fa-71a26528745d",
   "metadata": {},
   "outputs": [
    {
     "data": {
      "text/plain": [
       "(sin((x + y)) + cos((x + y)))"
      ]
     },
     "execution_count": 4,
     "metadata": {},
     "output_type": "execute_result"
    }
   ],
   "source": [
    "b = hy.sin(x + y) + hy.cos(x + y)\n",
    "b"
   ]
  },
  {
   "cell_type": "markdown",
   "id": "93c378d3-4235-4f88-9849-d8dc9f4b7a1a",
   "metadata": {},
   "source": [
    "we get an expression ``b`` which is mathematically equivalent to ``a`` but which contains two separate copies of $x + y$, rather than two references to ``ex``. This leads to a couple of very important consequences.\n",
    "\n",
    "First of all, the memory footprint of ``b`` will be larger than ``a``'s because it is (wastefully) storing two copies of the same subexpression $x + y$ (rather than storing two references to the same underlying expression).\n",
    "\n",
    "Secondly, heyoka.py's symbolic manipulation routines are coded to keep track of shared subexpressions with the goal of avoiding redundant computations. For instance, let us say we want to replace $x$ with $x^2 - 1$ in the expression ``a`` via\n",
    "the {func}`~heyoka.subs()` function:"
   ]
  },
  {
   "cell_type": "code",
   "execution_count": 5,
   "id": "af956e09-f9a5-455f-b410-507de6297fd1",
   "metadata": {},
   "outputs": [
    {
     "data": {
      "text/plain": [
       "(sin(((x**2.0000000000000000 - 1.0000000000000000) + y)) + cos(((x**2.0000000000000000 - 1.0000000000000000) + y)))"
      ]
     },
     "execution_count": 5,
     "metadata": {},
     "output_type": "execute_result"
    }
   ],
   "source": [
    "hy.subs(a, {x: x**2 - 1.0})"
   ]
  },
  {
   "cell_type": "markdown",
   "id": "12a2db4c-e49b-4e3a-b697-ac452c3447f5",
   "metadata": {},
   "source": [
    "In order to perform the substitution, the {func}`~heyoka.subs()` function needs to traverse the expression tree of ``a``. When it encounters for the **first** time the ``ex`` subexpression, it will:\n",
    "\n",
    "1. perform the substitution, producing as a result $x^2-1+y$,\n",
    "2. record in an internal bookkeeping structure that performing the substitution on the subexpression ``ex`` produced the result $x^2-1+y$.\n",
    "\n",
    "Crucially, the **second** time ``ex`` is encountered during the traversal of the expression tree, the {func}`~heyoka.subs()` function will query the bookkeeping structure and detect that the result of the substitution on ``ex`` has already been computed, and it will fetch the cached result of the substitution instead of (wastefully) perform again the same computation. Thus, not only we avoided a redundant calculation, but also the two $x^2-1+y$ subexpressions appearing in the final result are pointing to the same underlying object (rather than being two separate copies of identical subexpressions).\n",
    "\n",
    "On the other hand, when we apply the same substitution on ``b`` we get:"
   ]
  },
  {
   "cell_type": "code",
   "execution_count": 6,
   "id": "b9b07737-c121-4a15-8efd-1fe54962cae1",
   "metadata": {},
   "outputs": [
    {
     "data": {
      "text/plain": [
       "(sin(((x**2.0000000000000000 - 1.0000000000000000) + y)) + cos(((x**2.0000000000000000 - 1.0000000000000000) + y)))"
      ]
     },
     "execution_count": 6,
     "metadata": {},
     "output_type": "execute_result"
    }
   ],
   "source": [
    "hy.subs(b, {x: x**2 - 1.0})"
   ]
  },
  {
   "cell_type": "markdown",
   "id": "e4a1cf90-0b28-41f2-8cce-a4fd0935d44d",
   "metadata": {},
   "source": [
    "That is, the result is mathematically identical (obviously), but, because there is no internal subexpression sharing, the substitution $x \\rightarrow x^2 - 1$ had to be performed twice (rather than once) and the two $x^2-1+y$ subexpressions appearing in the final result are two separate copies of identical subexpressions.\n",
    "\n",
    "As a final piece of information, it is important to emphasise how subexpression sharing is not limited to single expressions, but it also happens across multiple expressions. For instance, consider the following vector expression consisting of the two components $\\sin\\left( x + y \\right) + \\cos\\left( x + y \\right)$ and $1 + \\mathrm{e}^{x+y}$:"
   ]
  },
  {
   "cell_type": "code",
   "execution_count": 7,
   "id": "4fea40cc-c69c-455d-a9e7-2bb66b335d28",
   "metadata": {},
   "outputs": [
    {
     "data": {
      "text/plain": [
       "[(sin((x + y)) + cos((x + y))), (1.0000000000000000 + exp((x + y)))]"
      ]
     },
     "execution_count": 7,
     "metadata": {},
     "output_type": "execute_result"
    }
   ],
   "source": [
    "vec_ex = [hy.sin(ex) + hy.cos(ex), 1.0 + hy.exp(ex)]\n",
    "vec_ex"
   ]
  },
  {
   "cell_type": "markdown",
   "id": "bab0e47f-f124-4769-b7c8-08e63096e681",
   "metadata": {},
   "source": [
    "Here the subexpression ``ex`` is shared among the two components of ``vec_ex``, which both contain references to ``ex`` (rather than storing their own separate copies of ``ex``). When we invoke the {func}`~heyoka.subs()` function on ``vec_ex``, the internal bookkeeping structure will be initialised during the traversal of the first component of ``vec_ex``, but it will **also** persist for the traversal of the second component of ``vec_ex``:"
   ]
  },
  {
   "cell_type": "code",
   "execution_count": 8,
   "id": "399c622b-f25d-49ac-b283-6ac3a08347a1",
   "metadata": {},
   "outputs": [
    {
     "data": {
      "text/plain": [
       "[(sin(((x**2.0000000000000000 - 1.0000000000000000) + y)) + cos(((x**2.0000000000000000 - 1.0000000000000000) + y))),\n",
       " (1.0000000000000000 + exp(((x**2.0000000000000000 - 1.0000000000000000) + y)))]"
      ]
     },
     "execution_count": 8,
     "metadata": {},
     "output_type": "execute_result"
    }
   ],
   "source": [
    "hy.subs(vec_ex, {x: x**2 - 1.0})"
   ]
  },
  {
   "cell_type": "markdown",
   "id": "005beb86-17c1-4003-b315-d10cc36d46e5",
   "metadata": {},
   "source": [
    "Thus, the second component of the result of the substitution contains a reference to the expression $x^2-1+y$ which is shared with the first component of the result.\n",
    "\n",
    "This is a point which is very important and worth repeating: the fact that heyoka.py's symbolic manipulation functions (such as {func}`~heyoka.subs()`) can accept in input both scalar and vector expressions is not only a convenience that reduces typing, it is also crucial in order to ensure maximal subexpression sharing in the result. If you can, you should **always** use a symbolic manipulation function directly on a vector expression, rather than operating on one component at a time.\n",
    "\n",
    "```python\n",
    "# Every time you do this, a kitten dies.\n",
    "# Please **don't** do this.\n",
    ">>> res = [hy.subs(ex, {x: x**2 - 1.}) for ex in vec_ex]\n",
    "\n",
    "# Do this instead.\n",
    ">>> res = hy.subs(vec_ex, {x: x**2 - 1.})\n",
    "\n",
    "# Also, **don't** do this.\n",
    ">>> r = s[:3]\n",
    ">>> v = s[3:]\n",
    ">>> new_r = subs(r, {x: x**2 - 1.})\n",
    ">>> new_v = subs(v, {x: x**2 - 1.})\n",
    "\n",
    "# Do this instead.\n",
    ">>> new_s = subs(s, {x: x**2 - 1.})\n",
    ">>> new_r = new_s[:3]\n",
    ">>> new_v = new_s[3:]\n",
    "```"
   ]
  },
  {
   "cell_type": "markdown",
   "id": "ba873eb5-e1a4-4a70-890a-b6306c80a863",
   "metadata": {},
   "source": [
    "### Consequences for large computational graphs\n",
    "\n",
    "These details are, most of the time, of little consequence and they may just result in small, hardly-detectable inefficiencies. The situation however changes when creating large computational graphs, especially if they are constructed by iteratively feeding expressions as arguments to other expressions.\n",
    "\n",
    "As a motivating example, we can consider the computational graphs of [feed-forward neural networks (FFNN)](./ffnn.ipynb). In an FFNN, the result of the inference in each layer is fed to the next layer, giving rise to a computational graph that explodes in exponentail fashion as one increases the number of layers. We can begin with a tiny network  consisting of two inputs, no hidden layers and two outputs:"
   ]
  },
  {
   "cell_type": "code",
   "execution_count": 9,
   "id": "9595e411-7219-42fa-9e7b-da2644847ddb",
   "metadata": {},
   "outputs": [
    {
     "data": {
      "text/plain": [
       "[tanh(((p0 * x) + (p1 * y) + p4)), tanh(((p2 * x) + (p3 * y) + p5))]"
      ]
     },
     "execution_count": 9,
     "metadata": {},
     "output_type": "execute_result"
    }
   ],
   "source": [
    "hy.model.ffnn(inputs=[x, y], nn_hidden=[], n_out=2, activations=[hy.tanh])"
   ]
  },
  {
   "cell_type": "markdown",
   "id": "dc3db65e-486e-4069-a68e-41209cb4b56c",
   "metadata": {},
   "source": [
    "As we increase the number of layers, we can see that the computational graphs quickly grow more complicated:"
   ]
  },
  {
   "cell_type": "code",
   "execution_count": 10,
   "id": "4bb47a46-b789-48f5-90fb-b8320fbe7298",
   "metadata": {},
   "outputs": [
    {
     "data": {
      "text/plain": [
       "[tanh(((p4 * tanh(((p0 * x) + (p1 * y) + p8))) + (p5 * tanh(((p2 * x) + (p3 * y) + p9))) + p10)),\n",
       " tanh(((p6 * tanh(((p0 * x) + (p1 * y) + p8))) + (p7 * tanh(((p2 * x) + (p3 * y) + p9))) + p11))]"
      ]
     },
     "execution_count": 10,
     "metadata": {},
     "output_type": "execute_result"
    }
   ],
   "source": [
    "hy.model.ffnn(inputs=[x, y], nn_hidden=[2], n_out=2, activations=[hy.tanh, hy.tanh])"
   ]
  },
  {
   "cell_type": "code",
   "execution_count": 11,
   "id": "7e170e6f-8ecd-4a93-9b99-8917e975e21a",
   "metadata": {},
   "outputs": [
    {
     "data": {
      "text/plain": [
       "[tanh(((p8 * tanh(((p4 * tanh(((p0 * x) + (p1 * y) + p12))) + (p5 * tanh(((p2 * x) + (p3 * y) + p13))) + p14))) + (p9 * tanh(((p6 * tanh(((p0 * x) + (p1 * y) + p12))) + (p7 * tanh(((p2 * x) + (p3 * y) + p13))) + p15))) + p16)),\n",
       " tanh(((p10 * tanh(((p4 * tanh(((p0 * x) + (p1 * y) + p12))) + (p5 * tanh(((p2 * x) + (p3 * y) + p13))) + p14))) + (p11 * tanh(((p6 * tanh(((p0 * x) + (p1 * y) + p12))) + (p7 * tanh(((p2 * x) + (p3 * y) + p13))) + p15))) + p17))]"
      ]
     },
     "execution_count": 11,
     "metadata": {},
     "output_type": "execute_result"
    }
   ],
   "source": [
    "hy.model.ffnn(\n",
    "    inputs=[x, y], nn_hidden=[2, 2], n_out=2, activations=[hy.tanh, hy.tanh, hy.tanh]\n",
    ")"
   ]
  },
  {
   "cell_type": "markdown",
   "id": "51be0512-5048-4b55-ae74-735aa97eb6ad",
   "metadata": {},
   "source": [
    "In the last example we can recognise subexpressions that occurr multiple time in the computational graphs, such as ``(p2 * x) + (p3 * y) + p13``. These are the outputs of one layer being fed to the next one.\n",
    "\n",
    "We can quantify the growth in complexity by looking at how the size (i.e., the number of nodes) of the computational graphs evolves with the number of layers:"
   ]
  },
  {
   "cell_type": "code",
   "execution_count": 12,
   "id": "2935c043-57fa-40e6-89ad-ca13ba41a034",
   "metadata": {},
   "outputs": [
    {
     "name": "stdout",
     "output_type": "stream",
     "text": [
      "Size of the outputs for 0 hidden layers: [9, 9]\n",
      "Size of the outputs for 1 hidden layers: [25, 25]\n",
      "Size of the outputs for 2 hidden layers: [57, 57]\n",
      "Size of the outputs for 3 hidden layers: [121, 121]\n",
      "Size of the outputs for 4 hidden layers: [249, 249]\n",
      "Size of the outputs for 5 hidden layers: [505, 505]\n"
     ]
    }
   ],
   "source": [
    "for n_hlayers in range(0, 6):\n",
    "    ffnn = hy.model.ffnn(\n",
    "        inputs=[x, y],\n",
    "        nn_hidden=[2] * n_hlayers,\n",
    "        n_out=2,\n",
    "        activations=[hy.tanh] * (n_hlayers + 1),\n",
    "    )\n",
    "    print(\n",
    "        f\"Size of the outputs for {n_hlayers} hidden layers: {[len(_) for _ in ffnn]}\"\n",
    "    )"
   ]
  },
  {
   "cell_type": "markdown",
   "id": "e6a20264-bc89-4e64-840b-0ae1f6474f53",
   "metadata": {},
   "source": [
    "The size of the outputs roughly doubles every time we add a new layer. Let us see what happens with 32 hidden layers:"
   ]
  },
  {
   "cell_type": "code",
   "execution_count": 13,
   "id": "f0b863c6-add7-41bf-b53d-3bec387022b9",
   "metadata": {},
   "outputs": [
    {
     "name": "stdout",
     "output_type": "stream",
     "text": [
      "Size of the outputs for 32 hidden layers: [68719476729, 68719476729]\n"
     ]
    }
   ],
   "source": [
    "n_hlayers = 32\n",
    "ffnn = hy.model.ffnn(\n",
    "    inputs=[x, y],\n",
    "    nn_hidden=[2] * n_hlayers,\n",
    "    n_out=2,\n",
    "    activations=[hy.tanh] * (n_hlayers + 1),\n",
    ")\n",
    "print(f\"Size of the outputs for {n_hlayers} hidden layers: {[len(_) for _ in ffnn]}\")"
   ]
  },
  {
   "cell_type": "markdown",
   "id": "dbfa3ee5-5015-4d96-a52d-3641ef4941af",
   "metadata": {},
   "source": [
    "The graphs have now exploded to a size of $\\sim 10^{10}$ -- yet they were created almost instantly and, if you check, you will see that their memory footprint isn't anywhere near 10GB.\n",
    "\n",
    "This efficiency is due to the fact that the FFNN constructor is careful to compute the output for each neuron only once and then re-use it in the computation of the output of the next layer, so that subexpression sharing is maximised. Because of this high degree of subexpression sharing, operations on FFNNs are efficient despite the large size of the computational graphs.\n",
    "\n",
    "For instance, if we want to perform inference, we can [compile an FFNN](./compiled_functions.ipynb). Subexpression sharing allows for an efficient process of [common subexpression elimination (CSE)](https://en.wikipedia.org/wiki/Common_subexpression_elimination), and we can show that, as expected, the computational complexity of inference end up scaling linearly with the number of layers:"
   ]
  },
  {
   "cell_type": "code",
   "execution_count": 15,
   "id": "670c55e9-b810-4c18-a1a0-72b91c388b08",
   "metadata": {},
   "outputs": [
    {
     "name": "stdout",
     "output_type": "stream",
     "text": [
      "Size of the decomposition for 0 hidden layers: 8\n",
      "Size of the decomposition for 1 hidden layers: 16\n",
      "Size of the decomposition for 2 hidden layers: 24\n",
      "Size of the decomposition for 3 hidden layers: 32\n",
      "Size of the decomposition for 4 hidden layers: 40\n",
      "Size of the decomposition for 5 hidden layers: 48\n",
      "Size of the decomposition for 6 hidden layers: 56\n",
      "Size of the decomposition for 7 hidden layers: 64\n",
      "Size of the decomposition for 8 hidden layers: 72\n",
      "Size of the decomposition for 9 hidden layers: 80\n"
     ]
    }
   ],
   "source": [
    "for n_hlayers in range(0, 10):\n",
    "    ffnn = hy.model.ffnn(\n",
    "        inputs=[x, y],\n",
    "        nn_hidden=[2] * n_hlayers,\n",
    "        n_out=2,\n",
    "        activations=[hy.tanh] * (n_hlayers + 1),\n",
    "    )\n",
    "    # Create a compiled function from the FFNN.\n",
    "    cf = hy.cfunc(ffnn, [x, y])\n",
    "    print(f\"Size of the decomposition for {n_hlayers} hidden layers: {len(cf.dc) - 4}\")"
   ]
  },
  {
   "cell_type": "markdown",
   "id": "49cbf4e1-925e-4992-8986-4cad2050cd16",
   "metadata": {},
   "source": [
    "As a reminder, the decomposition of a compiled function is the sequence of elementary operations the original function has been broken into."
   ]
  }
 ],
 "metadata": {
  "kernelspec": {
   "display_name": "Python 3 (ipykernel)",
   "language": "python",
   "name": "python3"
  },
  "language_info": {
   "codemirror_mode": {
    "name": "ipython",
    "version": 3
   },
   "file_extension": ".py",
   "mimetype": "text/x-python",
   "name": "python",
   "nbconvert_exporter": "python",
   "pygments_lexer": "ipython3",
   "version": "3.10.13"
  }
 },
 "nbformat": 4,
 "nbformat_minor": 5
}
