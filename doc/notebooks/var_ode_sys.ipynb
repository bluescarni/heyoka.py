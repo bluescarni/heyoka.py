{
 "cells": [
  {
   "cell_type": "markdown",
   "id": "e916542d-c443-4403-bd35-e56122b2823b",
   "metadata": {},
   "source": [
    "(var_ode_sys)=\n",
    "\n",
    "# Variational ODEs\n",
    "\n",
    "```{versionadded} 5.0.0\n",
    "\n",
    "```\n",
    "\n",
    "Consider a system of differential equations in the standard form\n",
    "\n",
    "$$\n",
    "\\frac{d\\boldsymbol{x}}{dt} = f\\left(\\boldsymbol{x}, \\boldsymbol{\\alpha}, t\\right),\n",
    "$$\n",
    "\n",
    "where $\\boldsymbol{x}$ is the vector of state variables and $\\boldsymbol{\\alpha}$ a vector of parameters. For a given set of initial conditions $\\boldsymbol{x}_0$ at time $t_0$, the solution of this system will be\n",
    "\n",
    "$$\n",
    "\\boldsymbol{x} = \\boldsymbol{x}\\left(t, \\boldsymbol{x}_0, t_0, \\boldsymbol{\\alpha} \\right).\n",
    "$$\n",
    "\n",
    "When solving numerically initial-value problems, it is often useful to compute not only the solution, but also its partial derivatives with respect to the initial conditions and/or the parameters. The derivatives with respect to the initial conditions, for instance, are needed for the computation of [chaos indicators](https://en.wikipedia.org/wiki/Lyapunov_exponent) and for [uncertainty propagation](https://en.wikipedia.org/wiki/Propagation_of_uncertainty), and they can also be used to propagate a small neighborhood in phase space around the initial conditions. The derivatives with respect to the parameters of the system are required when formulating optimisation and inversion problems such as orbit determination, trajectory optimisation and training of neural networks in [neural ODEs](./NeuralODEs_I.ipynb).\n",
    "\n",
    "There are two main methods for the computation of the partial derivatives. The first one is based on the application of automatic differentiation (AD) techniques directly to the numerical integration algorithm. This can be done either by replacing the algebra of floating-point numbers with the algebra of (generalised) [dual numbers](https://en.wikipedia.org/wiki/Dual_number) (aka truncated Taylor polynomials), or via [differentiable programming](https://en.wikipedia.org/wiki/Differentiable_programming) techniques. The former approach is used by libraries such as [pyaudi](https://github.com/darioizzo/audi), [desolver](https://github.com/Microno95/desolver) and [TaylorIntegration.jl](https://docs.sciml.ai/TaylorIntegration/stable/jet_transport/), while differentiable programming is popular in the machine learning community with projects such as [PyTorch](https://pytorch.org/), [JAX](https://jax.readthedocs.io/en/latest/) and [TensorFlow](https://www.tensorflow.org/). Differentiable programming is also popular in the [Julia programming language](https://en.wikipedia.org/wiki/Julia_(programming_language)) community.\n",
    "\n",
    "The second method is based on the formulation of the *variational equations*, that is, differential equations satisfied by the partial derivatives which are added to and solved together with the original ODEs. For instance, we can formulate differential equations for the first-order derivatives with respect to the initial conditions via elementary calculus:\n",
    "\n",
    "$$\n",
    "\\frac{d}{dt}\\frac{\\partial \\boldsymbol{x}}{\\partial \\boldsymbol{x}_0} = \\frac{\\partial }{\\partial \\boldsymbol{x}_0} \\frac{d \\boldsymbol{x}}{dt} = \\frac{\\partial f}{\\partial \\boldsymbol{x}_0} = \\frac{\\partial f}{\\partial \\boldsymbol{x}} \\frac{\\partial \\boldsymbol{x}}{\\partial \\boldsymbol{x}_0}.\n",
    "$$\n",
    "\n",
    "The variational ODE system then reads\n",
    "\n",
    "$$\n",
    "\\begin{cases}\n",
    "\\frac{d\\boldsymbol{x}}{dt} = f\\left(\\boldsymbol{x}, \\boldsymbol{\\alpha}, t\\right) \\\\\n",
    "\\frac{d}{dt}\\frac{\\partial \\boldsymbol{x}}{\\partial \\boldsymbol{x}_0} = \\frac{\\partial f}{\\partial \\boldsymbol{x}} \\frac{\\partial \\boldsymbol{x}}{\\partial \\boldsymbol{x}_0}\n",
    "\\end{cases},\n",
    "$$\n",
    "\n",
    "and the original state vector $\\boldsymbol{x}$ has been extended to include the variational state variables $\\frac{\\partial \\boldsymbol{x}}{\\partial \\boldsymbol{x}_0}$.\n",
    "\n",
    "heyoka.py adopts the variational approach for the computation of the partial derivatives, supporting the formulation of variational ODEs at arbitrary differentiation orders and with respect to any combination of initial conditions, parameters and initial time. In this tutorial, we will explore this feature and show a couple of interesting use cases.\n",
    "\n",
    "Before beginning, however, let us point out for clarity (and for the benefit of the search engines indexing this page) that in the scientific literature there is a bewildering variety of different names and monikers used when discussing partial derivatives of ODEs and their applications. Here is a (partial) list:\n",
    "\n",
    "- in the astrodynamics community, the term *differential algebra* is often used to refer to the computation of partial derivatives via truncated Taylor polynomials (e.g., see [this paper](https://link.springer.com/article/10.1007/s10569-010-9283-5)). The term actually originates from the community of beam physics, where it has been used in the context of the theoretical modelling of particle accelerators since the 90s (e.g., see [this review](https://www.bmtdynamics.org/pub/papers/DAHAPE12/DAHAPE12.pdf));\n",
    "- in the mathematical community, the term *jet transport* is sometimes used to refer to the propagation of a small neighborhood in phase space around the initial conditions via the Taylor series constructed form the partial derivatives (e.g., see [this paper](http://www.maia.ub.es/~angel/varis/granada09.pdf)). In heyoka.py, we refer to a similar idea as {ref}`Taylor map evaluation <taylor_map>`;\n",
    "- in the Julia programming language community, the term *local sensitivity analysis* refers to the computation of the partial derivatives via the variational equations, while *discrete sensitivity analysis* refers to the computation of the partial derivatives by directly differentiating the numerical method's steps (e.g., see [this review](https://arxiv.org/abs/1812.01892));\n",
    "- in the space engineering community, the term *state transition tensors* is sometimes used to indicate the generalisations of the [state transition matrix](https://en.wikipedia.org/wiki/State-transition_matrix) (which in turn is built from the first-order partial derivatives) to higher differentiation orders.\n",
    "\n",
    "## Constructing a variational ODE system\n",
    "\n",
    "Let us begin with the definition of a simple ODE system:"
   ]
  },
  {
   "cell_type": "code",
   "execution_count": 1,
   "id": "2c186e41-5526-4b7d-a11a-0ce38332c9ea",
   "metadata": {},
   "outputs": [],
   "source": [
    "import heyoka as hy\n",
    "\n",
    "# Create the symbolic variables x and v.\n",
    "x, v = hy.make_vars(\"x\", \"v\")\n",
    "\n",
    "# Create an ODE system.\n",
    "sys = [(x, v), (v, hy.cos(hy.time) - hy.par[0] * v - hy.sin(x))]"
   ]
  },
  {
   "cell_type": "markdown",
   "id": "1d9126e2-93b3-49a2-8fdb-33e31a161e35",
   "metadata": {},
   "source": [
    "This is the forced damped pendulum system already considered in [another tutorial](<./Non-autonomous systems.ipynb>), where we have introduced the air friction coefficient as the [runtime parameter](<./ODEs with parameters.ipynb>) ``par[0]``.\n",
    "\n",
    "We then proceed to create a {class}`~heyoka.var_ode_sys`:"
   ]
  },
  {
   "cell_type": "code",
   "execution_count": 2,
   "id": "ba980238-26c2-417c-817f-92fb2dbe3ec1",
   "metadata": {},
   "outputs": [],
   "source": [
    "# Create the variational ODE system.\n",
    "vsys = hy.var_ode_sys(sys, hy.var_args.vars, order=2)"
   ]
  },
  {
   "cell_type": "markdown",
   "id": "bab348cb-ca8b-49f0-bc40-0c44ff091521",
   "metadata": {},
   "source": [
    "Upon construction, {class}`~heyoka.var_ode_sys` formulates the variational equations for the input ODE system ``sys`` up to the specified differentiation ``order``. The second argument specifies with respect to which quantities the variational equations are formulated. In this case, we used the ``vars`` enumerator of the {class}`~heyoka.var_args` enum: this means that the variational equations will be formulated with respect to the initial conditions of the state variables. In a completely equivalent manner, we could have written instead:"
   ]
  },
  {
   "cell_type": "code",
   "execution_count": 3,
   "id": "220429e4-fd82-4495-873e-a08ae8c09a9a",
   "metadata": {},
   "outputs": [],
   "source": [
    "vsys = hy.var_ode_sys(sys, [x, v], order=2)"
   ]
  },
  {
   "cell_type": "markdown",
   "id": "6c86a6e8-20d2-4d78-8846-46ed6628e823",
   "metadata": {},
   "source": [
    "In this case, instead of a {class}`~heyoka.var_args` enumerator, we passed an explicit list of state variables with respect to whose initial conditions we want to formulate the variational equations. In a similar fashion, we could have provided a list of [runtime parameters](<./ODEs with parameters.ipynb>) instead, or event a mixed list of variables and runtime parameters. Please refer to the documentation of {class}`~heyoka.var_ode_sys` and {class}`~heyoka.var_args` for exhaustive explanations of what can be passed as second argument to the constructor.\n",
    "\n",
    "Let us explore a bit the {class}`~heyoka.var_ode_sys` class. First of all, we can access the variational system of equations:"
   ]
  },
  {
   "cell_type": "code",
   "execution_count": 4,
   "id": "16e3bc0a-e7d5-499c-88bd-e17aaa6c1657",
   "metadata": {},
   "outputs": [
    {
     "data": {
      "text/plain": [
       "[(x, v),\n",
       " (v, ((cos(t) - (p0 * v)) - sin(x))),\n",
       " (∂[(0, 1)]x, ∂[(0, 1)]v),\n",
       " (∂[(1, 1)]x, ∂[(1, 1)]v),\n",
       " (∂[(0, 1)]v, (-(∂[(0, 1)]x * cos(x)) - (∂[(0, 1)]v * p0))),\n",
       " (∂[(1, 1)]v, (-(∂[(1, 1)]x * cos(x)) - (∂[(1, 1)]v * p0))),\n",
       " (∂[(0, 2)]x, ∂[(0, 2)]v),\n",
       " (∂[(0, 1), (1, 1)]x, ∂[(0, 1), (1, 1)]v),\n",
       " (∂[(1, 2)]x, ∂[(1, 2)]v),\n",
       " (∂[(0, 2)]v,\n",
       "  (-(∂[(0, 2)]v * p0) - (((∂[(0, 1)]x * -sin(x)) * ∂[(0, 1)]x) + (∂[(0, 2)]x * cos(x))))),\n",
       " (∂[(0, 1), (1, 1)]v,\n",
       "  (-(∂[(0, 1), (1, 1)]v * p0) - (((∂[(0, 1)]x * -sin(x)) * ∂[(1, 1)]x) + (∂[(0, 1), (1, 1)]x * cos(x))))),\n",
       " (∂[(1, 2)]v,\n",
       "  (-(∂[(1, 2)]v * p0) - (((∂[(1, 1)]x * -sin(x)) * ∂[(1, 1)]x) + (∂[(1, 2)]x * cos(x)))))]"
      ]
     },
     "execution_count": 4,
     "metadata": {},
     "output_type": "execute_result"
    }
   ],
   "source": [
    "vsys.sys"
   ]
  },
  {
   "cell_type": "markdown",
   "id": "c969185b-7df4-4f95-9ab1-04af1205abdd",
   "metadata": {},
   "source": [
    "The first two equations are from the original system of ODEs, while the remaining ones are the variational equations. The names of the variational variables begin with the $\\partial$ symbol, followed by a sparse multiindex encoding of the differentiation indices. For instance, the variational variable ``∂[(0, 1)]x`` is the first-order derivative of $x$ with respect to the first variational argument, that is, $\\frac{\\partial x}{\\partial x_0}$. Similarly, ``∂[(0, 1), (1, 1)]x`` is the second order derivative of $x$ with respect to both variational arguments, that is, $\\frac{\\partial^2 x}{\\partial x_0 \\partial y_0}$. The ordering of the variational equations follows the same scheme explained in the tutorial about [computing derivatives](<./computing_derivatives.ipynb>).\n",
    "\n",
    "We can also query other properties of ``vsys``. For instance, the differentiation order:"
   ]
  },
  {
   "cell_type": "code",
   "execution_count": 5,
   "id": "e4715f11-f4c3-4953-8d6e-7d01cd14d32a",
   "metadata": {},
   "outputs": [
    {
     "data": {
      "text/plain": [
       "2"
      ]
     },
     "execution_count": 5,
     "metadata": {},
     "output_type": "execute_result"
    }
   ],
   "source": [
    "vsys.order"
   ]
  },
  {
   "cell_type": "markdown",
   "id": "27e8ac8e-1d81-4309-84d7-f18f16fc2d06",
   "metadata": {},
   "source": [
    "The number of state variables in the original ODE system:"
   ]
  },
  {
   "cell_type": "code",
   "execution_count": 6,
   "id": "2fad08b8-23d0-4572-a74c-edc42ff93c3b",
   "metadata": {},
   "outputs": [
    {
     "data": {
      "text/plain": [
       "2"
      ]
     },
     "execution_count": 6,
     "metadata": {},
     "output_type": "execute_result"
    }
   ],
   "source": [
    "vsys.n_orig_sv"
   ]
  },
  {
   "cell_type": "markdown",
   "id": "f5d76bce-6e58-4e87-b5ba-98fdb953dcc1",
   "metadata": {},
   "source": [
    "And the list of arguments with respect to which the variational equations are formulated:"
   ]
  },
  {
   "cell_type": "code",
   "execution_count": 7,
   "id": "9369b6f1-9b2c-4e7e-b70e-21679dd62fda",
   "metadata": {},
   "outputs": [
    {
     "data": {
      "text/plain": [
       "[x, v]"
      ]
     },
     "execution_count": 7,
     "metadata": {},
     "output_type": "execute_result"
    }
   ],
   "source": [
    "vsys.vargs"
   ]
  },
  {
   "cell_type": "markdown",
   "id": "276d5cc7-615c-44fe-b08d-48a9cee19fcb",
   "metadata": {},
   "source": [
    "## Constructing a variational integrator\n",
    "\n",
    "After the construction of a variational ODE system, we are now ready to construct a variational integrator. We can do this by simply passing the variational ODE system (instead of the original, non-variational ODE system) as first input argument to the constructor:"
   ]
  },
  {
   "cell_type": "code",
   "execution_count": 8,
   "id": "8c51dcf8-a089-42c2-9b84-5e2d5c22da24",
   "metadata": {},
   "outputs": [],
   "source": [
    "# Construct a variational integrator.\n",
    "ta_var = hy.taylor_adaptive(vsys, [0.2, 0.3], pars=[0.4], compact_mode=True)"
   ]
  },
  {
   "cell_type": "markdown",
   "id": "5925b0ce-1b04-4174-86ef-593c7ffade74",
   "metadata": {},
   "source": [
    "Note how we constructed the integrator with {ref}`compact mode <ta_compact_mode>` enabled: the formulation of the variational equations, especially at high differentiation orders, greatly increases the size of the symbolic expressions that need to be just-in-time compiled during the creation of the integrator. By enabling compact mode, we keep the compilation time at manageable levels.\n",
    "\n",
    "Let us inspect the integrator:"
   ]
  },
  {
   "cell_type": "code",
   "execution_count": 9,
   "id": "844c0ae8-9f32-4d09-a900-8098301863ff",
   "metadata": {},
   "outputs": [
    {
     "data": {
      "text/plain": [
       "C++ datatype            : double\n",
       "Tolerance               : 2.220446049250313e-16\n",
       "High accuracy           : false\n",
       "Compact mode            : true\n",
       "Taylor order            : 20\n",
       "Dimension               : 12\n",
       "Time                    : 0\n",
       "State                   : [0.2, 0.3, 1, 0, 0, 1, 0, 0, 0, 0, 0, 0]\n",
       "Parameters              : [0.4]\n",
       "Variational order       : 2"
      ]
     },
     "execution_count": 9,
     "metadata": {},
     "output_type": "execute_result"
    }
   ],
   "source": [
    "ta_var"
   ]
  },
  {
   "cell_type": "markdown",
   "id": "afc46400-dc3a-4e1d-bae6-aed5771d46a6",
   "metadata": {},
   "source": [
    "The screen output informs us that ``ta_var`` is a variational integrator of order 2. We can also see that, although on construction we passed the initial conditions only for the ``x`` and ``v`` state variables, the integrator automatically set up appropriate initial conditions for the variational variables. Indeed, with respect to a non-variational integrator, the state vector has been augmented to store also the values of the variational variables:"
   ]
  },
  {
   "cell_type": "code",
   "execution_count": 10,
   "id": "81cbba40-07fb-45b1-9622-29e9c966b273",
   "metadata": {},
   "outputs": [
    {
     "data": {
      "text/plain": [
       "array([0.2, 0.3, 1. , 0. , 0. , 1. , 0. , 0. , 0. , 0. , 0. , 0. ])"
      ]
     },
     "execution_count": 10,
     "metadata": {},
     "output_type": "execute_result"
    }
   ],
   "source": [
    "ta_var.state"
   ]
  },
  {
   "cell_type": "markdown",
   "id": "8e5b8bd0-bf91-41f5-baf6-c1cb2d2e2e7a",
   "metadata": {},
   "source": [
    "Alternatively, instead of relying on the integrator to automatically set up the initial conditions of the variational variables, we could also pass a full 12-elements vector of initial conditions in input.\n",
    "\n",
    "We are now ready to proceed to our first variational integration:"
   ]
  },
  {
   "cell_type": "code",
   "execution_count": 11,
   "id": "afa9f717-bc57-4f19-9a25-198bff3cdd14",
   "metadata": {},
   "outputs": [
    {
     "data": {
      "text/plain": [
       "array([ 0.11757215, -1.24940656, -0.425478  ,  0.41983649, -0.19171818,\n",
       "       -0.51871994,  0.27771857,  0.22392433,  0.60414865, -0.1122785 ,\n",
       "       -0.12689065,  0.12443791])"
      ]
     },
     "execution_count": 11,
     "metadata": {},
     "output_type": "execute_result"
    }
   ],
   "source": [
    "# Propagate until t=3.\n",
    "ta_var.propagate_until(3.0)\n",
    "\n",
    "# Print the full state vector.\n",
    "ta_var.state"
   ]
  },
  {
   "cell_type": "markdown",
   "id": "a51db4d7-5c9f-446f-ae1f-eb9fc759c94d",
   "metadata": {},
   "source": [
    "The first two entries in the state vector are the current values of the state variables ``x`` and ``v``. The remaining entries are the current values of the partial derivatives.\n",
    "\n",
    "That is all fine and good, but how do we fetch the values of the derivatives we are interested in at the end of an integration? As mentioned earlier, the partial derivatives are ordered in the state vector following the same criterion explained in the tutorial about [computing derivatives](<./computing_derivatives.ipynb>): first by total order of differentiation, then by component (i.e., the derivatives of ``x`` precede the derivatives of ``v``) and finally by reverse lexicographic order with respect to the differentiation multiindices. However, navigating by hand this ordering scheme can be complicated, especially at high differentiation orders.\n",
    "\n",
    "Variational integrators provide a couple of methods that facilitate the task of locating specific derivatives in the state vector. The first helper is ``get_vslice()``. This method takes as input a differentiation order and, optionally, a component index, and returns a {class}`slice` into the state vector corresponding to the range of indices for the requested derivatives. Let us see a couple of examples:"
   ]
  },
  {
   "cell_type": "code",
   "execution_count": 12,
   "id": "a78531a3-a1f9-4a60-bc21-5c37ab13f6ad",
   "metadata": {},
   "outputs": [
    {
     "data": {
      "text/plain": [
       "slice(6, 12, None)"
      ]
     },
     "execution_count": 12,
     "metadata": {},
     "output_type": "execute_result"
    }
   ],
   "source": [
    "# Fetch the range of all order-2 derivatives.\n",
    "sl = ta_var.get_vslice(order=2)\n",
    "sl"
   ]
  },
  {
   "cell_type": "markdown",
   "id": "bfd3b6b5-8cd6-4c92-be86-d1125cee17bf",
   "metadata": {},
   "source": [
    "That is, the order-2 derivatives are between indices 6 and 12 in the state vector. We can use ``sl`` to index directly into the state vector:"
   ]
  },
  {
   "cell_type": "code",
   "execution_count": 13,
   "id": "3fed6708-3e5e-44c2-871a-0237d005937e",
   "metadata": {},
   "outputs": [
    {
     "data": {
      "text/plain": [
       "array([ 0.27771857,  0.22392433,  0.60414865, -0.1122785 , -0.12689065,\n",
       "        0.12443791])"
      ]
     },
     "execution_count": 13,
     "metadata": {},
     "output_type": "execute_result"
    }
   ],
   "source": [
    "# Fetch all order-2 derivatives from the state vector.\n",
    "ta_var.state[sl]"
   ]
  },
  {
   "cell_type": "markdown",
   "id": "455cbfba-964d-4cbe-b6c4-efdde7f85ad2",
   "metadata": {},
   "source": [
    "If we are interested only in the order-2 derivatives of ``v``, we can pass the additional ``component`` keyword argument:"
   ]
  },
  {
   "cell_type": "code",
   "execution_count": 14,
   "id": "ff3ae54f-455d-44d3-b166-a0a607434d6a",
   "metadata": {},
   "outputs": [
    {
     "data": {
      "text/plain": [
       "array([-0.1122785 , -0.12689065,  0.12443791])"
      ]
     },
     "execution_count": 14,
     "metadata": {},
     "output_type": "execute_result"
    }
   ],
   "source": [
    "# Fetch the range of the order-2 derivatives for v.\n",
    "# component=1 means the second original state variable,\n",
    "# i.e., v (component=0 would fetch the derivatives for x).\n",
    "sl = ta_var.get_vslice(order=2, component=1)\n",
    "\n",
    "# Fetch the order-2 derivatives for v.\n",
    "ta_var.state[sl]"
   ]
  },
  {
   "cell_type": "markdown",
   "id": "6fa1d1cd-840e-491c-aefb-535518c7bd2e",
   "metadata": {},
   "source": [
    "Often fetching the values of the derivatives is not enough, and we also need to access the differentiation multiindices associated to each derivative. In order to do this, we can use the ``get_mindex()`` method, which takes in input a single index into the state vector and returns the corresponding differentiation multiindex.\n",
    "\n",
    "Let us see a couple of examples:"
   ]
  },
  {
   "cell_type": "code",
   "execution_count": 15,
   "id": "5ae39909-0554-4def-b04b-4ed69ade36b7",
   "metadata": {},
   "outputs": [
    {
     "data": {
      "text/plain": [
       "[0, 0, 0]"
      ]
     },
     "execution_count": 15,
     "metadata": {},
     "output_type": "execute_result"
    }
   ],
   "source": [
    "ta_var.get_mindex(i=0)"
   ]
  },
  {
   "cell_type": "markdown",
   "id": "1018d0c7-e7f3-463a-8e88-618d1600be31",
   "metadata": {},
   "source": [
    "At ``i=0`` in the state vector we have the order-0 derivative of the first state variable - that is, a complicated way of saying that we have the current value of ``x``. Let us see a more useful example:"
   ]
  },
  {
   "cell_type": "code",
   "execution_count": 16,
   "id": "064adc95-4ed0-4c6e-b927-57f8a607483c",
   "metadata": {},
   "outputs": [
    {
     "name": "stdout",
     "output_type": "stream",
     "text": [
      "Multiindex: [0, 2, 0], derivative value: 0.27771856625922825\n",
      "Multiindex: [0, 1, 1], derivative value: 0.2239243290399873\n",
      "Multiindex: [0, 0, 2], derivative value: 0.6041486469599123\n",
      "Multiindex: [1, 2, 0], derivative value: -0.1122785039896587\n",
      "Multiindex: [1, 1, 1], derivative value: -0.12689065229074553\n",
      "Multiindex: [1, 0, 2], derivative value: 0.12443790781972988\n"
     ]
    }
   ],
   "source": [
    "# Fetch the range of all order-2 derivatives.\n",
    "sl = ta_var.get_vslice(order=2)\n",
    "\n",
    "# Print the multiindices and associated values.\n",
    "for idx in range(sl.start, sl.stop):\n",
    "    print(\n",
    "        f\"Multiindex: {ta_var.get_mindex(idx)}, derivative value: {ta_var.state[idx]}\"\n",
    "    )"
   ]
  },
  {
   "cell_type": "markdown",
   "id": "d2ae2f2e-3b67-47be-a863-b17f44fb26c2",
   "metadata": {},
   "source": [
    "Recall that in a multiindex the first number refers to the component index (i.e., 0 for ``x`` and 1 for ``v``), while the remaining indices refer to the differentiation orders with respect to the variational arguments.\n",
    "\n",
    "(taylor_map)=\n",
    "## Taylor map evaluation\n",
    "\n",
    "One of the most useful applications of the variational equations is the ability to compute how a small perturbation on the initial conditions and/or parameters of the system affects the current state of the system, and to do it quickly (i.e., without having to repeat the numerical integration with the updated initial conditions/parameters). This is accomplished by using the values of the partial derivatives to construct and evaluate the multivariate Taylor series of the solution around the original initial conditions/parameters of the system. This approach, when applied to perturbations on the initial conditions, is sometimes called *jet transport* in the literature. Here, more generally, we will call it *evaluation of the Taylor map*.\n",
    "\n",
    "Variational integrators provide a specific method called ``eval_taylor_map()`` to construct and evaluate the Taylor map. Let us see a simple example. We begin by re-creating from scratch our variational integrator:"
   ]
  },
  {
   "cell_type": "code",
   "execution_count": 17,
   "id": "229a9a4e-bf5a-4b57-a599-e4571ebd7507",
   "metadata": {},
   "outputs": [],
   "source": [
    "ta_var = hy.taylor_adaptive(vsys, [0.2, 0.3], pars=[0.4], compact_mode=True)"
   ]
  },
  {
   "cell_type": "markdown",
   "id": "b09de854-aa19-4f08-a36d-66b926bd1d6b",
   "metadata": {},
   "source": [
    "We define two small displacements on the state variables ``x`` and ``v``:"
   ]
  },
  {
   "cell_type": "code",
   "execution_count": 18,
   "id": "7c2d30d2-17cd-4ab4-889a-8bcb72bb9b11",
   "metadata": {},
   "outputs": [],
   "source": [
    "dx = 1e-4\n",
    "dv = -2e-4"
   ]
  },
  {
   "cell_type": "markdown",
   "id": "eb9e6427-fb2c-4f11-91b2-85d9d45577b7",
   "metadata": {},
   "source": [
    "And we create a non-variational integrator with displaced initial conditions with respect to the variational one:"
   ]
  },
  {
   "cell_type": "code",
   "execution_count": 19,
   "id": "1ab3b27e-3506-47e0-a0bb-35cd2076238f",
   "metadata": {},
   "outputs": [],
   "source": [
    "# Non-variational integrator with displaced\n",
    "# initial conditions.\n",
    "ta = hy.taylor_adaptive(sys, [0.2 + dx, 0.3 + dv], pars=[0.4], compact_mode=True)"
   ]
  },
  {
   "cell_type": "markdown",
   "id": "8fa77407-e47a-4338-b65e-f314a4a7afdd",
   "metadata": {},
   "source": [
    "Next, we propagate both integrators up to $t=3$:"
   ]
  },
  {
   "cell_type": "code",
   "execution_count": 20,
   "id": "42a8ca75-4eca-4da2-b33e-838085fd497f",
   "metadata": {},
   "outputs": [],
   "source": [
    "ta_var.propagate_until(3.0)\n",
    "ta.propagate_until(3.0);"
   ]
  },
  {
   "cell_type": "markdown",
   "id": "80f7bd5e-606b-425c-bfe8-e3b409a1975b",
   "metadata": {},
   "source": [
    "Clearly, the values of ``x`` and ``v`` will differ in the two integrators due to the different initial conditions:"
   ]
  },
  {
   "cell_type": "code",
   "execution_count": 21,
   "id": "fa2c2e21-81f3-4e2a-a219-296b940bb3b9",
   "metadata": {},
   "outputs": [
    {
     "name": "stdout",
     "output_type": "stream",
     "text": [
      "Non-variational state: [ 0.11744564 -1.24932198]\n",
      "Variational state    : [ 0.11757215 -1.24940656]\n"
     ]
    }
   ],
   "source": [
    "print(f\"Non-variational state: {ta.state}\")\n",
    "print(f\"Variational state    : {ta_var.state[:2]}\")"
   ]
  },
  {
   "cell_type": "markdown",
   "id": "b102f4fd-63dc-45a6-81c1-1cf925aa8b15",
   "metadata": {},
   "source": [
    "We can now use the ``eval_taylor_map()`` method on the variational integrator to compute the effect of the displacements ``dx`` and ``dv`` on the state of the system:"
   ]
  },
  {
   "cell_type": "code",
   "execution_count": 22,
   "id": "b7f778cc-db85-43aa-bf29-5445d6170958",
   "metadata": {},
   "outputs": [
    {
     "data": {
      "text/plain": [
       "array([ 0.11744564, -1.24932198])"
      ]
     },
     "execution_count": 22,
     "metadata": {},
     "output_type": "execute_result"
    }
   ],
   "source": [
    "ta_var.eval_taylor_map([dx, dv])"
   ]
  },
  {
   "cell_type": "markdown",
   "id": "a3f8b0d2-0446-4dd5-a8fb-0539863ed161",
   "metadata": {},
   "source": [
    "``eval_taylor_map()`` takes in input a vector of displacements (one for each variational argument), and computes and evaluates the Taylor map, returning a reference to an internal array in ``ta_var`` storing the result of the evaluation (i.e., the updated values of the state variables). We can see that, in this specific case, the evaluation of the Taylor map reproduces accurately the state vector computed by the non-variational integrator with displaced initial conditions:"
   ]
  },
  {
   "cell_type": "code",
   "execution_count": 23,
   "id": "d561e6f0-2500-4faf-9caa-f8bf29ff99e4",
   "metadata": {},
   "outputs": [
    {
     "name": "stdout",
     "output_type": "stream",
     "text": [
      "Taylor map error: [6.58681443e-13 6.68798350e-13]\n"
     ]
    }
   ],
   "source": [
    "print(f\"Taylor map error: {ta_var.eval_taylor_map([dx, dv]) - ta.state}\")"
   ]
  },
  {
   "cell_type": "markdown",
   "id": "fb423c90-3458-4939-82ed-97326baf8be8",
   "metadata": {},
   "source": [
    "Note that the Taylor map state vector can also be fetched via the ``tstate`` property of the integrator:"
   ]
  },
  {
   "cell_type": "code",
   "execution_count": 24,
   "id": "d1dc660b-aa56-47d0-bd83-d2f323b12dfd",
   "metadata": {},
   "outputs": [
    {
     "data": {
      "text/plain": [
       "array([ 0.11744564, -1.24932198])"
      ]
     },
     "execution_count": 24,
     "metadata": {},
     "output_type": "execute_result"
    }
   ],
   "source": [
    "ta_var.tstate"
   ]
  },
  {
   "cell_type": "markdown",
   "id": "0152b819-815d-4082-9e26-4da55c731d57",
   "metadata": {},
   "source": [
    "```{warning}\n",
    "Accessing the Taylor map state vector via ``tstate`` will **NOT** trigger any Taylor map evaluation, it will merely return a reference to the internal array storing the result of the evaluation. It is your responsibility to ensure that you called ``eval_taylor_map()`` before accessing this array via ``tstate``.\n",
    "\n",
    "```"
   ]
  },
  {
   "cell_type": "markdown",
   "id": "fc4df22b-1edf-4700-987b-0b663999fb59",
   "metadata": {},
   "source": [
    "## A note on computational efficiency\n",
    "\n",
    "{class}`~heyoka.var_ode_sys` uses internally the {func}`~heyoka.diff_tensors()` and {class}`~heyoka.dtens` API to formulate the variational equations. This means that the computation of the symbolic derivatives is performed in an efficient manner. For instance, reverse-mode symbolic automatic differentiation will be employed when computing the first-order variationals of ODE systems containing a large number of parameters (e.g., in [neural ODEs](./NeuralODEs_I.ipynb)).\n",
    "\n",
    "See the [computing derivatives](<./computing_derivatives.ipynb>) tutorial for a more in-depth discussion of how heyoka.py computes symbolic derivatives."
   ]
  }
 ],
 "metadata": {
  "kernelspec": {
   "display_name": "Python 3 (ipykernel)",
   "language": "python",
   "name": "python3"
  },
  "language_info": {
   "codemirror_mode": {
    "name": "ipython",
    "version": 3
   },
   "file_extension": ".py",
   "mimetype": "text/x-python",
   "name": "python",
   "nbconvert_exporter": "python",
   "pygments_lexer": "ipython3",
   "version": "3.10.13"
  }
 },
 "nbformat": 4,
 "nbformat_minor": 5
}
