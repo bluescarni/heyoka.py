{
 "cells": [
  {
   "cell_type": "markdown",
   "id": "f105cf7b-956f-48d9-b46b-5a44cc04713e",
   "metadata": {},
   "source": [
    "# Introduction to the ELP2000 lunar theory\n",
    "\n",
    "Starting from version 3.2.0, heyoka.py provides an implementation of the [ELP2000](https://en.wikipedia.org/wiki/Ephemeride_Lunaire_Parisienne) lunar theory. ELP2000 consists of a set of (large) analytical formulae expressing the geocentric position of the Moon as a function of time. Because the ELP2000 theory is expressed as a set of analytical, differentiable formulae, it can be implemented in heyoka.py's expression system and it can thus be used in the formulation of differential equations.\n",
    "\n",
    "## API overview\n",
    "\n",
    "heyoka.py provides two functions to generate the analytical formulae for the ELP2000 theory. These functions are available in the ``model`` submodule.\n",
    "\n",
    "The first one, ``elp2000_cartesian_e2000()``, returns the time-dependent formulae for the geocentric Cartesian coordinates $\\left( x, y, z \\right)$ of the Moon referred to the inertial mean ecliptic and equinox of J2000.\n",
    "\n",
    "The second one, ``elp2000_cartesian_fk5()``, returns the time-dependent formulae for the geocentric Cartesian coordinates $\\left( x, y, z \\right)$ of the Moon referred to the mean equator and rotational mean equinox of J2000 (i.e., in the FK5 frame). Note that the FK5 frame has been superseded by the [International Celestial Reference Frame (ICRF)](https://en.wikipedia.org/wiki/International_Celestial_Reference_System_and_Frame) in recent years, but for most practical purposes FK5 and ICRF can be considered equivalent (the difference should amount to a few centimeters at the average lunar distance).\n",
    "\n",
    "In both functions, the unit of measure for the Cartesian coordinates is kilometers.\n",
    "\n",
    "## Precision and truncation threshold\n",
    "\n",
    "The ELP2000 solution is formulated as large Fourier/Poisson series whose numerical coefficients decay exponentially. When using the full ELP2000 solution, the precision with respect to high-accuracy numerical integrations is roughly at the centimeter level. By dropping the smaller terms from the series, the precision of the theory degrades but computational efficiency greatly increases. See the [ELP2000 readme](https://ftp.imcce.fr/pub/ephem/moon/elp82b/elp82b.ps) for more details and estimates of the precision at various truncation levels.\n",
    "\n",
    "By default, all ``elp2000_*()`` functions filter out from the solution terms whose numerical coefficients have a magnitude smaller than $10^{-6}$. This corresponds to an accuracy of a few kilometers on the Cartesian position of the Moon. The truncation threshold can be changed via the ``thresh`` keyword argument:"
   ]
  },
  {
   "cell_type": "code",
   "execution_count": 1,
   "id": "d882941b-3e5f-481c-824f-9ff544d9b350",
   "metadata": {},
   "outputs": [
    {
     "name": "stdout",
     "output_type": "stream",
     "text": [
      "Size of the solution for x @ 1e-05: 113663926\n",
      "Size of the solution for x @ 1e-06: 1480867297\n",
      "Size of the solution for x @ 1e-07: 467296624456\n"
     ]
    }
   ],
   "source": [
    "import heyoka as hy\n",
    "\n",
    "for thr in [1e-5, 1e-6, 1e-7]:\n",
    "    print(\"Size of the solution for x @ {}: {}\".format(thr, len(hy.model.elp2000_cartesian_fk5(thresh = thr)[0])))"
   ]
  },
  {
   "cell_type": "markdown",
   "id": "f40549de-0015-4f12-a3c8-51d563a22c7e",
   "metadata": {},
   "source": [
    "## Time coordinate\n",
    "\n",
    "ELP2000 uses [barycentric dynamical time (TDB)](https://en.wikipedia.org/wiki/Barycentric_Dynamical_Time), expressed in Julian centuries from J2000 (JD2451545.0). Note than one Julian year = 365.25 days.\n",
    "\n",
    "By default, all ``elp2000_*()`` functions use ``hy.time`` to represent the time variable in the ELP2000 formulae. This means that, by default, when the ELP2000 solution is used in an ODE system, time is assumed to be measured in hundreds of Julian years of TDB and $t = 0$ corresponds to the Julian date $2451545.0$:"
   ]
  },
  {
   "cell_type": "code",
   "execution_count": 2,
   "id": "834926b6-1417-4e42-8975-a4075a424f94",
   "metadata": {},
   "outputs": [
    {
     "name": "stdout",
     "output_type": "stream",
     "text": [
      "x coordinate, threshold = 1e-2, default time expression:\n",
      "((3.7971800000000001e-07 * cos(({(0.011489667007853675 * {(2.0000000000000000 * cos({(5.1984667410274437 + ({(7771.3771468120494 + ({(({(3.1973462269173901e-08 - (1.5436467606527627e-10 * t))} * t) - 2.8449351621188683e-05)} * t))} * t))}) * sin({(5.1984667410274437 + ({(7771.3771468120494 + ({(({(3.1973462269173901e-08 - (1.5436467606527627e-10 * t))} * t) - 2.8449351621188683e-05)} * t))} * t))}))})} + {(0.022235680368834991 * {(({-(sin({(2.3555558982657985 + ({(8328.6914269553617 + ({(0.00015702775761561094 + ({(2.5041111442988642e-07 - (1.1863390776750345e-09 * t))} * t))} * t))} * t))}) / {(cos({(2.3555558982657985 + ({(8328.6914269553617 + ({(0.00015702775761561094 + ({(2.5041111442988642e-07 - (1.1863390776750345e-09 * t))} * t))} * t))} * t))})**2.0000000000000000 + sin({(2.3555558982657985 + ({(8328.6914269553617 + ({(0.00015702775761561094 + ({(2.5041111442988642e-07 - (1.1863390776750345e-09 * t))} * t))} * t))} * t))})**2.0000000000000000)})} * {(cos({(5.1984667410274437 + (...\n",
      "\n"
     ]
    }
   ],
   "source": [
    "print(\"x coordinate, threshold = 1e-2, default time expression:\\n{}\\n\"\n",
    "      .format(hy.model.elp2000_cartesian_fk5(thresh = 1e-2)[0]))"
   ]
  },
  {
   "cell_type": "markdown",
   "id": "de4449ca-5f30-4905-8701-469ace9cc9ff",
   "metadata": {},
   "source": [
    "It is possible to change the expression used to represent the time variable in the ELP2000 solution via the ``time`` keyword argument. This allows to rescale and change the origin of time in the ELP2000 formulae.\n",
    "\n",
    "For instance, if we want time to be measured in Julian days (rather than centuries) since J2000, we can write:"
   ]
  },
  {
   "cell_type": "code",
   "execution_count": 3,
   "id": "cdae7171-509d-4781-84dd-e4a23fa9eab9",
   "metadata": {},
   "outputs": [
    {
     "name": "stdout",
     "output_type": "stream",
     "text": [
      "x coordinate, threshold = 1e-2, time in days since J2000:\n",
      "((3.7971800000000001e-07 * cos(({(0.011489667007853675 * {(2.0000000000000000 * cos({(5.1984667410274437 + (2.7378507871321012e-05 * {(7771.3771468120494 + (2.7378507871321012e-05 * {((2.7378507871321012e-05 * {(3.1973462269173901e-08 - (4.2262744987070845e-15 * t))} * t) - 2.8449351621188683e-05)} * t))} * t))}) * sin({(5.1984667410274437 + (2.7378507871321012e-05 * {(7771.3771468120494 + (2.7378507871321012e-05 * {((2.7378507871321012e-05 * {(3.1973462269173901e-08 - (4.2262744987070845e-15 * t))} * t) - 2.8449351621188683e-05)} * t))} * t))}))})} + {(0.022235680368834991 * {(({-(sin({(2.3555558982657985 + (2.7378507871321012e-05 * {(8328.6914269553617 + (2.7378507871321012e-05 * {(0.00015702775761561094 + (2.7378507871321012e-05 * {(2.5041111442988642e-07 - (3.2480193776181639e-14 * t))} * t))} * t))} * t))}) / {(cos({(2.3555558982657985 + (2.7378507871321012e-05 * {(8328.6914269553617 + (2.7378507871321012e-05 * {(0.00015702775761561094 + (2.7378507871321012e-05 * {(2.5041111442988642e-07 - ...\n",
      "\n"
     ]
    }
   ],
   "source": [
    "print(\"x coordinate, threshold = 1e-2, time in days since J2000:\\n{}\\n\"\n",
    "      .format(hy.model.elp2000_cartesian_fk5(time=hy.time/36525., thresh = 1e-2)[0]))"
   ]
  },
  {
   "cell_type": "markdown",
   "id": "9844872b-cb8c-4ab2-8918-c3e6c89113af",
   "metadata": {},
   "source": [
    "In a similar fashion, we can change the origin of the time coordinate by adding/subtracting an offset to ``hy.time``. For instance, if we want to be able to use directly the Julian date as time variable (rather than the number of Julian days since J2000), we can write:"
   ]
  },
  {
   "cell_type": "code",
   "execution_count": 4,
   "id": "c769a3c0-4d26-40a8-8a86-6b5ce23d4d8a",
   "metadata": {},
   "outputs": [
    {
     "name": "stdout",
     "output_type": "stream",
     "text": [
      "x coordinate, threshold = 1e-2, time in JD:\n",
      "((3.7971800000000001e-07 * cos(({(0.011489667007853675 * {(2.0000000000000000 * cos({(5.1984667410274437 + ({(7771.3771468120494 + ({(({(4.2334364385106763e-08 - (4.2262744987070845e-15 * t))} * ((2.7378507871321012e-05 * t) - 67.119644079397673)) - 2.8449351621188683e-05)} * ((2.7378507871321012e-05 * t) - 67.119644079397673)))} * ((2.7378507871321012e-05 * t) - 67.119644079397673)))}) * sin({(5.1984667410274437 + ({(7771.3771468120494 + ({(({(4.2334364385106763e-08 - (4.2262744987070845e-15 * t))} * ((2.7378507871321012e-05 * t) - 67.119644079397673)) - 2.8449351621188683e-05)} * ((2.7378507871321012e-05 * t) - 67.119644079397673)))} * ((2.7378507871321012e-05 * t) - 67.119644079397673)))}))})} + {(0.022235680368834991 * {(({-(sin({(2.3555558982657985 + ({(8328.6914269553617 + ({(0.00015702775761561094 + ({(3.3003777108091565e-07 - (3.2480193776181639e-14 * t))} * ((2.7378507871321012e-05 * t) - 67.119644079397673)))} * ((2.7378507871321012e-05 * t) - 67.119644079397673)))} * ((2.7378507871321012e-05 * ...\n",
      "\n"
     ]
    }
   ],
   "source": [
    "print(\"x coordinate, threshold = 1e-2, time in JD:\\n{}\\n\"\n",
    "      .format(hy.model.elp2000_cartesian_fk5(time=(hy.time-2451545.0)/36525., thresh = 1e-2)[0]))"
   ]
  },
  {
   "cell_type": "markdown",
   "id": "5a0f2168-61b5-495b-afb6-6e0fffd2cf9b",
   "metadata": {},
   "source": [
    "Note that the time expression passed to the ``elp2000_*()`` functions does not need to be based on ``hy.time`` - in fact *any* expression can be used as a time coordinate in the ELP2000 formulae:"
   ]
  },
  {
   "cell_type": "code",
   "execution_count": 5,
   "id": "b7607393-0891-46c9-a62f-e485f022491e",
   "metadata": {},
   "outputs": [
    {
     "name": "stdout",
     "output_type": "stream",
     "text": [
      "x coordinate, threshold = 1e-2, time represented as variable 'y':\n",
      "((3.7971800000000001e-07 * cos(({(0.011489667007853675 * {(2.0000000000000000 * cos({(5.1984667410274437 + (y * {(7771.3771468120494 + (y * {((y * {(3.1973462269173901e-08 - (1.5436467606527627e-10 * y))}) - 2.8449351621188683e-05)}))}))}) * sin({(5.1984667410274437 + (y * {(7771.3771468120494 + (y * {((y * {(3.1973462269173901e-08 - (1.5436467606527627e-10 * y))}) - 2.8449351621188683e-05)}))}))}))})} + {(0.022235680368834991 * {(({-(sin({(2.3555558982657985 + (y * {(8328.6914269553617 + (y * {(0.00015702775761561094 + (y * {(2.5041111442988642e-07 - (1.1863390776750345e-09 * y))}))}))}))}) / {(cos({(2.3555558982657985 + (y * {(8328.6914269553617 + (y * {(0.00015702775761561094 + (y * {(2.5041111442988642e-07 - (1.1863390776750345e-09 * y))}))}))}))})**2.0000000000000000 + sin({(2.3555558982657985 + (y * {(8328.6914269553617 + (y * {(0.00015702775761561094 + (y * {(2.5041111442988642e-07 - (1.1863390776750345e-09 * y))}))}))}))})**2.0000000000000000)})} * {(cos({(5.1984667410274437 + (...\n",
      "\n"
     ]
    }
   ],
   "source": [
    "print(\"x coordinate, threshold = 1e-2, time represented as variable 'y':\\n{}\\n\"\n",
    "      .format(hy.model.elp2000_cartesian_fk5(time=hy.expression(\"y\"), thresh = 1e-2)[0]))"
   ]
  },
  {
   "cell_type": "markdown",
   "id": "3e30b6f8-b97b-4f28-8fd6-abe78ba5d309",
   "metadata": {},
   "source": [
    "## Checking the implementation\n",
    "\n",
    "In order to check the correctness of heyoka.py's implementation of the ELP2000 theory, we are going to use the [NASA HORIZONS service](https://ssd.jpl.nasa.gov/?horizons) via the [Astroquery](https://astroquery.readthedocs.io/en/latest/) package. Our objective is to compare the lunar positions computed by ELP2000 at different threshold levels with those computed by HORIZONS. On the heyoka.py side, we will be using [compiled functions](<./compiled_functions.ipynb>) to evaluate the ELP2000 series."
   ]
  },
  {
   "cell_type": "code",
   "execution_count": 6,
   "id": "6ad113d6-a536-4de3-a488-8606f39c0183",
   "metadata": {},
   "outputs": [
    {
     "data": {
      "image/png": "[encoded data removed]",
      "text/plain": [
       "<Figure size 900x600 with 1 Axes>"
      ]
     },
     "metadata": {},
     "output_type": "display_data"
    }
   ],
   "source": [
    "%matplotlib inline\n",
    "from matplotlib.pylab import plt\n",
    "import numpy as np\n",
    "from astroquery.jplhorizons import Horizons\n",
    "import heyoka as hy\n",
    "\n",
    "# Setup the plot.\n",
    "fig = plt.figure(figsize=(9, 6))\n",
    "plt.xscale('log')\n",
    "plt.yscale('log')\n",
    "\n",
    "# Create a heyoka variable for representing time.\n",
    "tm = hy.make_vars(\"tm\")\n",
    "\n",
    "# Threshold levels at which we will be computing\n",
    "# the ELP2000 solution.\n",
    "thr_values = [1e-5, 1e-6, 1e-7, 1e-8]\n",
    "\n",
    "# We will perform 10 evaluations of the\n",
    "# position of the Moon in the 10 years following\n",
    "# J2000.\n",
    "dates = np.linspace(2451545.0, 2451545.0 + 365 * 10, 10)\n",
    "\n",
    "for thr in thr_values:\n",
    "    # Build the ELP2000 formulae for the geocentric Cartesian\n",
    "    # position of the Moon in the FK5 frame. Replace the\n",
    "    # default time variable and set a custom threshold level.\n",
    "    moon_x, moon_y, moon_z = hy.model.elp2000_cartesian_fk5(time=(tm-2451545.0)/36525.,\n",
    "                                                            thresh=thr)\n",
    "\n",
    "    # Compile the function for the evaluation of moon_x/y/z.\n",
    "    moon_cf = hy.cfunc([moon_x, moon_y, moon_z], [tm], compact_mode=True)\n",
    "    \n",
    "    # Run the evaluation.\n",
    "    elp2000_states = moon_cf(dates.reshape((1,-1)))\n",
    "\n",
    "    # HORIZONS query:\n",
    "    # - 301 is the ID of the Moon,\n",
    "    # - 500@399 is the observer's location,\n",
    "    #   the centre of the Earth.\n",
    "    q = Horizons('301', location='500@399', epochs=dates)\n",
    "    # Convert the HORIZONS query to the ICRF\n",
    "    # and extract the cartesian position vector.\n",
    "    tab = q.vectors(refplane='earth')\n",
    "    hor_x = tab['x'].quantity[:].value\n",
    "    hor_y = tab['y'].quantity[:].value\n",
    "    hor_z = tab['z'].quantity[:].value\n",
    "    \n",
    "    hor_states = np.array([hor_x, hor_y, hor_z])\n",
    "\n",
    "    # Plot the difference (in km) between the positions computed\n",
    "    # by ELP2000 and HORIZONS.\n",
    "    AU = 149597870.7\n",
    "    plt.scatter([thr]*len(dates), np.linalg.norm(elp2000_states - hor_states * AU, axis=0),\n",
    "               alpha=.5, label=\"Threshold = {}\".format(thr))\n",
    "\n",
    "# Finish setting up the plot.\n",
    "plt.legend()\n",
    "plt.xlabel(\"Threshold value\")\n",
    "plt.ylabel(\"Error wrt HORIZONS (km)\")\n",
    "plt.tight_layout();"
   ]
  },
  {
   "cell_type": "markdown",
   "id": "1d7988fc-b201-4c70-b7bb-5356257008fe",
   "metadata": {},
   "source": [
    "We can see how ELP2000 matches up well with respect to HORIZONS, and how lower truncation levels indeed increase the precision of the ELP2000 solution.\n",
    "\n",
    "## Limitations and caveats\n",
    "\n",
    "Like most analytical theories, ELP2000 excels at high thresholds (i.e., low precisions), where it provides compact formulae that can be evaluated quickly. As the precision increases, the solution becomes exponentially longer and more computationally expensive to evaluate and thus less appealing from the point of view of astrodynamical applications."
   ]
  }
 ],
 "metadata": {
  "kernelspec": {
   "display_name": "Python 3 (ipykernel)",
   "language": "python",
   "name": "python3"
  },
  "language_info": {
   "codemirror_mode": {
    "name": "ipython",
    "version": 3
   },
   "file_extension": ".py",
   "mimetype": "text/x-python",
   "name": "python",
   "nbconvert_exporter": "python",
   "pygments_lexer": "ipython3",
   "version": "3.10.13"
  }
 },
 "nbformat": 4,
 "nbformat_minor": 5
}
