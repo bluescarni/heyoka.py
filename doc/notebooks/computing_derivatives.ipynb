{
 "cells": [
  {
   "cell_type": "markdown",
   "id": "8d287ea9-ccdf-4359-a113-0fbcc10b1ff5",
   "metadata": {},
   "source": [
    "(computing_derivatives)=\n",
    "\n",
    "# Computing derivatives\n",
    "\n",
    "heyoka.py provides two ways of computing the derivatives of an expression. The first one is the ``diff()`` function:"
   ]
  },
  {
   "cell_type": "code",
   "execution_count": 1,
   "id": "5de5bdf3-117e-4ae8-8607-3b40d3a9ae99",
   "metadata": {},
   "outputs": [
    {
     "data": {
      "text/plain": [
       "-(y * sin((y * z)))"
      ]
     },
     "execution_count": 1,
     "metadata": {},
     "output_type": "execute_result"
    }
   ],
   "source": [
    "import heyoka as hy\n",
    "\n",
    "x,y,z = hy.make_vars(\"x\", \"y\", \"z\")\n",
    "\n",
    "hy.diff(x + hy.cos(y*z), z)"
   ]
  },
  {
   "cell_type": "markdown",
   "id": "207a1655-a6fa-4ece-a237-f50e15d66cc4",
   "metadata": {},
   "source": [
    "The ``diff()`` function implements symbolic differentiation of an expression with respect to a variable (or a parameter) via a straightforward application of the chain rule. Repeated applications of ``diff()`` can be used to compute higher-order derivatives.\n",
    "\n",
    "The other way of computing derivatives in heyoka.py is the {func}`~heyoka.diff_tensors()` function. {func}`~heyoka.diff_tensors()` computes the full tensors of derivatives up to an arbitrary order. Let us see a simple example:"
   ]
  },
  {
   "cell_type": "code",
   "execution_count": 2,
   "id": "3d51a390-e9fa-4cad-8bdc-358b5ea3cf53",
   "metadata": {},
   "outputs": [
    {
     "name": "stdout",
     "output_type": "stream",
     "text": [
      "[2024-02-12 07:49:15.252] [heyoka] [info] heyoka logger initialised\n"
     ]
    }
   ],
   "source": [
    "dt = hy.diff_tensors([x + hy.cos(y*z), hy.exp(x-z) + hy.log(y)],\n",
    "                     diff_args=[x, y, z], diff_order=1)"
   ]
  },
  {
   "cell_type": "markdown",
   "id": "dc351857-af2e-4d10-9578-79f465691c3f",
   "metadata": {},
   "source": [
    "Here we are asking for the derivatives of a 2-component vector-valued function with respect to all variables up to order 1. The value returned by {func}`~heyoka.diff_tensors()` is an object of type {class}`~heyoka.dtens`. Let us explore it a bit:"
   ]
  },
  {
   "cell_type": "code",
   "execution_count": 3,
   "id": "93dd79a1-7e4c-4e5e-8b50-79cb43e17968",
   "metadata": {},
   "outputs": [
    {
     "data": {
      "text/plain": [
       "Highest diff order: 1\n",
       "Number of outputs : 2\n",
       "Diff arguments    : [x, y, z]"
      ]
     },
     "execution_count": 3,
     "metadata": {},
     "output_type": "execute_result"
    }
   ],
   "source": [
    "dt"
   ]
  },
  {
   "cell_type": "markdown",
   "id": "9840a4cd-70be-4441-8b42-503653a265d9",
   "metadata": {},
   "source": [
    "The screen output shows some general information: the derivative order, the number of outputs and the differentiation arguments. {class}`~heyoka.dtens` objects have a length corresponding to the total number of derivatives stored within the object:"
   ]
  },
  {
   "cell_type": "code",
   "execution_count": 4,
   "id": "64d2cc8d-8308-4760-9bd7-58155a11775c",
   "metadata": {},
   "outputs": [
    {
     "data": {
      "text/plain": [
       "8"
      ]
     },
     "execution_count": 4,
     "metadata": {},
     "output_type": "execute_result"
    }
   ],
   "source": [
    "len(dt)"
   ]
  },
  {
   "cell_type": "markdown",
   "id": "65a6f78a-c374-4786-9f51-a4fb41783334",
   "metadata": {},
   "source": [
    "Here we have 8 derivatives in total: 2 order-0 derivatives (i.e., the original components of the function, which are returned in the {class}`~heyoka.dtens` object) and 6 order-1 derivatives (3 for each component of the function).\n",
    "\n",
    "{class}`~heyoka.dtens` is a dictionary-like ordered container mapping vectors of integral indices to derivatives. It is possible to iterate over the indices vectors, so that, e.g., we can build an ordered list of all the indices vectors in ``dt``:"
   ]
  },
  {
   "cell_type": "code",
   "execution_count": 5,
   "id": "4b60e1c7-6dab-47fe-b3b4-3bcff6e46cb2",
   "metadata": {},
   "outputs": [
    {
     "data": {
      "text/plain": [
       "[[0, 0, 0, 0],\n",
       " [1, 0, 0, 0],\n",
       " [0, 1, 0, 0],\n",
       " [0, 0, 1, 0],\n",
       " [0, 0, 0, 1],\n",
       " [1, 1, 0, 0],\n",
       " [1, 0, 1, 0],\n",
       " [1, 0, 0, 1]]"
      ]
     },
     "execution_count": 5,
     "metadata": {},
     "output_type": "execute_result"
    }
   ],
   "source": [
    "list(dt)"
   ]
  },
  {
   "cell_type": "markdown",
   "id": "4874900c-2ef6-4be0-ba1e-8593a5a00cc9",
   "metadata": {},
   "source": [
    "Each index vector begins with an index representing the function component. The remaining indices represent the derivative orders with respect to the variables. Thus, the index vector ``[1, 0, 1, 0]`` is used to indicate the first-order derivative of the second function component with respect to the second variable $y$.\n",
    "\n",
    "Indices vector in a {class}`~heyoka.dtens` object are sorted as follows:\n",
    "\n",
    "- first, according to the total differentiation order in ascending order,\n",
    "- then, according to the function component in ascending order,\n",
    "- finally, in reverse lexicographic order with respect to the derivative orders for the differentiation arguments.\n",
    "\n",
    "We can lookup specific derivatives via the square brackets operator. For instance, here is the first-order derivative of the second component with respect to $x$:"
   ]
  },
  {
   "cell_type": "code",
   "execution_count": 6,
   "id": "b3774907-0074-4610-a80d-f5ea784e0554",
   "metadata": {},
   "outputs": [
    {
     "data": {
      "text/plain": [
       "{exp((x - z))}"
      ]
     },
     "execution_count": 6,
     "metadata": {},
     "output_type": "execute_result"
    }
   ],
   "source": [
    "dt[1, 1, 0, 0]"
   ]
  },
  {
   "cell_type": "markdown",
   "id": "fa422d75-903f-4933-b3ae-54c737d6a3d8",
   "metadata": {},
   "source": [
    "Note that derivatives can be looked up by passing to the square brackets operator a vector of indices either in dense format (as we just did) or in sparse format. Sparse format means the only non-zero derivative indices are present in the vector:"
   ]
  },
  {
   "cell_type": "code",
   "execution_count": 7,
   "id": "1f4c273c-7556-4aa9-92e9-c370fd490dcd",
   "metadata": {},
   "outputs": [
    {
     "data": {
      "text/plain": [
       "{exp((x - z))}"
      ]
     },
     "execution_count": 7,
     "metadata": {},
     "output_type": "execute_result"
    }
   ],
   "source": [
    "dt[1, [(0, 1)]]"
   ]
  },
  {
   "cell_type": "markdown",
   "id": "811b3894-c1ca-4ca3-980f-10f36533d231",
   "metadata": {},
   "source": [
    "That is, in sparse format the square brackets operator takes in input a pair consisting of an integer (the function component) and a list of (variable index, diff order) pairs where the diff order is always nonzero. Sparse format performs better when working with first-order derivatives of functions with many variables, a situation in which dense indices vectors would be wastefully filled with zeroes.\n",
    "\n",
    "We can check if a specific index vector appears in a {class}`~heyoka.dtens` object via the ``in`` operator:"
   ]
  },
  {
   "cell_type": "code",
   "execution_count": 8,
   "id": "83ca1237-05fe-47bd-a700-4ce4f3dc5517",
   "metadata": {},
   "outputs": [
    {
     "data": {
      "text/plain": [
       "False"
      ]
     },
     "execution_count": 8,
     "metadata": {},
     "output_type": "execute_result"
    }
   ],
   "source": [
    "[3, 3, 3, 3] in dt"
   ]
  },
  {
   "cell_type": "code",
   "execution_count": 9,
   "id": "ab83ee99-c9a8-482c-af07-38f93bb671df",
   "metadata": {},
   "outputs": [
    {
     "data": {
      "text/plain": [
       "False"
      ]
     },
     "execution_count": 9,
     "metadata": {},
     "output_type": "execute_result"
    }
   ],
   "source": [
    "[3, [(0, 3)]] in dt"
   ]
  },
  {
   "cell_type": "markdown",
   "id": "2976b334-4f62-41af-8eeb-38ba9948fe7a",
   "metadata": {},
   "source": [
    "The {func}`~heyoka.dtens.get_derivatives()` method can be used to fetch all derivatives for a specific total order. For instance, we can fetch the Jacobian from ``dt``:"
   ]
  },
  {
   "cell_type": "code",
   "execution_count": 10,
   "id": "9107b384-2c4c-44f2-b051-666e05b6de6b",
   "metadata": {},
   "outputs": [
    {
     "data": {
      "text/plain": [
       "[([0, 1, 0, 0], 1.0000000000000000),\n",
       " ([0, 0, 1, 0], {({z} * {-sin((y * z))})}),\n",
       " ([0, 0, 0, 1], {({y} * {-sin((y * z))})}),\n",
       " ([1, 1, 0, 0], {exp((x - z))}),\n",
       " ([1, 0, 1, 0], {y**-1.0000000000000000}),\n",
       " ([1, 0, 0, 1], {-{exp((x - z))}})]"
      ]
     },
     "execution_count": 10,
     "metadata": {},
     "output_type": "execute_result"
    }
   ],
   "source": [
    "dt.get_derivatives(diff_order=1)"
   ]
  },
  {
   "cell_type": "markdown",
   "id": "8cdd5487-56cd-42d2-ad0d-35efcd39743f",
   "metadata": {},
   "source": [
    "We can also ask for the derivatives of a specific component. For instance, here's the gradient of the first component of the function:"
   ]
  },
  {
   "cell_type": "code",
   "execution_count": 11,
   "id": "59c91eb7-00e3-4a66-9c81-075349320805",
   "metadata": {},
   "outputs": [
    {
     "data": {
      "text/plain": [
       "[([0, 1, 0, 0], 1.0000000000000000),\n",
       " ([0, 0, 1, 0], {({z} * {-sin((y * z))})}),\n",
       " ([0, 0, 0, 1], {({y} * {-sin((y * z))})})]"
      ]
     },
     "execution_count": 11,
     "metadata": {},
     "output_type": "execute_result"
    }
   ],
   "source": [
    "dt.get_derivatives(diff_order=1, component=0)"
   ]
  },
  {
   "cell_type": "markdown",
   "id": "4b30b95c-a22b-470d-8db0-39826ce8f7ef",
   "metadata": {},
   "source": [
    "```{versionadded} 3.1.0\n",
    "\n",
    "```\n",
    "\n",
    "The convenience properties {attr}`~heyoka.dtens.gradient` and {attr}`~heyoka.dtens.jacobian` can be used to access the gradient and Jacobian from a {class}`~heyoka.dtens` object. For instance:"
   ]
  },
  {
   "cell_type": "code",
   "execution_count": 12,
   "id": "421d1155-4ced-4ed9-a380-113dd23a4ffe",
   "metadata": {},
   "outputs": [
    {
     "data": {
      "text/plain": [
       "array([[1.0000000000000000, {({z} * {-sin((y * z))})},\n",
       "        {({y} * {-sin((y * z))})}],\n",
       "       [{exp((x - z))}, {y**-1.0000000000000000}, {-{exp((x - z))}}]],\n",
       "      dtype=object)"
      ]
     },
     "execution_count": 12,
     "metadata": {},
     "output_type": "execute_result"
    }
   ],
   "source": [
    "# Fetch from dt the Jacobian as a 2D array.\n",
    "dt.jacobian"
   ]
  },
  {
   "cell_type": "markdown",
   "id": "6090fe57-827e-435b-bfba-5c71267aad47",
   "metadata": {},
   "source": [
    "## diff() vs diff_tensors()\n",
    "\n",
    "``diff()`` and {func}`~heyoka.diff_tensors()` both compute symbolic derivatives, and thus produce mathematically-equivalent results. However, the symbolic structure of the expressions returned by ``diff()`` and {func}`~heyoka.diff_tensors()` can differ in ways that have a profound impact on the runtime complexity of the numerical evaluation of the derivatives.\n",
    "\n",
    "``diff()`` always applies the chain rule in [forward mode](https://en.wikipedia.org/wiki/Automatic_differentiation#Forward_accumulation), and it also always applies the automatic simplifications described earlier in this tutorial. It is somewhat analogue to a pen-and-paper calculation.\n",
    "\n",
    "By contrast, {func}`~heyoka.diff_tensors()` may choose, depending on the function being differentiated and on the differentiation order, to perform symbolic differentiation in [reverse mode](https://en.wikipedia.org/wiki/Automatic_differentiation#Reverse_accumulation), rather than in forward mode. {func}`~heyoka.diff_tensors()` also extensively uses ``fix()`` to {ref}`disable most automatic simplifications <ex_system_prev_simpl>` with the goal of producing symbolic expressions that are as close as possible to verbatim transcriptions of the forward/reverse mode automatic differentiation (AD) algorithms.\n",
    "\n",
    "In order to clarify, let us show a concrete example where the differences between ``diff()`` and {func}`~heyoka.diff_tensors()` matter a great deal. Speelpenning's function\n",
    "\n",
    "$$\n",
    "f\\left(x_1, x_2, \\ldots, x_n \\right) = x_1\\cdot x_2 \\cdot \\ldots \\cdot x_n\n",
    "$$\n",
    "\n",
    "has often been used to ([incorrectly](https://arxiv.org/abs/1904.02990)) argue that numerical reverse-mode AD is superior to symbolic differentiation. Let us try to compute the gradient of this function first using ``diff()`` and then using {func}`~heyoka.diff_tensors()`.\n",
    "\n",
    "We begin with the definition of the function (taking $n=8$):"
   ]
  },
  {
   "cell_type": "code",
   "execution_count": 13,
   "id": "d2a60808-1a5c-44f0-9f60-a0dbd629006a",
   "metadata": {},
   "outputs": [
    {
     "data": {
      "text/plain": [
       "(x_1 * x_2 * x_3 * x_4 * x_5 * x_6 * x_7 * x_8)"
      ]
     },
     "execution_count": 13,
     "metadata": {},
     "output_type": "execute_result"
    }
   ],
   "source": [
    "sym_vars = [hy.expression(f\"x_{i}\") for i in range(1, 9)]\n",
    "sp_func = hy.prod(sym_vars)\n",
    "sp_func"
   ]
  },
  {
   "cell_type": "markdown",
   "id": "8e0aa632-9365-4c6d-9411-e6163846c74a",
   "metadata": {},
   "source": [
    "Now let us compute the gradient via ``diff()``:"
   ]
  },
  {
   "cell_type": "code",
   "execution_count": 14,
   "id": "118679d6-645f-49b5-af39-4ee15e926ada",
   "metadata": {},
   "outputs": [
    {
     "data": {
      "text/plain": [
       "[(x_2 * x_3 * x_4 * x_5 * x_6 * x_7 * x_8),\n",
       " (x_1 * x_3 * x_4 * x_5 * x_6 * x_7 * x_8),\n",
       " (x_1 * x_2 * x_4 * x_5 * x_6 * x_7 * x_8),\n",
       " (x_1 * x_2 * x_3 * x_5 * x_6 * x_7 * x_8),\n",
       " (x_1 * x_2 * x_3 * x_4 * x_6 * x_7 * x_8),\n",
       " (x_1 * x_2 * x_3 * x_4 * x_5 * x_7 * x_8),\n",
       " (x_1 * x_2 * x_3 * x_4 * x_5 * x_6 * x_8),\n",
       " (x_1 * x_2 * x_3 * x_4 * x_5 * x_6 * x_7)]"
      ]
     },
     "execution_count": 14,
     "metadata": {},
     "output_type": "execute_result"
    }
   ],
   "source": [
    "grad_diff = [hy.diff(sp_func, v) for v in sym_vars]\n",
    "grad_diff"
   ]
  },
  {
   "cell_type": "markdown",
   "id": "f87e7ba3-e2f0-44de-94ce-b2a0d0821a65",
   "metadata": {},
   "source": [
    "We can see how in the components of the gradient there are multiple repeated subexpressions. It is however unclear how one would select and isolate these common subexpressions with the goal of avoiding redundant computations - in general, this is a combinatorially-hard symbolic optimisation problem.\n",
    "\n",
    "If we construct a compiled function for the evaluation of ``grad_diff`` and examine its decomposition, we can confirm that the number of operations needed to evaluate ``grad_diff`` scales quadratically $\\operatorname{O}\\left(n^2\\right)$ with the number of variables:"
   ]
  },
  {
   "cell_type": "code",
   "execution_count": 16,
   "id": "4cab33d2-891e-43f8-93f6-dbcd66a369ba",
   "metadata": {},
   "outputs": [
    {
     "data": {
      "text/plain": [
       "[(u_0 * u_1 * u_2 * u_3 * u_4 * u_5 * u_6),\n",
       " (u_1 * u_2 * u_3 * u_4 * u_5 * u_6 * u_7),\n",
       " (u_0 * u_2 * u_3 * u_4 * u_5 * u_6 * u_7),\n",
       " (u_0 * u_1 * u_3 * u_4 * u_5 * u_6 * u_7),\n",
       " (u_0 * u_1 * u_2 * u_4 * u_5 * u_6 * u_7),\n",
       " (u_0 * u_1 * u_2 * u_3 * u_5 * u_6 * u_7),\n",
       " (u_0 * u_1 * u_2 * u_3 * u_4 * u_6 * u_7),\n",
       " (u_0 * u_1 * u_2 * u_3 * u_4 * u_5 * u_7)]"
      ]
     },
     "execution_count": 16,
     "metadata": {},
     "output_type": "execute_result"
    }
   ],
   "source": [
    "grad_diff_cf = hy.cfunc(grad_diff, sym_vars)\n",
    "grad_diff_cf.dc[8:-8]"
   ]
  },
  {
   "cell_type": "markdown",
   "id": "c1d8e0ba-2fe3-41d8-9ba5-5d9effaa0852",
   "metadata": {},
   "source": [
    "Now let us take a look at how {func}`~heyoka.diff_tensors()` behaves instead:"
   ]
  },
  {
   "cell_type": "code",
   "execution_count": 17,
   "id": "5d91bb57-227d-460f-8827-f01444399075",
   "metadata": {},
   "outputs": [
    {
     "data": {
      "text/plain": [
       "[{({x_2} * {({((x_5 * x_6) * (x_7 * x_8))} * {(x_3 * x_4)})})},\n",
       " {({x_1} * {({((x_5 * x_6) * (x_7 * x_8))} * {(x_3 * x_4)})})},\n",
       " {({x_4} * {({((x_5 * x_6) * (x_7 * x_8))} * {(x_1 * x_2)})})},\n",
       " {({x_3} * {({((x_5 * x_6) * (x_7 * x_8))} * {(x_1 * x_2)})})},\n",
       " {({x_6} * {({(x_7 * x_8)} * {((x_1 * x_2) * (x_3 * x_4))})})},\n",
       " {({x_5} * {({(x_7 * x_8)} * {((x_1 * x_2) * (x_3 * x_4))})})},\n",
       " {({x_8} * {({(x_5 * x_6)} * {((x_1 * x_2) * (x_3 * x_4))})})},\n",
       " {({x_7} * {({(x_5 * x_6)} * {((x_1 * x_2) * (x_3 * x_4))})})}]"
      ]
     },
     "execution_count": 17,
     "metadata": {},
     "output_type": "execute_result"
    }
   ],
   "source": [
    "# Compute the gradient via diff_tensors().\n",
    "grad_diff_tensors = [t[1] for t in hy.diff_tensors([sp_func],\n",
    "                                                   diff_args=hy.diff_args.vars,\n",
    "                                                   diff_order=1).get_derivatives(1)]\n",
    "grad_diff_tensors"
   ]
  },
  {
   "cell_type": "markdown",
   "id": "bae7373a-ffdd-4bb4-989a-7a5bdb3f5ca5",
   "metadata": {},
   "source": [
    "When computing the gradient of a multivariate scalar function, {func}`~heyoka.diff_tensors()` automatically selects reverse-mode symbolic differentiation. We can see how the reverse-mode AD algorithm collects the terms in nested binary multiplications which occur multiple times in the gradient's components. The flattening of these binary multiplications is prevented by the use of the ``fix()`` function. As a consequence, when creating a compiled function for the evaluation of ``grad_diff_tensors``, the repeated subexpressions are recognised by heyoka.py (via a process of [common subexpression elimination](https://en.wikipedia.org/wiki/Common_subexpression_elimination)) and evaluated only once. Let us check:"
   ]
  },
  {
   "cell_type": "code",
   "execution_count": 18,
   "id": "36e7c1ef-2b45-4a5d-a1ae-7272f26ce4c0",
   "metadata": {},
   "outputs": [
    {
     "data": {
      "text/plain": [
       "[(u_0 * u_1),\n",
       " (u_2 * u_3),\n",
       " (u_4 * u_5),\n",
       " (u_6 * u_7),\n",
       " (u_8 * u_9),\n",
       " (u_10 * u_11),\n",
       " (u_11 * u_12),\n",
       " (u_10 * u_12),\n",
       " (u_13 * u_9),\n",
       " (u_13 * u_8),\n",
       " (u_5 * u_14),\n",
       " (u_4 * u_14),\n",
       " (u_7 * u_15),\n",
       " (u_6 * u_15),\n",
       " (u_1 * u_16),\n",
       " (u_0 * u_16),\n",
       " (u_3 * u_17),\n",
       " (u_2 * u_17)]"
      ]
     },
     "execution_count": 18,
     "metadata": {},
     "output_type": "execute_result"
    }
   ],
   "source": [
    "grad_diff_tensors_cf = hy.cfunc(grad_diff_tensors, sym_vars)\n",
    "grad_diff_tensors_cf.dc[8:-8]"
   ]
  },
  {
   "cell_type": "markdown",
   "id": "20c8c95d-0cd6-4cfa-afec-c2eef3c66338",
   "metadata": {},
   "source": [
    "The total number of operations needed to evaluate the gradient has been reduced from 48 (via ``diff()``) to 18 (via {func}`~heyoka.diff_tensors()`). Indeed, we can show how the computational complexity of the evaluation of the gradient of Speelpenning's function via reverse-mode symbolic AD scales linearly $\\operatorname{O}\\left(n\\right)$ with the number of variables:"
   ]
  },
  {
   "cell_type": "code",
   "execution_count": 19,
   "id": "4b719891-0d23-4e4e-b8e0-49ff0aea97bb",
   "metadata": {},
   "outputs": [
    {
     "data": {
      "image/png": "[encoded data removed]",
      "text/plain": [
       "<Figure size 400x400 with 1 Axes>"
      ]
     },
     "metadata": {},
     "output_type": "display_data"
    }
   ],
   "source": [
    "nops = []\n",
    "nvars_list = [3, 6, 9, 12, 15, 18, 21]\n",
    "\n",
    "for nvars in nvars_list:\n",
    "    sym_vars = [hy.expression(f\"x_{i}\") for i in range(1, nvars+1)]\n",
    "    sp_func = hy.prod(sym_vars)\n",
    "    grad_diff_tensors = [t[1] for t in hy.diff_tensors([sp_func],\n",
    "                                                       diff_args=hy.diff_args.vars,\n",
    "                                                       diff_order=1).get_derivatives(1)]\n",
    "    grad_diff_tensors_cf = hy.cfunc(grad_diff_tensors, sym_vars)\n",
    "    nops.append(len(grad_diff_tensors_cf.dc) - 2*nvars)\n",
    "\n",
    "%matplotlib inline\n",
    "from matplotlib.pylab import plt\n",
    "\n",
    "fig = plt.figure(figsize = (4, 4))\n",
    "\n",
    "plt.plot(nvars_list, nops, 'o-')\n",
    "plt.xticks(nvars_list)\n",
    "plt.xlabel(\"N of variables\")\n",
    "plt.ylabel(\"N of operations\")\n",
    "\n",
    "plt.tight_layout();"
   ]
  },
  {
   "cell_type": "markdown",
   "id": "f14ef44a-c332-4367-a8c0-58d69ba3d8ff",
   "metadata": {
    "jp-MarkdownHeadingCollapsed": true
   },
   "source": [
    "This is clearly a marked improvement with respect to the quadratic complexity of the gradient computed via ``diff()``.\n",
    "\n",
    "## General guidelines\n",
    "\n",
    "In conclusion, how should one choose whether to use ``diff()`` or {func}`~heyoka.diff_tensors()` to compute symbolic derivatives in heyoka.py?\n",
    "\n",
    "In general, ``diff()`` should be used when the goal is to produce human-readable symbolic expressions, and when one wants to take advantage of heyoka.py's symbolic simplification capabilities.\n",
    "\n",
    "If, however, the goal is to optimise the performance of the numerical evaluation of derivatives, then one should consider using {func}`~heyoka.diff_tensors()` instead."
   ]
  }
 ],
 "metadata": {
  "kernelspec": {
   "display_name": "Python 3 (ipykernel)",
   "language": "python",
   "name": "python3"
  },
  "language_info": {
   "codemirror_mode": {
    "name": "ipython",
    "version": 3
   },
   "file_extension": ".py",
   "mimetype": "text/x-python",
   "name": "python",
   "nbconvert_exporter": "python",
   "pygments_lexer": "ipython3",
   "version": "3.11.7"
  }
 },
 "nbformat": 4,
 "nbformat_minor": 5
}
