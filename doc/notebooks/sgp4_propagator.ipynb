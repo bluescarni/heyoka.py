{
 "cells": [
  {
   "cell_type": "markdown",
   "id": "56f579c1-cb51-4aec-87a7-322ab2b65792",
   "metadata": {},
   "source": [
    "(tut_sgp4_propagator)=\n",
    "\n",
    "# A differentiable SGP4 propagator\n",
    "\n",
    "```{versionadded} 5.1.0\n",
    "\n",
    "```\n",
    "\n",
    "[SGP4](https://en.wikipedia.org/wiki/Simplified_perturbations_models) is an analytical orbital propagator widely used in the aerospace community to compute predictions of the positions and velocities of objects orbiting the Earth. It belongs to the class of so-called *general perturbation techniques*, and it owes its popularity in large part to its performance and to the fact that it supports [two-line elements (TLEs)](https://en.wikipedia.org/wiki/Two-line_element_set) data in their original format.\n",
    "\n",
    "Starting with version 5.1.0, heyoka.py provides an original SGP4 implementation whose hallmark features are differentiability (up to arbitrary order) and high performance via multi-threaded parallelisation and [SIMD](https://en.wikipedia.org/wiki/Single_instruction,_multiple_data) vectorisation. Differentiability is key in enabling a host of traditional astrodynamical applications, such as state covariance propagation, state transition matrix computation, gradient-based optimisation, orbit determination, etc. In recent years, differentiability has become important also in applications based on statistical and machine-learning methods - see for instance ESA's [differentiable SGP4 library](https://github.com/esa/dSGP4) (which is built on top of the standard machine-learning Python stack) and the [accompanying paper](https://arxiv.org/abs/2402.04830).\n",
    "\n",
    "In this tutorial, we will walk through the API and showcase the main features of heyoka.py's SGP4 propagator.\n",
    "\n",
    "```{note}\n",
    "\n",
    "At this time, heyoka.py's SGP4 propagator does not implement support for deep-space propagation (i.e., the so-called SDP4 algorithm). As a consequence, the propagator will throw an exception if a deep-space orbit is detected.\n",
    "Please [let us know](https://github.com/bluescarni/heyoka.py/issues) if you are interested in support for deep-space propagations.\n",
    "\n",
    "```\n",
    "\n",
    "## Getting the TLEs\n",
    "\n",
    "The SGP4 algorithm takes in input a general perturbations element set (GPE), which contains the averaged orbital elements of the satellite at a reference epoch, the [drag coefficient](https://en.wikipedia.org/wiki/BSTAR) and additional information not used in the orbital propagation. Up-to-date GPEs in the form of two-line elements (TLEs) can be downloaded from several resources on the web, including [CelesTrak](https://celestrak.org/) and [Space-Track](https://www.space-track.org). For the purpose of this tutorial, we will be using an offline copy of the TLE catalog of all objects tracked by [Space-Track](https://www.space-track.org), downloaded in July 2024. In order to parse the TLE data, we will be using the [Skyfield](https://rhodesmill.org/skyfield) library.\n",
    "\n",
    "Let us begin by loading the TLE data:"
   ]
  },
  {
   "cell_type": "code",
   "execution_count": 5,
   "id": "cefefa7d-863f-43c7-8572-0a386c04d0d6",
   "metadata": {},
   "outputs": [
    {
     "name": "stdout",
     "output_type": "stream",
     "text": [
      "Total number of objects: 26389\n"
     ]
    }
   ],
   "source": [
    "from skyfield.api import load\n",
    "from skyfield.iokit import parse_tle_file\n",
    "\n",
    "# Load the TLE data using the Skyfield library. See also:\n",
    "#\n",
    "# https://rhodesmill.org/skyfield/earth-satellites.html\n",
    "satellites = list(parse_tle_file(load.open('satcat.3le'), load.timescale()))\n",
    "print(f\"Total number of objects: {len(satellites)}\")"
   ]
  },
  {
   "cell_type": "markdown",
   "id": "d4705fd1-ee5f-4924-91b3-98880f51c136",
   "metadata": {},
   "source": [
    "Because, as mentioned earlier, heyoka.py's SGP4 propagator does not support deep-space objects, we have to remove them from the satellites list. We can accomplish this with the help of the {py:func}`~heyoka.model.gpe_is_deep_space()` function:"
   ]
  },
  {
   "cell_type": "code",
   "execution_count": 6,
   "id": "ea330930-d21a-417a-b22a-9a255c0dd908",
   "metadata": {},
   "outputs": [
    {
     "name": "stdout",
     "output_type": "stream",
     "text": [
      "Total number of objects (excluding deep-space): 22333\n"
     ]
    }
   ],
   "source": [
    "import heyoka as hy\n",
    "\n",
    "# Retain only non-deep-space satellites\n",
    "sats = list(filter(lambda sat: not hy.model.gpe_is_deep_space(sat.no_kozai, sat.ecco, sat.inclo),\n",
    "                  (sat.model for sat in satellites)))\n",
    "\n",
    "print(f\"Total number of objects (excluding deep-space): {len(sats)}\")"
   ]
  },
  {
   "cell_type": "markdown",
   "id": "ced93fc4-fb27-459d-9323-3fa0668ca900",
   "metadata": {},
   "source": [
    "We can see how we removed just around 4000 objects from a total of about 26000. Indeed, most tracked Earth-orbiting objects are in low-Earth orbit."
   ]
  },
  {
   "cell_type": "markdown",
   "id": "0a4b42cd-af2f-4ee5-8dc9-562ff1ef697d",
   "metadata": {},
   "source": [
    "## Building an SGP4 propagator\n",
    "\n",
    "We can now proceed to build an SGP4 propagator via the {py:func}`~heyoka.model.sgp4_propagator()` function:"
   ]
  },
  {
   "cell_type": "code",
   "execution_count": 7,
   "id": "dc973893-42ec-463f-9ad2-ea5db15fcf0b",
   "metadata": {},
   "outputs": [],
   "source": [
    "prop = hy.model.sgp4_propagator(sats)"
   ]
  },
  {
   "cell_type": "markdown",
   "id": "1e3ec1fa-1c09-46f7-a8fe-f6da4c33edb2",
   "metadata": {},
   "source": [
    "{py:func}`~heyoka.model.sgp4_propagator()` takes as only mandatory input argument the list of satellites, represented as ``Satrec`` objects from the [sgp4 Python module](https://pypi.org/project/sgp4/) (on which Skyfield depends). It returns a propagator object, by default of type {py:func}`~heyoka.model.sgp4_propagator_dbl()` (i.e., a double-precision propagator). You can also request a single-precision propagator via the {ref}`fp_type keyword argument <api_common_kwargs_fp_type>`."
   ]
  },
  {
   "cell_type": "markdown",
   "id": "7789bb6f-20a2-4f1b-a83b-addc9e9c8d91",
   "metadata": {},
   "source": [
    "## Understanding the data layout\n",
    "\n",
    "Before moving on to use the propagator to actually compute some orbits, we need to discuss briefly the data layout expected and adopted by the propagator API.\n",
    "\n",
    "In order to extract maximum performance via the use of [SIMD](https://en.wikipedia.org/wiki/Single_instruction,_multiple_data) instructions, the propagator API requires that data referring to different satellites is stored contiguously in a [structure of arrays](https://en.wikipedia.org/wiki/AoS_and_SoA) fashion.\n",
    "\n",
    "As an example of what this means, we can take a look at the shape of the {py:attr}`~heyoka.model.sgp4_propagator_dbl.sat_data` property of the propagator class, which is a two-dimensional array containing the GPE data for all the satellites:"
   ]
  },
  {
   "cell_type": "code",
   "execution_count": 8,
   "id": "4abc1c61-9ec6-437c-8203-b32a08c38c0a",
   "metadata": {},
   "outputs": [
    {
     "data": {
      "text/plain": [
       "(9, 22333)"
      ]
     },
     "execution_count": 8,
     "metadata": {},
     "output_type": "execute_result"
    }
   ],
   "source": [
    "prop.sat_data.shape"
   ]
  },
  {
   "cell_type": "markdown",
   "id": "53cdb872-8b78-4b1b-9870-cd7f418b8d0c",
   "metadata": {},
   "source": [
    "We can see that we have 9 rows (each referring to a different GPE quantity) and 22333 columns (each referring to a different satellite). Thus, for instance, the GPE mean motions for all satellites are stored contiguously next to each other in the first row of the array:"
   ]
  },
  {
   "cell_type": "code",
   "execution_count": 9,
   "id": "2fc97b50-1b49-410f-87ad-8fd58b6e15a7",
   "metadata": {},
   "outputs": [
    {
     "data": {
      "text/plain": [
       "array([0.04736197, 0.05185823, 0.05002965, ..., 0.05346113, 0.05652762,\n",
       "       0.07130705], shape=(22333,))"
      ]
     },
     "execution_count": 9,
     "metadata": {},
     "output_type": "execute_result"
    }
   ],
   "source": [
    "# Print the GPE mean motions of all satellites.\n",
    "prop.sat_data[0]"
   ]
  },
  {
   "cell_type": "markdown",
   "id": "34acdf78-a150-4113-8b61-72fcbc14abae",
   "metadata": {},
   "source": [
    "As mentioned earlier, this data layout allows to extract optimal performance via the use of SIMD instructions, but on the other hand it may be less user-friendly than a layout in which each row contains the data of a different satellite. Luckily, NumPy makes it very easy to reshape the data in any desired form. For instance, with a simple transposition we can achieve the one-satellite-per-row data layout:"
   ]
  },
  {
   "cell_type": "code",
   "execution_count": 6,
   "id": "e37a6bb0-4ed7-4bc8-b8f3-1be8a7856516",
   "metadata": {},
   "outputs": [
    {
     "data": {
      "text/plain": [
       "(22333, 9)"
      ]
     },
     "execution_count": 6,
     "metadata": {},
     "output_type": "execute_result"
    }
   ],
   "source": [
    "# Transpose sat_data so that each rows\n",
    "# contains all GPE data for a single\n",
    "# satellite\n",
    "prop.sat_data.T.shape"
   ]
  },
  {
   "cell_type": "markdown",
   "id": "2afd47ad-d6d0-4c5b-9f2b-def60e13f1b8",
   "metadata": {},
   "source": [
    "## Scalar propagation\n",
    "\n",
    "We are now ready to perform our first orbit propagation by invoking the call operator of the propagator object, which accepts in input a list of propagation times (one per satellite). The times can be passed either as an array of floating-point values, or as an array of Julian dates (represented via the {py:attr}`~heyoka.model.sgp4_propagator_dbl.jdtype` datatype). In the former case, the times are interpreted as minutes elapsed since the GPE reference epoch of the satellite. In the latter case, the state of each satellite is propagated up to the specified Julian date. Here we will be focusing on date-based propagation as it is by far the most useful one.\n",
    "\n",
    "We begin by creating an (empty) array of Julian dates:"
   ]
  },
  {
   "cell_type": "code",
   "execution_count": 10,
   "id": "5024d054-919b-41ea-a1f1-521ac9097282",
   "metadata": {},
   "outputs": [],
   "source": [
    "import numpy as np\n",
    "dates = np.zeros((prop.nsats,), dtype=prop.jdtype)"
   ]
  },
  {
   "cell_type": "markdown",
   "id": "dec1591c-0a34-49a9-83d9-f6292efd4c96",
   "metadata": {},
   "source": [
    "Julian dates are represented via the {py:attr}`~heyoka.model.sgp4_propagator_dbl.jdtype` type, which is a {ref}`structured NumPy datatype<numpy:defining-structured-types>` consisting of\n",
    "two floating-point fields, the first one called ``jd`` and representing a Julian date, the second one called ``frac`` representing a fractional correction to ``jd`` (so that the full\n",
    "Julian date is ``jd + frac``).\n",
    "\n",
    "Although in principle we could propagate each satellite to a different date, here we will be propagating *all* satellites to the same Julian date:"
   ]
  },
  {
   "cell_type": "code",
   "execution_count": 11,
   "id": "a3dd3dd5-2207-4399-b138-8722508c97bc",
   "metadata": {},
   "outputs": [],
   "source": [
    "# Pick a Julian date somewhere in July 2024.\n",
    "dates[\"jd\"] = 2460496.5"
   ]
  },
  {
   "cell_type": "markdown",
   "id": "d3188876-e456-4616-acdf-3e8c00c3636c",
   "metadata": {},
   "source": [
    "We also set some random value for the fractional part:"
   ]
  },
  {
   "cell_type": "code",
   "execution_count": 12,
   "id": "1bb560f2-69dc-490e-bd75-40d689abf067",
   "metadata": {},
   "outputs": [],
   "source": [
    "dates[\"frac\"] = 0.5833449099999939"
   ]
  },
  {
   "cell_type": "markdown",
   "id": "17e1c09a-3676-44fc-837e-e76a344e454f",
   "metadata": {},
   "source": [
    "```{note}\n",
    "\n",
    "Splitting the Julian date in two parts allows to increase the time resolution, which is limited to circa 1 microsecond for contemporary Julian dates when using a single double-precision value. If you are ok with such accuracy, you can just set the fractional part to zero.\n",
    "\n",
    "```\n",
    "\n",
    "We are now ready to propagate the state of the satellites:"
   ]
  },
  {
   "cell_type": "code",
   "execution_count": 13,
   "id": "c339c20c-75b5-43e4-85ea-7bfea426f85e",
   "metadata": {},
   "outputs": [],
   "source": [
    "# Compute the state vectors of all satellites\n",
    "# at the specified Julian date.\n",
    "sv = prop(dates)"
   ]
  },
  {
   "cell_type": "markdown",
   "id": "8d0c9b77-62a5-49ec-aaf2-5865d3b50cbe",
   "metadata": {},
   "source": [
    "The propagation returns a two-dimensional array, in which the first 6 rows contain the Cartesian state vector (position and velocity) of all satellites in the TEME reference frame, while the last row contains a status flag which, if nonzero, signals that an error was detected during the propagation:"
   ]
  },
  {
   "cell_type": "code",
   "execution_count": 14,
   "id": "ed16ba6a-35c2-46e3-b4d9-35962ea6cbd1",
   "metadata": {},
   "outputs": [
    {
     "data": {
      "text/plain": [
       "(7, 22333)"
      ]
     },
     "execution_count": 14,
     "metadata": {},
     "output_type": "execute_result"
    }
   ],
   "source": [
    "sv.shape"
   ]
  },
  {
   "cell_type": "markdown",
   "id": "f1618189-d965-4076-9c0c-fadb1d32720c",
   "metadata": {},
   "source": [
    "Thus, for instance, if we want to extract the propagated state vector of the first satellite, we can write:"
   ]
  },
  {
   "cell_type": "code",
   "execution_count": 15,
   "id": "12192555-65d6-40ab-8c1f-fda89311b285",
   "metadata": {},
   "outputs": [
    {
     "data": {
      "text/plain": [
       "array([ 9.94002471e+03, -2.21458911e+03, -3.67188430e+02,  9.98417155e-01,\n",
       "        4.56880512e+00,  3.18182714e+00])"
      ]
     },
     "execution_count": 15,
     "metadata": {},
     "output_type": "execute_result"
    }
   ],
   "source": [
    "sv[:6, 0]"
   ]
  },
  {
   "cell_type": "markdown",
   "id": "b6b4f995-8f95-455e-a69c-d8770d5262e2",
   "metadata": {},
   "source": [
    "The position (first 3 values) is returned in kilometers, while the velocity (last 3 values) is returned in kilometers per second. The status flags (contained in the 7th row of ``sv``) can assume the following integral values:\n",
    "\n",
    "- 0: no error was detected,\n",
    "- 1: the mean eccentricity is outside the range [0.0, 1.0],\n",
    "- 2: the mean mean motion is less than zero,\n",
    "- 3: the perturbed eccentricity is outside the range [0.0, 1.0],\n",
    "- 4: the semilatus rectum is less than zero,\n",
    "- 5: the satellite was underground (**NOTE**: this error code is no longer in use),\n",
    "- 6: the satellite has decayed.\n",
    "\n",
    "Let us now check the results of the propagation with those computed by the [sgp4 Python module](https://pypi.org/project/sgp4/), which wraps the [official C++ code](https://celestrak.org/software/vallado-sw.php) from CelesTrak:"
   ]
  },
  {
   "cell_type": "code",
   "execution_count": 16,
   "id": "65668259-b4d9-4d4d-924a-551236ce064f",
   "metadata": {},
   "outputs": [],
   "source": [
    "# Propagate with the sgp4 module.\n",
    "from sgp4.api import SatrecArray\n",
    "sat_arr = SatrecArray(sats)\n",
    "e, r, v = sat_arr.sgp4(np.array([2460496.5]), np.array([0.5833449099999939]))"
   ]
  },
  {
   "cell_type": "markdown",
   "id": "43d0b800-3bb7-4bd5-af2e-a681b43b8e08",
   "metadata": {},
   "source": [
    "Before doing the comparison, however, we have to account for the fact that the propagation may have errored out for some satellites. This can happen for instance if a satellite has decayed back to the Earth before the propagation date. Although the SGP4 algorithm does some error detection, it is not perfect, and thus, in addition to checking the error code ``e``, we also filter out satellites whose position is far outside LEO or contains non-finite values:"
   ]
  },
  {
   "cell_type": "code",
   "execution_count": 17,
   "id": "6511d2f2-3f8d-4bba-9641-6c4ab4800c4c",
   "metadata": {},
   "outputs": [],
   "source": [
    "# Mask out the satellites that:\n",
    "# - generated an error code, or\n",
    "# - ended up farther than 8000km from the Earth, or\n",
    "# - contain non-finite positional data.\n",
    "mask = np.logical_and.reduce((\n",
    "    e[:, 0] == 0,\n",
    "    np.linalg.norm(r[:, 0], axis=1) < 8000,\n",
    "    np.all(np.isfinite(r[:, 0]), axis=1)\n",
    "))"
   ]
  },
  {
   "cell_type": "markdown",
   "id": "fdbe4c60-0414-4c1b-9599-62e8d7e09d4e",
   "metadata": {},
   "source": [
    "We are now ready to plot the positional errors (in meters) for all satellites:"
   ]
  },
  {
   "cell_type": "code",
   "execution_count": 18,
   "id": "aa8ea5ee-5ec4-4293-9f70-47312a8037c7",
   "metadata": {},
   "outputs": [
    {
     "data": {
      "image/png": "[encoded data removed]",
      "text/plain": [
       "<Figure size 800x400 with 1 Axes>"
      ]
     },
     "metadata": {},
     "output_type": "display_data"
    }
   ],
   "source": [
    "%matplotlib inline\n",
    "\n",
    "import matplotlib.pylab as plt\n",
    "\n",
    "fig = plt.figure(figsize=(8,4))\n",
    "\n",
    "# Compute the positional error in meters.\n",
    "err = np.linalg.norm(r[mask, 0] - sv[:3, mask].T, axis=1) * 1e3\n",
    "\n",
    "# Plot it.\n",
    "plt.semilogy(err, '.', color='blue')\n",
    "\n",
    "plt.xlabel(\"Satellite #\")\n",
    "plt.ylabel(\"Error (m)\")\n",
    "\n",
    "plt.tight_layout();"
   ]
  },
  {
   "cell_type": "markdown",
   "id": "0826ab50-8dc0-49d0-b13b-3a05c1dca975",
   "metadata": {},
   "source": [
    "We can see how the error of our implementation stays well below the millimeter level for all satellites."
   ]
  },
  {
   "cell_type": "markdown",
   "id": "b86f174b-b713-41ef-a6e6-c64dc16d0f40",
   "metadata": {},
   "source": [
    "## Batch propagation\n",
    "\n",
    "In addition to being able to propagate the state of a satellite to a single date, our propagator is also capable of propagating the state to multiple dates at a time. We call this *batch mode* propagation.\n",
    "\n",
    "Batch mode is enabled by simply passing a two-dimensional array of dates to the call operator of the propagator, rather than a one-dimensional list. As usual with batch mode in heyoka.py, the number of columns must be equal to the number of satellites, while the number of rows represents the number of propagations to be performed per satellite:"
   ]
  },
  {
   "cell_type": "code",
   "execution_count": 19,
   "id": "af75af08-acf1-4ed9-9d75-8f593ca52065",
   "metadata": {},
   "outputs": [],
   "source": [
    "# Define a range of 30 days after our reference\n",
    "# Julian date 2460496.5.\n",
    "date_range = np.arange(2460496.5, 2460496.5 + 30)\n",
    "\n",
    "# Create the array of dates for batch-mode propagation.\n",
    "batch_dates = np.zeros((30, prop.nsats), dtype=prop.jdtype)\n",
    "\n",
    "# Set the propagation dates to date_range for all satellites.\n",
    "batch_dates['jd'] = np.repeat(date_range, prop.nsats).reshape((30, prop.nsats))\n",
    "# Set all fractional parts to a random value.\n",
    "batch_dates['frac'] = 0.5833449099999939"
   ]
  },
  {
   "cell_type": "markdown",
   "id": "793a23cc-d2b9-4cea-b231-494ea6c12c1a",
   "metadata": {},
   "source": [
    "We can now compute the propagation in batch mode:"
   ]
  },
  {
   "cell_type": "code",
   "execution_count": 20,
   "id": "a3fbf0cc-9c75-4604-bae7-037c5deab92b",
   "metadata": {},
   "outputs": [],
   "source": [
    "batch_sv = prop(batch_dates)"
   ]
  },
  {
   "cell_type": "markdown",
   "id": "4eabef3c-b0ef-43a5-8814-8da84093ccab",
   "metadata": {},
   "source": [
    "Let us take a look at the shape of the array of results:"
   ]
  },
  {
   "cell_type": "code",
   "execution_count": 21,
   "id": "026d6bd2-1066-4cdd-96a2-9cad7c1781e1",
   "metadata": {},
   "outputs": [
    {
     "data": {
      "text/plain": [
       "(30, 7, 22333)"
      ]
     },
     "execution_count": 21,
     "metadata": {},
     "output_type": "execute_result"
    }
   ],
   "source": [
    "batch_sv.shape"
   ]
  },
  {
   "cell_type": "markdown",
   "id": "94af1281-9b99-4eb7-bb54-67fa3391e826",
   "metadata": {},
   "source": [
    "The first dimension is the number of propagation dates we are using for each satellite (i.e., 30). Thus, for instance, if we are interested in fetching the states of all the satellites 10 days after the initial date, we can type:"
   ]
  },
  {
   "cell_type": "code",
   "execution_count": 22,
   "id": "58cb674d-8cf2-42f4-9117-1efd67286ee5",
   "metadata": {},
   "outputs": [
    {
     "data": {
      "text/plain": [
       "array([[-5.40251485e+03, -4.69145602e+03,  9.55769655e+03, ...,\n",
       "         1.41678672e+03,  3.28778318e+03, -3.62718041e+03],\n",
       "       [-2.89036662e+03,  5.36701569e+03,  5.09840792e+02, ...,\n",
       "        -1.04676752e+03, -5.03552829e+02, -4.58439426e+03],\n",
       "       [-3.87972378e+03, -4.59244765e+03, -8.68321583e+02, ...,\n",
       "         7.67431517e+03, -6.92301072e+03, -7.78967974e+02],\n",
       "       ...,\n",
       "       [-6.74147963e+00, -4.84579238e+00,  4.94057779e+00, ...,\n",
       "         6.72691919e+00, -1.05109071e+00,  1.86707617e+00],\n",
       "       [-1.78968059e+00,  7.17637365e-01, -3.13760364e+00, ...,\n",
       "         1.27142972e+00,  3.09883769e+00, -7.98112991e+00],\n",
       "       [ 0.00000000e+00,  0.00000000e+00,  0.00000000e+00, ...,\n",
       "         0.00000000e+00,  0.00000000e+00,  1.00000000e+00]],\n",
       "      shape=(7, 22333))"
      ]
     },
     "execution_count": 22,
     "metadata": {},
     "output_type": "execute_result"
    }
   ],
   "source": [
    "batch_sv[10]"
   ]
  },
  {
   "cell_type": "markdown",
   "id": "1da8a240-06b1-4f04-a7f6-2f4d61e1df74",
   "metadata": {},
   "source": [
    "The other two dimensions are, as in the scalar case, the number of propagated quantities and the number of satellites.\n",
    "\n",
    "Let us now repeat the same computation with the sgp4 Python module, which also supports batch propagation:"
   ]
  },
  {
   "cell_type": "code",
   "execution_count": 23,
   "id": "784d6c9b-021d-4734-bc77-2a62b4a698d2",
   "metadata": {},
   "outputs": [],
   "source": [
    "batch_e, batch_r, batch_v = sat_arr.sgp4(date_range,\n",
    "                                         np.array([0.5833449099999939]).repeat(30))"
   ]
  },
  {
   "cell_type": "markdown",
   "id": "32b77a0b-ec6e-43f8-bbac-de21a1e2c6fc",
   "metadata": {},
   "source": [
    "And let us plot the error of our implementation over the month-long propagation:"
   ]
  },
  {
   "cell_type": "code",
   "execution_count": 24,
   "id": "6d4569cf-29fa-4118-9f99-29abe0d45411",
   "metadata": {},
   "outputs": [
    {
     "data": {
      "image/png": "[encoded data removed]",
      "text/plain": [
       "<Figure size 800x400 with 1 Axes>"
      ]
     },
     "metadata": {},
     "output_type": "display_data"
    }
   ],
   "source": [
    "%matplotlib inline\n",
    "\n",
    "import matplotlib.pylab as plt\n",
    "\n",
    "fig = plt.figure(figsize=(8,4))\n",
    "\n",
    "for i, ssv in enumerate(batch_sv):\n",
    "    cur_mask = np.logical_and.reduce((\n",
    "        batch_e[:, i] == 0,\n",
    "        np.linalg.norm(batch_r[:, i], axis=1) < 8000,\n",
    "        np.all(np.isfinite(batch_r[:, i]), axis=1),\n",
    "    ))\n",
    "    \n",
    "    # Compute the positional error in meters\n",
    "    # for the current date.\n",
    "    err = np.linalg.norm(batch_r[cur_mask, i] - ssv[:3, cur_mask].T, axis=1) * 1e3\n",
    "\n",
    "    # Plot it.\n",
    "    plt.semilogy([date_range[i] - 2460496.5]*np.sum(cur_mask), err, '.',\n",
    "                 alpha=.5, color='blue')\n",
    "\n",
    "plt.xlabel(\"Day\")\n",
    "plt.ylabel(\"Error (m)\")\n",
    "\n",
    "plt.tight_layout();"
   ]
  },
  {
   "cell_type": "markdown",
   "id": "8f278dca-829f-48a2-9618-e3e85a036ef4",
   "metadata": {},
   "source": [
    "We can see again how, throughout the month-long propagation, the error of our implementation remains well below the millimeter level."
   ]
  },
  {
   "cell_type": "markdown",
   "id": "8ba3ee36-69a7-48ef-969d-6300235914e1",
   "metadata": {},
   "source": [
    "## Computing derivatives\n",
    "\n",
    "As we mentioned in the introduction, our SGP4 implementation is fully differentiable - meaning that it supports not only the propagation of state vectors, but also of their derivatives.\n",
    "\n",
    "At this time, the derivatives with respect to the GPE orbital elements and the BSTAR coefficient are computed, but it is not difficult to add the ability to fully customise the list of quantities with respect to which the derivatives are computed. Please [let us know](https://github.com/bluescarni/heyoka.py/issues) if you are interested in such a feature.\n",
    "\n",
    "In order to enable the computation of derivatives, we need to pass a nonzero ``diff_order`` to the {py:func}`~heyoka.model.sgp4_propagator()` function:"
   ]
  },
  {
   "cell_type": "code",
   "execution_count": 26,
   "id": "b76471fe-f380-4812-92c3-57b82c63c9d1",
   "metadata": {},
   "outputs": [],
   "source": [
    "# Build a first-order differentiable propagator.\n",
    "dprop = hy.model.sgp4_propagator(sats, diff_order=1, compact_mode=True)"
   ]
  },
  {
   "cell_type": "markdown",
   "id": "1c89b650-3ade-4b62-8924-626b5b4de7c4",
   "metadata": {},
   "source": [
    "Note how we enabled the ``compact_mode`` flag: the computation of the derivatives will generate very large symbolic expressions, and enabling compact mode allows us to keep the compilation times at a manageable level.\n",
    "\n",
    "We can confirm that ``dprop`` is a differentiable propagator by taking a look at its {py:attr}`~heyoka.model.sgp4_propagator_dbl.diff_order` property:"
   ]
  },
  {
   "cell_type": "code",
   "execution_count": 27,
   "id": "3d6fc2ae-3c80-4c77-bc12-54bf8aeccef1",
   "metadata": {},
   "outputs": [
    {
     "data": {
      "text/plain": [
       "1"
      ]
     },
     "execution_count": 27,
     "metadata": {},
     "output_type": "execute_result"
    }
   ],
   "source": [
    "dprop.diff_order"
   ]
  },
  {
   "cell_type": "markdown",
   "id": "00d27e28-1133-4c89-9251-360fab82dfda",
   "metadata": {},
   "source": [
    "We can also query the list of quantities with respect to which the derivatives are computed via the {py:attr}`~heyoka.model.sgp4_propagator_dbl.diff_args` property:"
   ]
  },
  {
   "cell_type": "code",
   "execution_count": 28,
   "id": "4c0157e9-8fd8-4f9d-a023-34b2f2737451",
   "metadata": {},
   "outputs": [
    {
     "data": {
      "text/plain": [
       "[n0, e0, i0, node0, omega0, m0, bstar]"
      ]
     },
     "execution_count": 28,
     "metadata": {},
     "output_type": "execute_result"
    }
   ],
   "source": [
    "dprop.diff_args"
   ]
  },
  {
   "cell_type": "markdown",
   "id": "9767c4aa-6291-4832-bf2e-8f3bacf80d8c",
   "metadata": {},
   "source": [
    "These are the standard GPE quantities, specifically:\n",
    "\n",
    "- ``n0``: the mean motion,\n",
    "- ``e0``: the eccentricity,\n",
    "- ``i0``: the inclination,\n",
    "- ``node0``: the right ascension of the ascending node,\n",
    "- ``omega0``: the argument of perigee,\n",
    "- ``m0``: the mean anomaly,\n",
    "- ``bstar``: the BSTAR coefficient.\n",
    "\n",
    "We can use the differentiable propagator exactly in the same way as the non-differentiable one:"
   ]
  },
  {
   "cell_type": "code",
   "execution_count": 29,
   "id": "1badd9a7-8b0c-4759-ac49-2eacf87e5920",
   "metadata": {},
   "outputs": [],
   "source": [
    "# Compute the state vectors and derivatives of all satellites\n",
    "# at the specified Julian date.\n",
    "dsv = dprop(dates)"
   ]
  },
  {
   "cell_type": "markdown",
   "id": "eaa40256-fc9f-4b34-a763-a411102c4355",
   "metadata": {},
   "source": [
    "Note however that the propagation output now contains more quantities per satellite:"
   ]
  },
  {
   "cell_type": "code",
   "execution_count": 26,
   "id": "e3e867d9-0e24-4a84-a199-b458a4847c21",
   "metadata": {},
   "outputs": [
    {
     "data": {
      "text/plain": [
       "(56, 22333)"
      ]
     },
     "execution_count": 26,
     "metadata": {},
     "output_type": "execute_result"
    }
   ],
   "source": [
    "dsv.shape"
   ]
  },
  {
   "cell_type": "markdown",
   "id": "9bb82e63-7919-46db-af15-8c7ff2b99ebe",
   "metadata": {},
   "source": [
    "In addition to the 7 propagation outputs, now we also have the $7 \\times 7 = 49$ derivatives of the outputs with respect to the GPE quantities, for a total of 56 output quantities. The derivatives are stored in the propagation output right after the state, in row-major order. For instance, the index range $\\left[ 7, 14 \\right)$ contains the derivatives of the Cartesian position $x$ with respect to the GPE quantities (in the order they show up in {py:attr}`~heyoka.model.sgp4_propagator_dbl.diff_args`). The index range $\\left[ 14, 21 \\right)$ contains the derivatives of the Cartesian position $y$, and so on.\n",
    "\n",
    "This means that we can easily fetch the Jacobian of, say, the first satellite's state vector as:"
   ]
  },
  {
   "cell_type": "code",
   "execution_count": 27,
   "id": "584f2898-df7a-47e4-b7ab-7cc5c3f42ef9",
   "metadata": {},
   "outputs": [
    {
     "data": {
      "text/plain": [
       "array([[ 2.52231381e+04,  7.96701510e+03,  4.32972861e+01,\n",
       "         2.21458911e+03,  2.03043357e+03,  1.26423088e+03,\n",
       "        -9.15870370e-01],\n",
       "       [ 7.86813221e+05, -3.44192784e+03,  2.69901893e+02,\n",
       "         9.94002471e+03,  8.18427858e+03,  5.78621933e+03,\n",
       "         2.78149747e+00],\n",
       "       [ 5.32584971e+05, -1.38714529e+03, -6.26383574e+02,\n",
       "         0.00000000e+00,  5.72154816e+03,  4.02580545e+03,\n",
       "         1.76872564e+00],\n",
       "       [-6.13130760e+02, -5.77824309e-01, -4.61811875e-01,\n",
       "        -4.56880512e+00, -5.54333858e+00, -4.74511204e+00,\n",
       "        -1.84381283e-03],\n",
       "       [ 1.70347065e+02, -4.78977349e+00, -3.15531992e+00,\n",
       "         9.98417155e-01,  1.12429140e+00,  1.05724585e+00,\n",
       "         9.64395926e-04],\n",
       "       [ 4.54229209e+01, -3.28117498e+00,  4.66732813e+00,\n",
       "         0.00000000e+00,  1.30646137e-01,  1.75512032e-01,\n",
       "         4.40393021e-04],\n",
       "       [ 0.00000000e+00,  0.00000000e+00,  0.00000000e+00,\n",
       "         0.00000000e+00,  0.00000000e+00,  0.00000000e+00,\n",
       "         0.00000000e+00]])"
      ]
     },
     "execution_count": 27,
     "metadata": {},
     "output_type": "execute_result"
    }
   ],
   "source": [
    "dsv[7:, 0].reshape((7, 7))"
   ]
  },
  {
   "cell_type": "markdown",
   "id": "83dadfa2-34f0-489d-9869-69a1bd662031",
   "metadata": {},
   "source": [
    "Note how the derivatives of the error codes (last row) are all zeros, as the error codes are discrete quantities.\n",
    "\n",
    "When moving to higher differentiation orders, fetching specific derivatives can quickly become complicated. The propagator class provides a couple of helpers to ease the task of locating derivatives in the propagation output. The basic logic is the same explained in the tutorials about [computing derivatives](<./computing_derivatives.ipynb>) and [the variational equations](<./var_ode_sys.ipynb>), so it should be fairly familiar to heyoka.py users.\n",
    "\n",
    "The first helper is the {py:func}`~heyoka.model.sgp4_propagator_dbl.get_dslice()` method. This method takes as input a differentiation order and, optionally, a component index, and returns a {class}`slice` into the output corresponding to the range of requested derivatives. Let us see a couple of examples:"
   ]
  },
  {
   "cell_type": "code",
   "execution_count": 28,
   "id": "adc87580-a708-4fbd-bf90-676861fa2aa3",
   "metadata": {},
   "outputs": [
    {
     "data": {
      "text/plain": [
       "slice(7, 56, None)"
      ]
     },
     "execution_count": 28,
     "metadata": {},
     "output_type": "execute_result"
    }
   ],
   "source": [
    "# Fetch the range of all order-1 derivatives.\n",
    "dprop.get_dslice(order=1)"
   ]
  },
  {
   "cell_type": "code",
   "execution_count": 29,
   "id": "86a68161-37ca-4ef0-bb94-bd8a41d96fdc",
   "metadata": {},
   "outputs": [
    {
     "data": {
      "text/plain": [
       "slice(21, 28, None)"
      ]
     },
     "execution_count": 29,
     "metadata": {},
     "output_type": "execute_result"
    }
   ],
   "source": [
    "# Fetch the range of order-1 derivatives\n",
    "# of the Cartesian position z (component=2).\n",
    "dprop.get_dslice(order=1, component=2)"
   ]
  },
  {
   "cell_type": "markdown",
   "id": "86339982-fa93-417c-9946-2051a357820d",
   "metadata": {},
   "source": [
    "We can directly use the slices returned by {py:func}`~heyoka.model.sgp4_propagator_dbl.get_dslice()` for indexing into the propagator output:"
   ]
  },
  {
   "cell_type": "code",
   "execution_count": 30,
   "id": "d72674ab-ab08-4980-af3f-34d5a86d74f6",
   "metadata": {},
   "outputs": [
    {
     "data": {
      "text/plain": [
       "array([ 5.32584971e+05, -1.38714529e+03, -6.26383574e+02,  0.00000000e+00,\n",
       "        5.72154816e+03,  4.02580545e+03,  1.76872564e+00])"
      ]
     },
     "execution_count": 30,
     "metadata": {},
     "output_type": "execute_result"
    }
   ],
   "source": [
    "# Print the first-order derivatives of the z\n",
    "# coordinate of the first satellite.\n",
    "dsv[dprop.get_dslice(order=1, component=2), 0]"
   ]
  },
  {
   "cell_type": "markdown",
   "id": "a0733a74-6010-4e45-a474-9a757c2b375f",
   "metadata": {},
   "source": [
    "The second helper is the {py:func}`~heyoka.model.sgp4_propagator_dbl.get_mindex()` method. Given an integral index into the output of a differentiable propagator, this method returns the differentiation multiindex associated to that output quantity.\n",
    "The multiindex returned by {py:func}`~heyoka.model.sgp4_propagator_dbl.get_mindex()` begins with the component index, while the remaining indices represent the differentiation orders. Let us see a couple of examples.\n",
    "\n",
    "We know from earlier that at index 7 we have the first-order derivative of component 0 (i.e., the Cartesian $x$ position of the satellite) with respect to the first GPE orbital element - that is, $\\frac{\\partial x}{\\partial n_0}$. Let us check:"
   ]
  },
  {
   "cell_type": "code",
   "execution_count": 30,
   "id": "a9c34612-8d35-47dd-9824-966cf49de5e5",
   "metadata": {},
   "outputs": [
    {
     "data": {
      "text/plain": [
       "[0, 1, 0, 0, 0, 0, 0, 0]"
      ]
     },
     "execution_count": 30,
     "metadata": {},
     "output_type": "execute_result"
    }
   ],
   "source": [
    "dprop.get_mindex(i=7)"
   ]
  },
  {
   "cell_type": "markdown",
   "id": "6ef99ab6-2018-475f-9518-1cc1005c022f",
   "metadata": {},
   "source": [
    "We can see that the component index (the first integer) is indeed 0, and that the only nonzero differentiation index is the one corresponding to ``n0`` (i.e., the second integer). Moving to index 8, we expect to see the multiindex corresponding to $\\frac{\\partial x}{\\partial e_0}$. Let us check:"
   ]
  },
  {
   "cell_type": "code",
   "execution_count": 31,
   "id": "88d6f015-375d-4e08-bfd0-30063ad6a1e7",
   "metadata": {},
   "outputs": [
    {
     "data": {
      "text/plain": [
       "[0, 0, 1, 0, 0, 0, 0, 0]"
      ]
     },
     "execution_count": 31,
     "metadata": {},
     "output_type": "execute_result"
    }
   ],
   "source": [
    "dprop.get_mindex(i=8)"
   ]
  },
  {
   "cell_type": "markdown",
   "id": "025cb574-9561-4be5-a356-2a9b30670414",
   "metadata": {},
   "source": [
    "Indeed, everything checks out."
   ]
  },
  {
   "cell_type": "markdown",
   "id": "b9afe845-d49c-4afc-9e74-6e277299f022",
   "metadata": {},
   "source": [
    "## Performance evaluation\n",
    "\n",
    "In this section, we will run a benchmark to test the batch-mode performance of our propagator.\n",
    "\n",
    "For the purpose of this test, we will be propagating the state vectors of all satellites at 10000 different dates, so that we will be dealing with a total of roughly 223 million propagations."
   ]
  },
  {
   "cell_type": "code",
   "execution_count": 33,
   "id": "81efd3cb-0f42-4a35-804c-57c1b30a8101",
   "metadata": {},
   "outputs": [],
   "source": [
    "# Create a grid of 10'000 Julian dates over 30 days.\n",
    "date_range = np.linspace(2460496.5, 2460496.5 + 30, 10000)\n",
    "\n",
    "# Splat it out in the batch-mode data layout.\n",
    "batch_dates = np.zeros((10000, prop.nsats), dtype=prop.jdtype)\n",
    "batch_dates['jd'] = np.repeat(date_range, prop.nsats).reshape((10000, prop.nsats))\n",
    "# Select a random fractional component for all dates.\n",
    "batch_dates['frac'] = 0.5833449099999939"
   ]
  },
  {
   "cell_type": "markdown",
   "id": "7a7db1e6-aedc-4be1-8487-864fcc69e971",
   "metadata": {},
   "source": [
    "We also pre-allocate an array that will be used as output in the propagation. Pre-allocating the output array can improve performance, especially for repeated propagations:"
   ]
  },
  {
   "cell_type": "code",
   "execution_count": 34,
   "id": "f2848547-0c9c-4426-a790-b7b1c6b9ee04",
   "metadata": {},
   "outputs": [],
   "source": [
    "# Prepare the output array.\n",
    "out = np.zeros((10000, 7, prop.nsats))"
   ]
  },
  {
   "cell_type": "markdown",
   "id": "a499bfa8-b6d8-46bb-82c9-a2370124fed4",
   "metadata": {},
   "source": [
    "Let us now time the execution on a 16-core AMD Ryzen 9 5950X:"
   ]
  },
  {
   "cell_type": "code",
   "execution_count": 35,
   "id": "609e9a25-fa54-4136-8778-f205624ff7e2",
   "metadata": {},
   "outputs": [
    {
     "name": "stdout",
     "output_type": "stream",
     "text": [
      "1.32 s ± 3.1 ms per loop (mean ± std. dev. of 7 runs, 1 loop each)\n"
     ]
    }
   ],
   "source": [
    "%timeit prop(batch_dates, out=out)"
   ]
  },
  {
   "cell_type": "markdown",
   "id": "503fc49a-b228-4a82-914f-66449eb184d1",
   "metadata": {},
   "source": [
    "We can see that our propagator is able to perform roughly 170M propagations per second on this 16-core machine.\n",
    "\n",
    "We can evaluate the single-core performance by forcibly setting the number of threads in use by heyoka to 1:"
   ]
  },
  {
   "cell_type": "code",
   "execution_count": 36,
   "id": "e4eee745-0cf7-4292-82af-632b2f6e4484",
   "metadata": {},
   "outputs": [
    {
     "name": "stdout",
     "output_type": "stream",
     "text": [
      "CPU times: user 17.6 s, sys: 105 μs, total: 17.6 s\n",
      "Wall time: 17.6 s\n"
     ]
    }
   ],
   "source": [
    "hy.set_nthreads(1)\n",
    "\n",
    "%time prop(batch_dates, out=out);"
   ]
  },
  {
   "cell_type": "markdown",
   "id": "a006e122-8e5e-424a-b1c6-0cd8bab2c31a",
   "metadata": {},
   "source": [
    "On a single core, our propagator is capable of delivering roughly 13M propagations per second.\n",
    "\n",
    "Let us see how the propagator from the sgp4 Python module performs:"
   ]
  },
  {
   "cell_type": "code",
   "execution_count": 37,
   "id": "58730193-8eb4-4c37-b345-4c77984be98c",
   "metadata": {},
   "outputs": [
    {
     "name": "stdout",
     "output_type": "stream",
     "text": [
      "CPU times: user 1min 20s, sys: 832 ms, total: 1min 21s\n",
      "Wall time: 1min 20s\n"
     ]
    }
   ],
   "source": [
    "%time sat_arr.sgp4(date_range, np.array([0.5833449099999939]).repeat(len(date_range)));"
   ]
  },
  {
   "cell_type": "markdown",
   "id": "7b36193f-c0f8-4844-8e9c-55354e17da7c",
   "metadata": {},
   "source": [
    "We can see that in this single-threaded test our implementation is about 4 times faster than the one from the sgp4 Python module."
   ]
  }
 ],
 "metadata": {
  "kernelspec": {
   "display_name": "heyoka_py",
   "language": "python",
   "name": "python3"
  },
  "language_info": {
   "codemirror_mode": {
    "name": "ipython",
    "version": 3
   },
   "file_extension": ".py",
   "mimetype": "text/x-python",
   "name": "python",
   "nbconvert_exporter": "python",
   "pygments_lexer": "ipython3",
   "version": "3.12.4"
  }
 },
 "nbformat": 4,
 "nbformat_minor": 5
}
