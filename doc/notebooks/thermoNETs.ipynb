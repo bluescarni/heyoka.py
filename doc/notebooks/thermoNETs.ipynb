{
 "cells": [
  {
   "cell_type": "markdown",
   "id": "801cc87e",
   "metadata": {},
   "source": [
    "(Thermonets)=\n",
    "\n",
    "# ThermoNETs\n",
    "\n",
    "```{note}\n",
    "For an introduction on feed forward neural networks in *heyoka.py*, check out the example: [Feed-Forward Neural Networks](<./ffnn.ipynb>).\n",
    "```\n",
    "\n",
    "Where we show the use of the neural thermospheric models provided in *heyoka.py*. These are implicit neural representations of the thermospheric density which have been developed in the paper:\n",
    "\n",
    "*Izzo, Dario*, *Giacomo Acciarini*, and *Francesco Biscani* \"NeuralODEs for VLEO simulations: Introducing thermoNET for Thermosphere Modeling\" [arXiv preprint](https://arxiv.org/abs/2405.19384)\n",
    "\n",
    "and which are called [thermoNETs](https://github.com/esa/thermonets). The models are differentiable versions of the widely used [NRLMSISE00](https://ccmc.gsfc.nasa.gov/models/NRLMSIS~00/) and [JB08](https://ccmc.gsfc.nasa.gov/models/JB2008~2008/) atmospheric models, condensing in one, albeit large, *heyoka* expression the entire models."
   ]
  },
  {
   "cell_type": "code",
   "execution_count": 1,
   "id": "7030234e",
   "metadata": {},
   "outputs": [],
   "source": [
    "# The usual main imports\n",
    "import heyoka as hy\n",
    "import numpy as np\n",
    "import datetime\n",
    "import spaceweather as sw\n",
    "import time\n",
    "\n",
    "%matplotlib inline\n",
    "import matplotlib.pyplot as plt"
   ]
  },
  {
   "cell_type": "markdown",
   "id": "51279f35",
   "metadata": {},
   "source": [
    "Atmospheric models depend on a large number of space weather indices. These can be obtained from various online resources, in the python ecosystem we may for example recommend [spaceweather](https://pypi.org/project/spaceweather/) and [pyatmos](https://pypi.org/project/pyatmos/). Another option is the use of heyoka.py's support for [space weather data](<./sw_data.ipynb>).\n",
    "\n",
    "Regardless of the tools used to get the actual values of the various space indices used, we now define all necessary variables to call out nerual thermospheric models. Note that for NRLMSISE00 only $F_{10.7}$, its average, and the $AP$ index are needed. Note also how $h, lat, lon$ are the geodetic coordinates.\n"
   ]
  },
  {
   "cell_type": "code",
   "execution_count": 2,
   "id": "b9b57295",
   "metadata": {},
   "outputs": [],
   "source": [
    "h, lat, lon, f107, f107a, s107, s107a, m107, m107a, y107, y107a, ap, dDstdT = (\n",
    "    hy.make_vars(\n",
    "        \"h\",\n",
    "        \"lat\",\n",
    "        \"lon\",\n",
    "        \"f107\",\n",
    "        \"f107a\",\n",
    "        \"s107\",\n",
    "        \"s107a\",\n",
    "        \"m107\",\n",
    "        \"m107a\",\n",
    "        \"y107\",\n",
    "        \"y107a\",\n",
    "        \"ap\",\n",
    "        \"dDstdT\",\n",
    "    )\n",
    ")"
   ]
  },
  {
   "cell_type": "markdown",
   "id": "7b5ba81a",
   "metadata": {},
   "source": [
    "... time to instantiate the model. Let us start with nrlmsise00:"
   ]
  },
  {
   "cell_type": "code",
   "execution_count": 3,
   "id": "275b61d8",
   "metadata": {},
   "outputs": [],
   "source": [
    "# Symbolic expression\n",
    "nrlmsise00 = hy.model.nrlmsise00_tn(\n",
    "    geodetic=[h, lat, lon], f107=f107, f107a=f107a, ap=ap, time_expr=hy.time\n",
    ")\n",
    "\n",
    "# Compiled function\n",
    "nrlmsise00_cf = hy.cfunc([nrlmsise00], vars=[h, lat, lon, f107, f107a, ap])"
   ]
  },
  {
   "cell_type": "markdown",
   "id": "d3b9b595",
   "metadata": {},
   "source": [
    "... and do the same for JB08"
   ]
  },
  {
   "cell_type": "code",
   "execution_count": 4,
   "id": "4360c007",
   "metadata": {},
   "outputs": [],
   "source": [
    "# Symbolic expression\n",
    "jb08 = hy.model.jb08_tn(\n",
    "    geodetic=[h, lat, lon],\n",
    "    f107=f107,\n",
    "    f107a=f107a,\n",
    "    s107=s107,\n",
    "    s107a=s107a,\n",
    "    m107=m107,\n",
    "    m107a=m107a,\n",
    "    y107=y107,\n",
    "    y107a=y107a,\n",
    "    dDstdT=dDstdT,\n",
    "    time_expr=hy.time,\n",
    ")\n",
    "\n",
    "# Compiled function\n",
    "jb08_cf = hy.cfunc(\n",
    "    [jb08],\n",
    "    vars=[\n",
    "        h,\n",
    "        lat,\n",
    "        lon,\n",
    "        f107a,\n",
    "        f107,\n",
    "        s107a,\n",
    "        s107,\n",
    "        m107a,\n",
    "        m107,\n",
    "        y107a,\n",
    "        y107,\n",
    "        dDstdT,\n",
    "    ],\n",
    ")"
   ]
  },
  {
   "cell_type": "markdown",
   "id": "6e763e9b",
   "metadata": {},
   "source": [
    "Note how in both cases we passed to the kwarg *time* the heyoka time, which we are assuming to represent directly the fractional days since 1st of January.\n",
    "\n",
    "Let us now visualize the difference between the models calling the compiled function over a range of altitudes (assumed in km). For the purpose of this quick comparison we are choosing the value $10$ for all space weather data (as we do not care here to have meaningful predictions, only a quick comparative plot). We also fix longitude and latitude to $45^o$ and $-120^o$, and we span altitudes from 200 to 500 kilometers."
   ]
  },
  {
   "cell_type": "code",
   "execution_count": 5,
   "id": "d97f61c3",
   "metadata": {},
   "outputs": [],
   "source": [
    "N = 100\n",
    "hs = list(np.linspace(200.0, 500.0, N))\n",
    "lon = 45.0 / 180 * np.pi\n",
    "lat = -120.2 / 180 * np.pi\n",
    "sol_n = nrlmsise00_cf(\n",
    "    inputs=[hs, [lat] * N, [lon] * N, [10.0] * N, [10.0] * N, [10] * N], time=[56.0] * N\n",
    ")\n",
    "sol_j = jb08_cf(\n",
    "    inputs=[\n",
    "        hs,\n",
    "        [lat] * N,\n",
    "        [lon] * N,\n",
    "        [10.0] * N,\n",
    "        [10.0] * N,\n",
    "        [10.0] * N,\n",
    "        [10.0] * N,\n",
    "        [10.0] * N,\n",
    "        [10.0] * N,\n",
    "        [10.0] * N,\n",
    "        [10.0] * N,\n",
    "        [10] * N,\n",
    "    ],\n",
    "    time=[56.0] * N,\n",
    ")"
   ]
  },
  {
   "cell_type": "markdown",
   "id": "ecabf3b9",
   "metadata": {},
   "source": [
    "Let us visualise the trends, as expected the mean absolute percentage difference between the two neural models is quite high, as it should be since the models themselves are quite different!"
   ]
  },
  {
   "cell_type": "code",
   "execution_count": 6,
   "id": "4d4eb504",
   "metadata": {},
   "outputs": [
    {
     "name": "stdout",
     "output_type": "stream",
     "text": [
      "Mean Absolute Percentage Difference:  18.08780420830938\n"
     ]
    },
    {
     "data": {
      "image/png": "[encoded data removed]",
      "text/plain": [
       "<Figure size 640x480 with 1 Axes>"
      ]
     },
     "metadata": {},
     "output_type": "display_data"
    }
   ],
   "source": [
    "MAPE = np.mean(np.abs(sol_n - sol_j) / sol_n) * 100\n",
    "plt.semilogy(hs, sol_n.ravel(), label=\"NRLMSISE00 neural model\")\n",
    "plt.semilogy(hs, sol_j.ravel(), label=\"JB08 neural model\")\n",
    "plt.legend()\n",
    "plt.xlabel(\"Altitude [km]\")\n",
    "plt.ylabel(\"Density [kg/m^3]\")\n",
    "print(f\"Mean Absolute Percentage Difference: \", MAPE)"
   ]
  },
  {
   "cell_type": "markdown",
   "id": "f33860cf",
   "metadata": {},
   "source": [
    "## Using thermoNETs in numerical propagations"
   ]
  },
  {
   "cell_type": "markdown",
   "id": "4c155905",
   "metadata": {},
   "source": [
    "We assume the only forces acting on the satellite are the air drag and the gravitational attraction to a central body. \n",
    "\n",
    "The resulting equations of motion, in an inertial frame, are:\n",
    "\n",
    "$$\n",
    "\\begin{array}{l}\n",
    "\\ddot{\\mathbf r} = -\\dfrac{\\mu}r^3 \\mathbf r -\\dfrac {A\\rho(\\mathbf r, t)}{2m} C_d |\\mathbf v - \\omega\\times \\mathbf r|(\\mathbf v - \\omega \\mathbf r)\n",
    "\\end{array}\n",
    "$$\n",
    "\n",
    "where we have considered an atmosphere rigidly rotating with the Earth (i.e., no winds accounted for).\n",
    "\n",
    "We also assume to have the initial conditions given at the calendar date 22nd of June 2009, at 06:32:12:00 GMT."
   ]
  },
  {
   "cell_type": "markdown",
   "id": "e57d52bd",
   "metadata": {},
   "source": [
    "### Defining the propagation data"
   ]
  },
  {
   "cell_type": "code",
   "execution_count": 7,
   "id": "48435223",
   "metadata": {},
   "outputs": [],
   "source": [
    "# Initial epoch\n",
    "date0 = datetime.datetime(2009, 6, 22, 6, 32, 0, 0)\n",
    "\n",
    "# First we need to set some variables useful for integration:\n",
    "mu = 3.986004407799724e14  # Earth gravitational parameter SI\n",
    "r_earth = 6378137  # Earth radius SI\n",
    "initial_h = 300.0 * 1e3  # Satellite's initial altitude SI\n",
    "mass = 200  # mass of the satellite SI\n",
    "area = 2  #                     drag cross-sectional area of the satellite in SI\n",
    "cd = 2.2  #                     drag coefficient [-]\n",
    "bc = mass / (cd * area)  # ballistic coefficient in SI\n",
    "omega = 7.2921159e-5  # Earth rotation speed in SI (sidereal)\n",
    "\n",
    "# We assume a circular orbit at first\n",
    "initial_conditions = [\n",
    "    r_earth + initial_h,\n",
    "    0.0,\n",
    "    0.0,\n",
    "    0.0,\n",
    "    np.sqrt(mu / (r_earth + initial_h)),\n",
    "    0.0,\n",
    "]\n",
    "# ... and 90 days of propagation\n",
    "t_grid = np.linspace(0.0, 60.0 * 60.0 * 24 * 60.0, 700)"
   ]
  },
  {
   "cell_type": "markdown",
   "id": "6196d9da",
   "metadata": {},
   "source": [
    "In order to be able to transform the Cartesian coordinates from and [ECI to an ECEF reference frame](https://en.wikipedia.org/wiki/Earth-centered_inertial), that is to get the Cartesian Cooridanets in a non inertial Earth fixed frame,\n",
    "we define an expression for the simple rotation matrix based on the [Earth Rotation Angle (ERA)](https://en.wikipedia.org/wiki/Sidereal_time#ERA)"
   ]
  },
  {
   "cell_type": "code",
   "execution_count": 8,
   "id": "f61f091e",
   "metadata": {},
   "outputs": [],
   "source": [
    "def ECI2ECEF(mjd):\n",
    "    \"\"\"\n",
    "    This function returns the Earth rotation angle (ERA) at a given Modified Julian Date: https://en.wikipedia.org/wiki/Sidereal_time#ERA.\n",
    "\n",
    "    Args:\n",
    "        - mjd_date (`float`): modified julian date\n",
    "\n",
    "    Returns:\n",
    "        - `list`: Earth rotation matrix\n",
    "    \"\"\"\n",
    "    era = (\n",
    "        2\n",
    "        * np.pi\n",
    "        * (0.7790572732640 + 1.00273781191135448 * (mjd + 2400000.5 - 2451545.0))\n",
    "    )\n",
    "    R = [[hy.cos(era), hy.sin(era), 0], [-hy.sin(era), hy.cos(era), 0], [0, 0, 1]]\n",
    "    return R"
   ]
  },
  {
   "cell_type": "markdown",
   "id": "5c16683b",
   "metadata": {},
   "source": [
    "### Defining the epochs\n",
    "In our dynamical system, the time variable *hy.time* will be measured in seconds, and will represent the time elapsed since the initial conditions. \n",
    "\n",
    "We thus need to define few time expressions to compute the corresponding MJD (Modified Julian Date) and the fractional day of the year (DOY). The first is used to convert to the ECEF frame and thus get geodetic coordinates, the second define the seasonal effect in the thermoNETs interfaces."
   ]
  },
  {
   "cell_type": "code",
   "execution_count": 9,
   "id": "b4978d61",
   "metadata": {},
   "outputs": [
    {
     "name": "stdout",
     "output_type": "stream",
     "text": [
      "MJD expression:  (3459.7722222222224 + (1.1574074074074073e-05 * t))\n",
      "DOY expression:  (172.27222222222221 + (1.1574074074074073e-05 * t))\n"
     ]
    }
   ],
   "source": [
    "# First an expression for the MJD\n",
    "days_elapsed = hy.time / 86400\n",
    "mjd0 = date0 - datetime.datetime(2000, 1, 1, 12, 0, 0)\n",
    "mjd0 = mjd0.days + mjd0.seconds / 86400\n",
    "mjd = mjd0 + days_elapsed\n",
    "print(\"MJD expression: \", mjd)\n",
    "\n",
    "# Then for the DOY\n",
    "doy0 = date0 - datetime.datetime(date0.year, 1, 1, 0, 0, 0)\n",
    "doy0 = doy0.days + doy0.seconds / 86400\n",
    "doy = doy0 + days_elapsed\n",
    "print(\"DOY expression: \", doy)"
   ]
  },
  {
   "cell_type": "markdown",
   "id": "75f92c88",
   "metadata": {},
   "source": [
    "### Defining the spaceweather indices\n",
    "\n",
    "To find the needed space weather indices we use the python package [spaceweather](https://pypi.org/project/spaceweather/) and consider their value as constant values. This last hypothesis can be easily removed\n",
    "assembling, instead, expressions modelling the time variations of the indices in the considered period."
   ]
  },
  {
   "cell_type": "code",
   "execution_count": 10,
   "id": "5da33fa9",
   "metadata": {},
   "outputs": [],
   "source": [
    "# We get the spaceweather data\n",
    "sw.update_data()\n",
    "sw_data = sw.sw_daily()\n",
    "ap_data = sw_data[[\"Apavg\"]]\n",
    "f107_data = sw_data[[\"f107_obs\"]]\n",
    "f107a_data = sw_data[[\"f107_81ctr_obs\"]]"
   ]
  },
  {
   "cell_type": "code",
   "execution_count": 11,
   "id": "d1e55951",
   "metadata": {},
   "outputs": [],
   "source": [
    "# We compute the indices at the initial date. (they will be considered here as constant)\n",
    "ap = ap_data.loc[f\"{int(date0.year)}-{int(date0.month)}-{int(date0.day)}\"].values[0]\n",
    "f107 = f107_data.loc[f\"{int(date0.year)}-{int(date0.month)}-{int(date0.day)}\"].values[0]\n",
    "f107a = f107a_data.loc[f\"{int(date0.year)}-{int(date0.month)}-{int(date0.day)}\"].values[\n",
    "    0\n",
    "]\n",
    "ap = hy.expression(ap)\n",
    "f107 = hy.expression(f107)\n",
    "f107a = hy.expression(f107a)"
   ]
  },
  {
   "cell_type": "markdown",
   "id": "5bdabf8b",
   "metadata": {},
   "source": [
    "### Defining the dynamics"
   ]
  },
  {
   "cell_type": "code",
   "execution_count": 13,
   "id": "b1e578d3",
   "metadata": {},
   "outputs": [],
   "source": [
    "# We instantiate the state variables as heyoka variables:\n",
    "x, y, z, vx, vy, vz = hy.make_vars(\"x\", \"y\", \"z\", \"vx\", \"vy\", \"vz\")\n",
    "# We compute the expression for the ECI 2 ECEF rotation matrix\n",
    "xyz_ecef = np.matmul(ECI2ECEF(mjd), [x, y, z])\n",
    "# We compute the geodetic coordinates\n",
    "h, lat, lon = hy.model.cart2geo([xyz_ecef[0], xyz_ecef[1], xyz_ecef[2]])\n",
    "# And the dynamics\n",
    "density_nn = hy.model.nrlmsise00_tn(\n",
    "    geodetic=[h / 1000, lat, lon], f107=f107, f107a=f107a, ap=ap, time_expr=doy\n",
    ")\n",
    "akepler_x = -mu * x * (x**2 + y**2 + z**2) ** (-3 / 2)\n",
    "akepler_y = -mu * y * (x**2 + y**2 + z**2) ** (-3 / 2)\n",
    "akepler_z = -mu * z * (x**2 + y**2 + z**2) ** (-3 / 2)\n",
    "\n",
    "vrel_x = vx + omega * y\n",
    "vrel_y = vy - omega * x\n",
    "adragx = -1 / 2 * density_nn * vx * hy.sqrt(vrel_x**2 + vrel_y**2 + vz**2) / bc\n",
    "adragy = -1 / 2 * density_nn * vy * hy.sqrt(vrel_x**2 + vrel_y**2 + vz**2) / bc\n",
    "adragz = -1 / 2 * density_nn * vz * hy.sqrt(vrel_x**2 + vrel_y**2 + vz**2) / bc\n",
    "\n",
    "dynamics = [\n",
    "    (x, vx),\n",
    "    (y, vy),\n",
    "    (z, vz),\n",
    "    (vx, akepler_x + adragx),\n",
    "    (vy, akepler_y + adragy),\n",
    "    (vz, akepler_z + adragz),\n",
    "]"
   ]
  },
  {
   "cell_type": "markdown",
   "id": "c19d1125",
   "metadata": {},
   "source": [
    "instantiating the adaptive Taylor integrator."
   ]
  },
  {
   "cell_type": "code",
   "execution_count": 14,
   "id": "6b1c6288",
   "metadata": {},
   "outputs": [
    {
     "name": "stdout",
     "output_type": "stream",
     "text": [
      "0.46484804153442383 to build the integrator\n"
     ]
    }
   ],
   "source": [
    "start_time = time.time()\n",
    "ta = hy.taylor_adaptive(\n",
    "    dynamics,\n",
    "    initial_conditions,\n",
    "    compact_mode=True,\n",
    ")\n",
    "print(f\"{time.time() - start_time} to build the integrator\")"
   ]
  },
  {
   "cell_type": "markdown",
   "id": "ba2cc098",
   "metadata": {},
   "source": [
    "Propagating the dynamics for 60 days."
   ]
  },
  {
   "cell_type": "code",
   "execution_count": 15,
   "id": "22dc24ce",
   "metadata": {},
   "outputs": [
    {
     "name": "stdout",
     "output_type": "stream",
     "text": [
      "0.7670831680297852 to propagate for 60 days\n"
     ]
    }
   ],
   "source": [
    "start_time = time.time()\n",
    "ta.state[:] = initial_conditions\n",
    "ta.time = 0.0\n",
    "sol_heyoka_nn = ta.propagate_grid(t_grid)\n",
    "print(f\"{time.time() - start_time} to propagate for 60 days\")"
   ]
  },
  {
   "cell_type": "markdown",
   "id": "50e38e49",
   "metadata": {},
   "source": [
    "Visualizing the re-entry trajectory, plotting the altitude trend in time."
   ]
  },
  {
   "cell_type": "code",
   "execution_count": 16,
   "id": "638817fa",
   "metadata": {},
   "outputs": [
    {
     "data": {
      "text/plain": [
       "Text(0.5, 0, 'Days')"
      ]
     },
     "execution_count": 16,
     "metadata": {},
     "output_type": "execute_result"
    },
    {
     "data": {
      "image/png": "[encoded data removed]",
      "text/plain": [
       "<Figure size 640x480 with 1 Axes>"
      ]
     },
     "metadata": {},
     "output_type": "display_data"
    }
   ],
   "source": [
    "plt.plot(\n",
    "    t_grid / 24 / 60 / 60,\n",
    "    np.sqrt(\n",
    "        sol_heyoka_nn[-1][:, 0] ** 2\n",
    "        + sol_heyoka_nn[-1][:, 1] ** 2\n",
    "        + sol_heyoka_nn[-1][:, 2] ** 2\n",
    "    )\n",
    "    / 1e3\n",
    "    - r_earth / 1e3,\n",
    "    marker=\".\",\n",
    ")\n",
    "plt.ylabel(\"Altitude [km]\")\n",
    "plt.xlabel(\"Days\")"
   ]
  }
 ],
 "metadata": {
  "kernelspec": {
   "display_name": "Python 3 (ipykernel)",
   "language": "python",
   "name": "python3"
  },
  "language_info": {
   "codemirror_mode": {
    "name": "ipython",
    "version": 3
   },
   "file_extension": ".py",
   "mimetype": "text/x-python",
   "name": "python",
   "nbconvert_exporter": "python",
   "pygments_lexer": "ipython3",
   "version": "3.13.1"
  }
 },
 "nbformat": 4,
 "nbformat_minor": 5
}
