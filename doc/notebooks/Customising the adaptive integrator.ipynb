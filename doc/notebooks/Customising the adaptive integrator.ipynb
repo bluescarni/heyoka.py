{
 "cells": [
  {
   "cell_type": "markdown",
   "id": "shaped-chicken",
   "metadata": {},
   "source": [
    "Customising the adaptive integrator\n",
    "===================================\n",
    "\n",
    "In the previous section we showed a few\n",
    "usage examples of the ``taylor_adaptive`` class using the default\n",
    "options. Here, we will show how the behaviour of the integrator\n",
    "can be customised in a variety of ways.\n",
    "\n",
    "Error tolerance\n",
    "---------------\n",
    "\n",
    "As we mentioned earlier, by default the ``taylor_adaptive`` class\n",
    "uses an error tolerance equal to the machine\n",
    "epsilon of the floating-point type in use. E.g., when using double precision,\n",
    "the tolerance is set to $\\sim 2.2\\times 10^{-16}$.\n",
    "\n",
    "The tolerance value is used by the ``taylor_adaptive``\n",
    "class to control the error arising from truncating the (infinite)\n",
    "Taylor series representing the solution of the ODE system.\n",
    "In other words, ``taylor_adaptive`` strives to ensure that the\n",
    "magnitude of the remainders of the Taylor series is\n",
    "not greater than the tolerance,\n",
    "either in an absolute or relative sense. Absolute error control mode\n",
    "is activated when all elements of the state vector have a magnitude\n",
    "less than 1, while relative error control mode is activated when at least one\n",
    "element of the state vector has a magnitude greater than 1.\n",
    "\n",
    "In order to specify a non-default tolerance, the keyword argument\n",
    "``tol`` can be used when constructing an integrator object:"
   ]
  },
  {
   "cell_type": "code",
   "execution_count": 1,
   "id": "informational-liquid",
   "metadata": {},
   "outputs": [
    {
     "data": {
      "text/plain": [
       "Tolerance               : 1e-09\n",
       "High accuracy           : false\n",
       "Compact mode            : false\n",
       "Taylor order            : 12\n",
       "Dimension               : 2\n",
       "Time                    : 0\n",
       "State                   : [0.05, 0.025]"
      ]
     },
     "execution_count": 1,
     "metadata": {},
     "output_type": "execute_result"
    }
   ],
   "source": [
    "import heyoka as hy\n",
    "\n",
    "# Create the symbolic variables x and v.\n",
    "x, v = hy.make_vars(\"x\", \"v\")\n",
    "\n",
    "# Create the integrator object.\n",
    "ta = hy.taylor_adaptive(\n",
    "    # Definition of the ODE system:\n",
    "    # x' = v\n",
    "    # v' = -9.8 * sin(x)\n",
    "    sys=[(x, v), (v, -9.8 * hy.sin(x))],\n",
    "    # Initial conditions for x and v.\n",
    "    state=[0.05, 0.025],\n",
    "    # Set the tolerance to 1e-9\n",
    "    tol=1e-9,\n",
    ")\n",
    "\n",
    "ta"
   ]
  },
  {
   "cell_type": "markdown",
   "id": "confirmed-majority",
   "metadata": {},
   "source": [
    "The optimal Taylor order for a tolerance of $10^{-9}$\n",
    "is now 12 (instead of 20 for a tolerance of $\\sim 2.2\\times 10^{-16}$).\n",
    "\n",
    "Integrating the system back and forth shows how the accuracy of the\n",
    "integration is reduced with respect to the default tolerance value:"
   ]
  },
  {
   "cell_type": "code",
   "execution_count": 2,
   "id": "technological-holiday",
   "metadata": {},
   "outputs": [
    {
     "data": {
      "text/plain": [
       "Tolerance               : 1e-09\n",
       "High accuracy           : false\n",
       "Compact mode            : false\n",
       "Taylor order            : 12\n",
       "Dimension               : 2\n",
       "Time                    : 0\n",
       "State                   : [0.05000000000131285, 0.02499999999755865]"
      ]
     },
     "execution_count": 2,
     "metadata": {},
     "output_type": "execute_result"
    }
   ],
   "source": [
    "# Integrate forth to t = 10 and then back to t = 0.\n",
    "ta.propagate_until(t=10.0)\n",
    "ta.propagate_until(t=0.0)\n",
    "\n",
    "ta"
   ]
  },
  {
   "cell_type": "markdown",
   "id": "national-investing",
   "metadata": {},
   "source": [
    "(ta_compact_mode)=\n",
    "\n",
    "Compact mode\n",
    "------------\n",
    "\n",
    "By default, the just-in-time compilation process of heyoka.py\n",
    "aims at maximising runtime performance over everything else.\n",
    "In practice, this means that heyoka.py generates a timestepper\n",
    "function in which there are no branches and where all loops\n",
    "have been fully unrolled.\n",
    "\n",
    "This approach leads to highly optimised timestepper functions,\n",
    "but, on the other hand, it can result in long compilation times\n",
    "and high memory usage for large ODE systems. Thus, heyoka.py provides\n",
    "also a *compact mode* option in which code generation employs\n",
    "more traditional programming idioms that greatly reduce compilation time\n",
    "and memory usage. Compact mode results in a performance degradation\n",
    "of $\\lesssim 2\\times$ with respect to the default code generation\n",
    "mode, but it renders heyoka.py usable with ODE systems consisting\n",
    "of thousands of terms.\n",
    "\n",
    "Let's try to quantify the performance difference in a concrete case.\n",
    "In this example, we first construct the ODE system corresponding\n",
    "to an N-body problem with 6 particles via the ``model.nbody()``\n",
    "utility function:"
   ]
  },
  {
   "cell_type": "code",
   "execution_count": 3,
   "id": "employed-bruce",
   "metadata": {},
   "outputs": [],
   "source": [
    "# Create an nbody system with 6 particles.\n",
    "sys = hy.model.nbody(n=6)"
   ]
  },
  {
   "cell_type": "markdown",
   "id": "seasonal-three",
   "metadata": {},
   "source": [
    "Next, we create an initial state vector for our system.\n",
    "The contents of the vector do not matter at this stage:"
   ]
  },
  {
   "cell_type": "code",
   "execution_count": 4,
   "id": "suburban-cannon",
   "metadata": {},
   "outputs": [],
   "source": [
    "# Create an initial state vector (6 values per body).\n",
    "import numpy as np\n",
    "\n",
    "sv = np.zeros(36)"
   ]
  },
  {
   "cell_type": "markdown",
   "id": "western-metallic",
   "metadata": {},
   "source": [
    "Next, we time the creation of an integrator object in default\n",
    "code generation mode:"
   ]
  },
  {
   "cell_type": "code",
   "execution_count": 5,
   "id": "super-jimmy",
   "metadata": {},
   "outputs": [
    {
     "name": "stdout",
     "output_type": "stream",
     "text": [
      "CPU times: user 2.41 s, sys: 18.1 ms, total: 2.43 s\n",
      "Wall time: 2.43 s\n"
     ]
    }
   ],
   "source": [
    "%time ta_default = hy.taylor_adaptive(sys, sv)"
   ]
  },
  {
   "cell_type": "markdown",
   "id": "shared-exhaust",
   "metadata": {},
   "source": [
    "Finally, we time the creation of the same integrator object\n",
    "in compact mode (which can be activated via the ``compact_mode``\n",
    "keyword argument):"
   ]
  },
  {
   "cell_type": "code",
   "execution_count": 6,
   "id": "elder-metadata",
   "metadata": {},
   "outputs": [
    {
     "name": "stdout",
     "output_type": "stream",
     "text": [
      "CPU times: user 249 ms, sys: 1.31 ms, total: 250 ms\n",
      "Wall time: 255 ms\n"
     ]
    }
   ],
   "source": [
    "%time ta_default = hy.taylor_adaptive(sys, sv, compact_mode = True)"
   ]
  },
  {
   "cell_type": "markdown",
   "id": "funny-legislature",
   "metadata": {},
   "source": [
    "That is, in this specific example compact mode is more than 10 times\n",
    "faster than the default\n",
    "code generation mode when it comes to the construction of the integrator\n",
    "object. For larger ODE systems, the gap will be even wider.\n",
    "\n",
    "High-accuracy mode\n",
    "------------------\n",
    "\n",
    "For long-term integrations at very low error tolerances, heyoka.py offers\n",
    "an opt-in *high-accuracy* mode. In high-accuracy mode, heyoka.py\n",
    "employs techniques that minimise the numerical errors arising from\n",
    "the use of finite-precision floating-point numbers, at the cost\n",
    "of a slight runtime performance degradation.\n",
    "\n",
    "Currently, high-accuracy mode changes the way heyoka,py evaluates\n",
    "the Taylor polynomials used to update the state of the system\n",
    "at the end of an integration timestep. Specifically, polynomial evaluation\n",
    "via Horner's rule is replaced by\n",
    "[compensated summation](https://en.wikipedia.org/wiki/Kahan_summation_algorithm),\n",
    "which prevents catastrophic cancellation issues and ultimately helps maintaining\n",
    "machine precision over very long integrations.\n",
    "\n",
    "High-accuracy mode can be enabled via the ``high_accuracy`` keyword\n",
    "argument."
   ]
  }
 ],
 "metadata": {
  "kernelspec": {
   "display_name": "Python 3 (ipykernel)",
   "language": "python",
   "name": "python3"
  },
  "language_info": {
   "codemirror_mode": {
    "name": "ipython",
    "version": 3
   },
   "file_extension": ".py",
   "mimetype": "text/x-python",
   "name": "python",
   "nbconvert_exporter": "python",
   "pygments_lexer": "ipython3",
   "version": "3.10.13"
  }
 },
 "nbformat": 4,
 "nbformat_minor": 5
}
