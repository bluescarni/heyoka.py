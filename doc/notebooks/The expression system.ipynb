{
 "cells": [
  {
   "cell_type": "markdown",
   "id": "unable-biodiversity",
   "metadata": {},
   "source": [
    "(ex_system)=\n",
    "\n",
    "# Introduction to the expression system\n",
    "\n",
    "As we saw in the previous section, heyoka.py\n",
    "needs to be able to represent the right-hand side of an ODE system in symbolic\n",
    "form in order to be able to compute its high-order derivatives via automatic\n",
    "differentiation. heyoka.py represents generic mathematical expressions\n",
    "via a simple [abstract syntax tree (AST)](https://en.wikipedia.org/wiki/Abstract_syntax_tree)\n",
    "in which the internal nodes are n-ary functions\n",
    "and the leaf nodes can be:\n",
    "\n",
    "- symbolic variables,\n",
    "- numerical constants,\n",
    "- [runtime parameters](<./ODEs with parameters.ipynb>).\n",
    "\n",
    "Both constants and parameters can be used to represent mathematical constants, the difference being\n",
    "that the value of a constant is determined when the expression is created, whereas\n",
    "the value of a parameter is loaded from a user-supplied data array at a later stage.\n",
    "Additionally, it is possible to compute derivatives with respect to parameters.\n",
    "\n",
    "The construction of the AST of an expression in heyoka.py can be accomplished via natural\n",
    "mathematical notation:"
   ]
  },
  {
   "cell_type": "code",
   "execution_count": 2,
   "id": "copyrighted-petersburg",
   "metadata": {},
   "outputs": [
    {
     "name": "stdout",
     "output_type": "stream",
     "text": [
      "The euclidean distance is: (x**2.0000000000000000 + y**2.0000000000000000)**0.50000000000000000\n"
     ]
    }
   ],
   "source": [
    "import heyoka as hy\n",
    "\n",
    "# Define the symbolic variables x and y.\n",
    "x, y = hy.make_vars(\"x\", \"y\")\n",
    "\n",
    "# Another way of creating a symbolic variable.\n",
    "z = hy.expression(\"z\")\n",
    "\n",
    "# Create and print an expression.\n",
    "print(\"The euclidean distance is: {}\".format(hy.sqrt(x**2 + y**2)))"
   ]
  },
  {
   "cell_type": "markdown",
   "id": "young-minimum",
   "metadata": {},
   "source": [
    "## Numerical constants\n",
    "\n",
    "Numerical constants can be created using any of the floating-point types supported by heyoka.py. For instance, on a typical Linux installation of heyoka.py on an x86 processor, one may write:"
   ]
  },
  {
   "cell_type": "code",
   "execution_count": 2,
   "id": "statewide-embassy",
   "metadata": {},
   "outputs": [
    {
     "name": "stdout",
     "output_type": "stream",
     "text": [
      "Double-precision 1.1: 1.1000000000000001\n",
      "Single-precision 1.1: 1.10000002\n",
      "Extended-precision 1.1: 1.10000000000000000002\n",
      "Quadruple-precision 1.1: 1.10000000000000000000000000000000008\n",
      "Octuple-precision 1.1: 1.100000000000000000000000000000000000000000000000000000000000000000000004\n"
     ]
    }
   ],
   "source": [
    "print(\"Double-precision 1.1: {}\".format(hy.expression(1.1)))\n",
    "\n",
    "import numpy as np\n",
    "\n",
    "print(\"Single-precision 1.1: {}\".format(hy.expression(np.float32(\"1.1\"))))\n",
    "\n",
    "print(\"Extended-precision 1.1: {}\".format(hy.expression(np.longdouble(\"1.1\"))))\n",
    "\n",
    "print(\"Quadruple-precision 1.1: {}\".format(hy.expression(hy.real128(\"1.1\"))))\n",
    "\n",
    "# NOTE: octuple precision has a\n",
    "# 237-bit significand.\n",
    "print(\"Octuple-precision 1.1: {}\".format(hy.expression(hy.real(\"1.1\", 237))))"
   ]
  },
  {
   "cell_type": "markdown",
   "id": "perfect-conference",
   "metadata": {},
   "source": [
    "Note that, while single and double precision are always supported in heyoka.py (via the {py:class}`numpy.single` and {py:class}`float` types respectively), support for higher precision varies depending on the platform and on the specifics of the build configuration. Specifically, higher-precision support is achieved through the following datatypes:\n",
    "\n",
    "- the extended-precision {py:class}`numpy.longdouble` type,\n",
    "- the quadruple-precision ``heyoka.real128`` type,\n",
    "- the multiprecision ``heyoka.real`` type.\n",
    "\n",
    "The exact meaning of the {py:class}`~numpy.longdouble` type varies depending on the platform:\n",
    "\n",
    "- on most [x86](https://en.wikipedia.org/wiki/X86) platforms, {py:class}`~numpy.longdouble` corresponds to [80-bit extended precision](https://en.wikipedia.org/wiki/Extended_precision#x86_extended-precision_format). The notable exception is MSVC on Windows, where {py:class}`~numpy.longdouble` is an alias for double precision;\n",
    "- on other platforms (e.g., Linux ARM 64), {py:class}`~numpy.longdouble` implements the IEEE [quadruple-precision floating-point format](https://en.wikipedia.org/wiki/Quadruple-precision_floating-point_format);\n",
    "- on OSX ARM 64 (AKA [Apple silicon](https://en.wikipedia.org/wiki/Apple_silicon)), {py:class}`~numpy.longdouble` is an alias for double precision;\n",
    "- on certain PowerPC platforms, {py:class}`~numpy.longdouble` implements a [double-length](https://en.wikipedia.org/wiki/Quadruple-precision_floating-point_format#Double-double_arithmetic) floating-point representation with 106 significant bits which is **NOT** supported by heyoka.py at this time.\n",
    "\n",
    "When in doubt, you can use the {py:class}`numpy.finfo` class to inspect the properties of {py:class}`~numpy.longdouble` on your setup.\n",
    "\n",
    "The ``heyoka.real128`` type implements the IEEE [quadruple-precision floating-point format](https://en.wikipedia.org/wiki/Quadruple-precision_floating-point_format). It is currently available on Linux x86 and PowerPC platforms. Note that on those platforms where {py:class}`~numpy.longdouble` is a quadruple-precision datatype, ``heyoka.real128`` is **NOT** avaiable (as it would be redundant with {py:class}`~numpy.longdouble`).\n",
    "\n",
    "``heyoka.real`` implements [arbitrary-precision](<./arbitrary_precision.ipynb>) computations, and it is supported on all platforms.\n",
    "\n",
    "## Mathematical functions\n",
    "\n",
    "In addition to the standard mathematical operators, heyoka.py's expression system\n",
    "also supports several elementary and special functions, such as:\n",
    "\n",
    "* the square root,\n",
    "* exponentiation,\n",
    "* the basic trigonometric and hyperbolic functions, and their inverse counterparts,\n",
    "* the natural logarithm and exponential,\n",
    "* the standard logistic function (sigmoid),\n",
    "* the error function,\n",
    "* Kepler's elliptic anomaly and several other anomalies commonly used in astrodynamics."
   ]
  },
  {
   "cell_type": "code",
   "execution_count": 3,
   "id": "accredited-mechanics",
   "metadata": {},
   "outputs": [
    {
     "data": {
      "text/plain": [
       "((cos((x + (2.0000000000000000 * y))) * sqrt(z)) - exp(x))"
      ]
     },
     "execution_count": 3,
     "metadata": {},
     "output_type": "execute_result"
    }
   ],
   "source": [
    "# An expression involving a few elementary functions.\n",
    "hy.cos(x + 2.0 * y) * hy.sqrt(z) - hy.exp(x)"
   ]
  },
  {
   "cell_type": "markdown",
   "id": "driving-problem",
   "metadata": {},
   "source": [
    "It must be emphasised that heyoka.py's expression system is not a full-fledged\n",
    "computer algebra system. In particular, its simplification capabilities\n",
    "are essentially non-existent. Because heyoka.py's performance is sensitive\n",
    "to the complexity of the ODEs, in order to achieve optimal performance\n",
    "it is important to ensure that\n",
    "the mathematical expressions supplied to heyoka.py are simplified as\n",
    "much as possible.\n",
    "\n",
    "Starting form version 0.10, heyoka.py's expressions can be converted to/from [SymPy](https://www.sympy.org/en/index.html) expressions.\n",
    "It is thus possible to use SymPy for the automatic simplifcation of heyoka.py's expressions, and, more generally, to symbolically manipulate\n",
    "heyoka.py's expressions using the wide array of SymPy's capabilities. See the [SymPy interoperability tutorial](<./sympy_interop.ipynb>)\n",
    "for a detailed example."
   ]
  }
 ],
 "metadata": {
  "kernelspec": {
   "display_name": "Python 3 (ipykernel)",
   "language": "python",
   "name": "python3"
  },
  "language_info": {
   "codemirror_mode": {
    "name": "ipython",
    "version": 3
   },
   "file_extension": ".py",
   "mimetype": "text/x-python",
   "name": "python",
   "nbconvert_exporter": "python",
   "pygments_lexer": "ipython3",
   "version": "3.12.4"
  }
 },
 "nbformat": 4,
 "nbformat_minor": 5
}
