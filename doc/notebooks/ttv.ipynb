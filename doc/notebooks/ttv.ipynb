{
 "cells": [
  {
   "cell_type": "markdown",
   "id": "ed177532-5b0b-4fe5-a697-b1c3b8058501",
   "metadata": {},
   "source": [
    "# Calculating transit timing variations\n",
    "\n",
    "In this example we will be using heyoka.py's [event detection](<./Event detection.ipynb>) system to find the transit times in a two-planet system. This example is directly inspired by a [notebook](https://rebound.readthedocs.io/en/latest/ipython_examples/TransitTimingVariations/) in the documentation of the [REBOUND](https://rebound.readthedocs.io) software package.\n",
    "\n",
    "We begin as usual with importing heyoka.py and a couple of extra useful modules:"
   ]
  },
  {
   "cell_type": "code",
   "execution_count": 1,
   "id": "fcd9fcfa-4a18-4083-815b-87e188c900b7",
   "metadata": {},
   "outputs": [],
   "source": [
    "import pykep as pk\n",
    "import heyoka as hy\n",
    "import numpy as np"
   ]
  },
  {
   "cell_type": "markdown",
   "id": "9d739c1a-2434-4038-93ff-d6bcaeed69f6",
   "metadata": {},
   "source": [
    "Next, we define the initial conditions for the two planets in the system. The inner planet is on a low-eccentricity orbit, while the outer planet is on a circular orbit. Both orbits have zero inclination, so that the motion is constrained to the $xy$ plane. We use adimensional units ($G=1$), the mass of the central star is $1$ and both planets have a mass of $10^{-5}$:"
   ]
  },
  {
   "cell_type": "code",
   "execution_count": 2,
   "id": "d3cb090b-76b3-46fa-917c-8b6b971b698a",
   "metadata": {},
   "outputs": [],
   "source": [
    "# Initial cartesian conditions for the two planets.\n",
    "# We use pykep to convert from Keplerian elements.\n",
    "r1, v1 = pk.par2ic([1.0, 0.1, 0.0, 0.0, 0.25, 0.0])\n",
    "r2, v2 = pk.par2ic([1.757, 0.0, 0.0, 0.0, 0.0, 0.0])\n",
    "\n",
    "# Masses of the 3 bodies in the system.\n",
    "masses = np.array([1, 1e-5, 1e-5])"
   ]
  },
  {
   "cell_type": "markdown",
   "id": "7b3f0b64-2a0e-4eac-abfb-ec977fcc1ff8",
   "metadata": {},
   "source": [
    "We can now proceed to the definition of the system of differential equations via the ``model.nbody()`` helper:"
   ]
  },
  {
   "cell_type": "code",
   "execution_count": 3,
   "id": "0d29f42b-f6c8-424f-89a9-31bc703e9c75",
   "metadata": {},
   "outputs": [],
   "source": [
    "sys = hy.model.nbody(3, masses=masses)"
   ]
  },
  {
   "cell_type": "markdown",
   "id": "638e6bbd-93bf-499d-8d9d-378356ab9fa6",
   "metadata": {},
   "source": [
    "The next step is the definition of the event for the detection of the planetary transit. In this setup, we assume that the observer of the system is in the direction of the positive $x$ axis, so that a planetary transit happens when the $y$ coordinate of the planet is zero. Thus, in order to detect the transit of the inner planet, we will use the trivial event equation\n",
    "\n",
    "$$\n",
    "y_1 = 0.\n",
    "$$\n",
    "\n",
    "Because $y_1$ is zero also when the planet transits *behind* the star, we will further constrain the event by imposing a *positive* direction for the event. That is, the event will trigger only if $y_1 = 0$ and the value of $y_1$ is switching from negative to positive. Alternatively (and more robustly), we could compute the value of $x_1$ when the event triggers via dense output and ignore the event if $x_1<0$, however for this simple example specifying the event direction will suffice.\n",
    "\n",
    "Finally, we will log the trigger time of each event in a global list for further analysis.\n",
    "\n",
    "Let us see the definition of the event:"
   ]
  },
  {
   "cell_type": "code",
   "execution_count": 4,
   "id": "62eb3b81-30d6-4f56-b4c0-8cf141ddc749",
   "metadata": {},
   "outputs": [],
   "source": [
    "# Global list of transit times.\n",
    "tt_list = []\n",
    "\n",
    "\n",
    "# The callback that will be invoked\n",
    "# when a transit is detected.\n",
    "def cb(ta, time, d_sgn):\n",
    "    # Append the transit time to the\n",
    "    # global list.\n",
    "    tt_list.append(time)\n",
    "\n",
    "\n",
    "# Define the event object.\n",
    "tt_event = hy.nt_event(\n",
    "    hy.expression(\"y_1\"),  # The event equation.\n",
    "    cb,  # The callback.\n",
    "    direction=hy.event_direction.positive,  # The event direction.\n",
    ")"
   ]
  },
  {
   "cell_type": "markdown",
   "id": "9e027a4f-4313-4e06-abb5-c411f8bdcf75",
   "metadata": {},
   "source": [
    "We can now proceed to the creation of the integrator object. After creation, we will adjust the system state so that the centre of mass of the system is in the origin with zero velocity:"
   ]
  },
  {
   "cell_type": "code",
   "execution_count": 5,
   "id": "d779db8a-c2e0-4156-ac83-410caa6b9c56",
   "metadata": {},
   "outputs": [],
   "source": [
    "ta = hy.taylor_adaptive(\n",
    "    sys, [0.0] * 6 + list(r1) + list(v1) + list(r2) + list(v2), nt_events=[tt_event]\n",
    ")\n",
    "\n",
    "# Adjust the COM.\n",
    "com_x = np.sum(ta.state[0::6] * masses) / np.sum(masses)\n",
    "com_y = np.sum(ta.state[1::6] * masses) / np.sum(masses)\n",
    "com_z = np.sum(ta.state[2::6] * masses) / np.sum(masses)\n",
    "\n",
    "com_vx = np.sum(ta.state[3::6] * masses) / np.sum(masses)\n",
    "com_vy = np.sum(ta.state[4::6] * masses) / np.sum(masses)\n",
    "com_vz = np.sum(ta.state[5::6] * masses) / np.sum(masses)\n",
    "\n",
    "ta.state[0::6] -= com_x\n",
    "ta.state[1::6] -= com_y\n",
    "ta.state[2::6] -= com_z\n",
    "ta.state[3::6] -= com_vx\n",
    "ta.state[4::6] -= com_vy\n",
    "ta.state[5::6] -= com_vz"
   ]
  },
  {
   "cell_type": "markdown",
   "id": "fc5a5c80-5ba5-4118-9c3c-02e2c24602e9",
   "metadata": {},
   "source": [
    "Let us now propagate the system state for a few time units. Whenever a transit is detected, the callback will be invoked and the global list of transit times will be updated:"
   ]
  },
  {
   "cell_type": "code",
   "execution_count": 6,
   "id": "b155c48e-3b29-4c44-bab3-461e9984fa51",
   "metadata": {},
   "outputs": [
    {
     "data": {
      "text/plain": [
       "(<taylor_outcome.time_limit: -4294967299>,\n",
       " 0.22961192655196333,\n",
       " 0.4928525973770144,\n",
       " 3344,\n",
       " None)"
      ]
     },
     "execution_count": 6,
     "metadata": {},
     "output_type": "execute_result"
    }
   ],
   "source": [
    "ta.propagate_until(1100.0)"
   ]
  },
  {
   "cell_type": "markdown",
   "id": "b907afcc-a795-4424-b7f3-36bd10b66254",
   "metadata": {},
   "source": [
    "We can now proceed to the analysis of the transit times. First we will run a linear fit to remove the linear trend from the transit times:"
   ]
  },
  {
   "cell_type": "code",
   "execution_count": 7,
   "id": "9e7e4a20-6f6b-42f8-8c83-8ff78c1d314c",
   "metadata": {},
   "outputs": [],
   "source": [
    "N = len(tt_list)\n",
    "\n",
    "A = np.vstack([np.ones(N), range(N)]).T\n",
    "c, m = np.linalg.lstsq(A, tt_list, rcond=-1)[0]"
   ]
  },
  {
   "cell_type": "markdown",
   "id": "a7d1620e-2750-47ad-b023-ac29817af170",
   "metadata": {},
   "source": [
    "We are now ready to visualize the transit time variations (TTVs):"
   ]
  },
  {
   "cell_type": "code",
   "execution_count": 8,
   "id": "c8eb4e22-221c-4d8b-ae65-76c9613e35ca",
   "metadata": {},
   "outputs": [
    {
     "data": {
      "image/png": "[encoded data removed]",
      "text/plain": [
       "<Figure size 1000x500 with 1 Axes>"
      ]
     },
     "metadata": {},
     "output_type": "display_data"
    }
   ],
   "source": [
    "%matplotlib inline\n",
    "import matplotlib.pyplot as plt\n",
    "\n",
    "fig = plt.figure(figsize=(10, 5))\n",
    "ax = plt.subplot(111)\n",
    "ax.set_xlim([0, N])\n",
    "ax.set_ylim([-0.8, 1.0])\n",
    "ax.set_xlabel(\"Transit number\")\n",
    "ax.set_ylabel(\"TTV [hours]\")\n",
    "plt.scatter(\n",
    "    range(N),\n",
    "    (np.array(tt_list) - m * np.array(range(N)) - c) * (24.0 * 365.0 / 2.0 / np.pi),\n",
    ");"
   ]
  },
  {
   "cell_type": "markdown",
   "id": "5dc5a888-a29c-49e4-8472-5f1ffd6029be",
   "metadata": {},
   "source": [
    "The transit times deviate from a purely linear behaviour because of the perturbations induced onto the inner planet by the outer planet."
   ]
  }
 ],
 "metadata": {
  "kernelspec": {
   "display_name": "Python 3 (ipykernel)",
   "language": "python",
   "name": "python3"
  },
  "language_info": {
   "codemirror_mode": {
    "name": "ipython",
    "version": 3
   },
   "file_extension": ".py",
   "mimetype": "text/x-python",
   "name": "python",
   "nbconvert_exporter": "python",
   "pygments_lexer": "ipython3",
   "version": "3.10.6"
  }
 },
 "nbformat": 4,
 "nbformat_minor": 5
}
