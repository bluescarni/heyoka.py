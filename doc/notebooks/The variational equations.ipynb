{
 "cells": [
  {
   "cell_type": "markdown",
   "id": "excited-uganda",
   "metadata": {},
   "source": [
    "```{note}\n",
    "\n",
    "Starting with version 5.0.0, heyoka.py features builtin support for the formulation of the [variational equations](./var_ode_sys.ipynb). This tutorial is now deprecated and it will be removed in a future version.\n",
    "\n",
    "```\n",
    "\n",
    "The variational equations\n",
    "=========================\n",
    "\n",
    "In this tutorial, we will show how it is possible to exploit heyoka.py's [expression system](<./The expression system.ipynb>) to implement first-order variational equations for a system of ODEs.\n",
    "\n",
    "First, let's start with a brief recap on the variational equations. For simplicity, we will consider an autonomous ODE system in the variables $x$ and $y$ (the extension to more variables just complicates the notation):\n",
    "\n",
    "$$\n",
    "\\begin{cases}\n",
    "\\frac{dx}{dt} = f\\left(x, y \\right)\\\\\n",
    "\\frac{dy}{dt} = g\\left(x, y \\right)\n",
    "\\end{cases},\n",
    "$$\n",
    "\n",
    "with initial conditions\n",
    "\n",
    "$$\n",
    "\\begin{cases}\n",
    "x\\left( 0 \\right) = x_0\\\\\n",
    "y\\left( 0 \\right) = y_0\n",
    "\\end{cases}.\n",
    "$$\n",
    "\n",
    "The solutions of this ODE system will be the functions $x\\left( t; x_0, y_0 \\right)$ and $y\\left( t; x_0, y_0 \\right)$. Our objective is to determine the evolution in time of the first-order derivatives of these solutions with respect to the initial conditions $\\left( x_0, y_0 \\right)$:\n",
    "\n",
    "$$\n",
    "\\begin{aligned}\n",
    "\\left(\\frac{\\partial x}{\\partial x_0}\\right)\\left(t; x_0, y_0\\right),\\\\\n",
    "\\left(\\frac{\\partial x}{\\partial y_0}\\right)\\left(t; x_0, y_0\\right),\\\\\n",
    "\\left(\\frac{\\partial y}{\\partial x_0}\\right)\\left(t; x_0, y_0\\right),\\\\\n",
    "\\left(\\frac{\\partial y}{\\partial y_0}\\right)\\left(t; x_0, y_0\\right).\\\\\n",
    "\\end{aligned}\n",
    "$$\n",
    "\n",
    "These functions tell us how the the solutions of the ODE system react to changes in the initial values $\\left( x_0, y_0 \\right)$. One way of determining numerically the evolution in time of the partial derivatives is to introduce them as additional state variables in the original ODE system, together with an additional set of differential equations (i.e., the variational equations). Let's see how this is done for, e.g., $\\frac{\\partial x}{\\partial x_0}$. We take the time derivative of $\\frac{\\partial x}{\\partial x_0}$,\n",
    "\n",
    "$$\n",
    "\\frac{d \\left( \\frac{\\partial x}{\\partial x_0} \\right)}{dt},\n",
    "$$\n",
    "\n",
    "and expand it, via elementary calculus rules, to\n",
    "\n",
    "$$\n",
    "\\frac{d \\left( \\frac{\\partial x}{\\partial x_0} \\right)}{dt} = \\frac{\\partial \\left( \\frac{dx}{dt} \\right) }{\\partial x_0}=\\frac{\\partial f\\left(x, y\\right)}{\\partial x}\\frac{\\partial x}{\\partial x_0}+\\frac{\\partial f \\left(x, y\\right)}{\\partial y}\\frac{\\partial y}{\\partial x_0}.\n",
    "$$\n",
    "\n",
    "We can write similar ODEs for the other partial derivatives, append them below the original ODE system and finally obtain an augmented ODE system containing the variational equations:\n",
    "\n",
    "$$\n",
    "\\begin{cases}\n",
    "\\frac{dx}{dt} = f\\left(x, y \\right)\\\\\n",
    "\\frac{dy}{dt} = g\\left(x, y \\right)\\\\\n",
    "\\frac{d \\left( \\frac{\\partial x}{\\partial x_0} \\right)}{dt} = \\frac{\\partial f\\left(x, y\\right)}{\\partial x}\\frac{\\partial x}{\\partial x_0}+\\frac{\\partial f\\left(x, y\\right)}{\\partial y}\\frac{\\partial y}{\\partial x_0}\\\\\n",
    "\\frac{d \\left( \\frac{\\partial x}{\\partial y_0} \\right)}{dt} = \\frac{\\partial f\\left(x, y\\right)}{\\partial x}\\frac{\\partial x}{\\partial y_0}+\\frac{\\partial f\\left(x, y\\right)}{\\partial y}\\frac{\\partial y}{\\partial y_0}\\\\\n",
    "\\frac{d \\left( \\frac{\\partial y}{\\partial x_0} \\right)}{dt} = \\frac{\\partial g\\left(x, y\\right)}{\\partial x}\\frac{\\partial x}{\\partial x_0}+\\frac{\\partial g\\left(x, y\\right)}{\\partial y}\\frac{\\partial y}{\\partial x_0}\\\\\n",
    "\\frac{d \\left( \\frac{\\partial y}{\\partial y_0} \\right)}{dt} = \\frac{\\partial g\\left(x, y\\right)}{\\partial x}\\frac{\\partial x}{\\partial y_0}+\\frac{\\partial g\\left(x, y\\right)}{\\partial y}\\frac{\\partial y}{\\partial y_0}\n",
    "\\end{cases}.\n",
    "$$\n",
    "\n",
    "The introduction of the variational equations in an ODE system of $n$ equations results in additional $n^2$ equations and variables. The initial conditions for the new variables are:\n",
    "\n",
    "$$\n",
    "\\begin{cases}\n",
    "\\frac{\\partial x}{\\partial x_0} \\left( 0 \\right) = 1\\\\\n",
    "\\frac{\\partial x}{\\partial y_0} \\left( 0 \\right) = 0\\\\\n",
    "\\frac{\\partial y}{\\partial x_0} \\left( 0 \\right) = 0\\\\\n",
    "\\frac{\\partial y}{\\partial y_0} \\left( 0 \\right) = 1\\\\\n",
    "\\end{cases}.\n",
    "$$\n",
    "\n",
    "Let us now try to implement the variational equations for the simple pendulum:"
   ]
  },
  {
   "cell_type": "code",
   "execution_count": 1,
   "id": "polyphonic-argentina",
   "metadata": {},
   "outputs": [
    {
     "data": {
      "text/plain": [
       "Tolerance               : 2.2204460492503131e-16\n",
       "High accuracy           : false\n",
       "Compact mode            : false\n",
       "Taylor order            : 20\n",
       "Dimension               : 6\n",
       "Time                    : 0.0000000000000000\n",
       "State                   : [0.050000000000000003, 0.025000000000000001, 1.0000000000000000, 0.0000000000000000, 0.0000000000000000, 1.0000000000000000]"
      ]
     },
     "execution_count": 1,
     "metadata": {},
     "output_type": "execute_result"
    }
   ],
   "source": [
    "import heyoka as hy\n",
    "\n",
    "# Create the state variables x and v.\n",
    "x, v = hy.make_vars(\"x\", \"v\")\n",
    "\n",
    "# Create the symbolic variables for the variational equations.\n",
    "x_x0, x_y0, y_x0, y_y0 = hy.make_vars(\"x_x0\", \"x_y0\", \"y_x0\", \"y_y0\")\n",
    "\n",
    "# Create the right-hand side of the ODE system.\n",
    "f = v\n",
    "g = -9.8 * hy.sin(x)\n",
    "x_x0_p = hy.diff(f, x) * x_x0 + hy.diff(f, v) * y_x0\n",
    "x_y0_p = hy.diff(f, x) * x_y0 + hy.diff(f, v) * y_y0\n",
    "y_x0_p = hy.diff(g, x) * x_x0 + hy.diff(g, v) * y_x0\n",
    "y_y0_p = hy.diff(g, x) * x_y0 + hy.diff(g, v) * y_y0\n",
    "\n",
    "# Create the integrator object.\n",
    "ta = hy.taylor_adaptive(\n",
    "    # Definition of the ODE system.\n",
    "    sys=[\n",
    "        (x, f),\n",
    "        (v, g),\n",
    "        (x_x0, x_x0_p),\n",
    "        (x_y0, x_y0_p),\n",
    "        (y_x0, y_x0_p),\n",
    "        (y_y0, y_y0_p),\n",
    "    ],\n",
    "    # Initial conditions.\n",
    "    state=[0.05, 0.025, 1.0, 0.0, 0.0, 1.0],\n",
    ")\n",
    "\n",
    "ta"
   ]
  },
  {
   "cell_type": "markdown",
   "id": "unlike-fifty",
   "metadata": {},
   "source": [
    "Here we used the ``diff()`` function to perform the symbolic differentiation of ``f`` and ``g`` with respect to the state variables.\n",
    "\n",
    "Let us now propagate the state of the system (including the variational equations) up to $t=50$:"
   ]
  },
  {
   "cell_type": "code",
   "execution_count": 2,
   "id": "recorded-shelf",
   "metadata": {},
   "outputs": [
    {
     "data": {
      "text/plain": [
       "array([ 0.03744787,  0.10667026,  0.80315068, -0.17679098,  1.82916222,\n",
       "        0.84245788])"
      ]
     },
     "execution_count": 2,
     "metadata": {},
     "output_type": "execute_result"
    }
   ],
   "source": [
    "ta.propagate_until(50.0)\n",
    "ta.state"
   ]
  },
  {
   "cell_type": "markdown",
   "id": "blessed-arabic",
   "metadata": {},
   "source": [
    "Next, we are going to create another integrator for the simple pendulum, this time *without* the variational equations and perturbing the initial value of $x$ by $10^{-8}$ with respect to the original initial conditions:"
   ]
  },
  {
   "cell_type": "code",
   "execution_count": 3,
   "id": "compound-installation",
   "metadata": {},
   "outputs": [
    {
     "data": {
      "text/plain": [
       "(<taylor_outcome.time_limit: -4294967299>,\n",
       " 0.20208180443700685,\n",
       " 0.2182277296610072,\n",
       " 240,\n",
       " None)"
      ]
     },
     "execution_count": 3,
     "metadata": {},
     "output_type": "execute_result"
    }
   ],
   "source": [
    "ta_dx = hy.taylor_adaptive(\n",
    "    # Definition of the ODE system.\n",
    "    sys=[(x, f), (v, g)],\n",
    "    # Initial conditions.\n",
    "    state=[0.05 + 1e-8, 0.025],\n",
    ")\n",
    "\n",
    "ta_dx.propagate_until(50.0)"
   ]
  },
  {
   "cell_type": "markdown",
   "id": "piano-thinking",
   "metadata": {},
   "source": [
    "Because of the perturbation on the initial value of $x$, the value of $x$ at $t=50$ will differ in the two integrators:"
   ]
  },
  {
   "cell_type": "code",
   "execution_count": 4,
   "id": "express-pittsburgh",
   "metadata": {},
   "outputs": [
    {
     "data": {
      "text/plain": [
       "-8.031506786021492e-09"
      ]
     },
     "execution_count": 4,
     "metadata": {},
     "output_type": "execute_result"
    }
   ],
   "source": [
    "ta.state[0] - ta_dx.state[0]"
   ]
  },
  {
   "cell_type": "markdown",
   "id": "relative-briefing",
   "metadata": {},
   "source": [
    "However, because in the variational integrator we now have the value of $\\frac{\\partial x}{\\partial x_0}$ at $t=50$, we can compute an approximation of the $\\Delta x$ induced by the perturbation on the initial state as\n",
    "\n",
    "$$\n",
    "\\Delta x \\approx \\frac{\\partial x}{\\partial x_0}\\left( 50 \\right) \\cdot 10^{-8}.\n",
    "$$\n",
    "\n",
    "Indeed:"
   ]
  },
  {
   "cell_type": "code",
   "execution_count": 5,
   "id": "confused-excellence",
   "metadata": {},
   "outputs": [
    {
     "data": {
      "text/plain": [
       "2.0816681711721685e-17"
      ]
     },
     "execution_count": 5,
     "metadata": {},
     "output_type": "execute_result"
    }
   ],
   "source": [
    "(ta.state[0] + ta.state[2] * 1e-8) - ta_dx.state[0]"
   ]
  }
 ],
 "metadata": {
  "kernelspec": {
   "display_name": "Python 3 (ipykernel)",
   "language": "python",
   "name": "python3"
  },
  "language_info": {
   "codemirror_mode": {
    "name": "ipython",
    "version": 3
   },
   "file_extension": ".py",
   "mimetype": "text/x-python",
   "name": "python",
   "nbconvert_exporter": "python",
   "pygments_lexer": "ipython3",
   "version": "3.10.13"
  }
 },
 "nbformat": 4,
 "nbformat_minor": 5
}
