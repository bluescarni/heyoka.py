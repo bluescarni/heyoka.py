{
 "cells": [
  {
   "cell_type": "markdown",
   "id": "b93f01ca-47d8-4bf4-b050-c883f48fec53",
   "metadata": {},
   "source": [
    "(ensemble_batch_perf)=\n",
    "# Evaluating the performance of ensemble & batch mode\n",
    "\n",
    "In this short tutorial, we will run a couple of benchmarks with the goal of evaluating how features such as [batch mode](<./Batch mode overview.ipynb>) and [ensemble propagation](<./ensemble_mode>) can lead to substantial speedups in the solution of multiple independent ODE systems.\n",
    "\n",
    "As an illustrative example, we will be using a toy model of the outer Solar System consisting of the Sun, Jupiter, Saturn, Uranus, Neptune and Pluto, with all bodies represented as point masses attracting each other according to Newtonian gravity. This dynamical system is described in detail in [another tutorial](<./Outer Solar System.ipynb>).\n",
    "\n",
    "All timings were taken on a Ryzen 5950x CPU.\n",
    "\n",
    "## The scalar, serial baseline\n",
    "\n",
    "To begin with, we set up a single, scalar numerical integration of the system for $10^6$ years. Let us start by introducing a few physical constants:"
   ]
  },
  {
   "cell_type": "code",
   "execution_count": 1,
   "id": "c4e92d6e-75fb-4154-a16c-bef72a49962a",
   "metadata": {},
   "outputs": [],
   "source": [
    "# Masses, from Sun to Pluto.\n",
    "import numpy as np\n",
    "\n",
    "masses = np.array(\n",
    "    [1.00000597682, 1 / 1047.355, 1 / 3501.6, 1 / 22869.0, 1 / 19314.0, 7.4074074e-09]\n",
    ")\n",
    "\n",
    "# The gravitational constant.\n",
    "G = 0.01720209895 * 0.01720209895 * 365 * 365"
   ]
  },
  {
   "cell_type": "markdown",
   "id": "c58e3112-d8e9-46b5-85cb-65866399aa61",
   "metadata": {},
   "source": [
    "Next, we introduce a set of initial conditions taken from [this paper](https://ui.adsabs.harvard.edu/abs/1986AJ.....92..176A/abstract):"
   ]
  },
  {
   "cell_type": "code",
   "execution_count": 2,
   "id": "d2a6a8cf-439f-4698-89c8-b9f430ecdbec",
   "metadata": {},
   "outputs": [],
   "source": [
    "ic = np.array(\n",
    "    [  # Sun.\n",
    "        -4.06428567034226e-3,\n",
    "        -6.08813756435987e-3,\n",
    "        -1.66162304225834e-6,\n",
    "        +6.69048890636161e-6 * 365,\n",
    "        -6.33922479583593e-6 * 365,\n",
    "        -3.13202145590767e-9 * 365,\n",
    "        # Jupiter.\n",
    "        +3.40546614227466e0,\n",
    "        +3.62978190075864e0,\n",
    "        +3.42386261766577e-2,\n",
    "        -5.59797969310664e-3 * 365,\n",
    "        +5.51815399480116e-3 * 365,\n",
    "        -2.66711392865591e-6 * 365,\n",
    "        # Saturn.\n",
    "        +6.60801554403466e0,\n",
    "        +6.38084674585064e0,\n",
    "        -1.36145963724542e-1,\n",
    "        -4.17354020307064e-3 * 365,\n",
    "        +3.99723751748116e-3 * 365,\n",
    "        +1.67206320571441e-5 * 365,\n",
    "        # Uranus.\n",
    "        +1.11636331405597e1,\n",
    "        +1.60373479057256e1,\n",
    "        +3.61783279369958e-1,\n",
    "        -3.25884806151064e-3 * 365,\n",
    "        +2.06438412905916e-3 * 365,\n",
    "        -2.17699042180559e-5 * 365,\n",
    "        # Neptune.\n",
    "        -3.01777243405203e1,\n",
    "        +1.91155314998064e0,\n",
    "        -1.53887595621042e-1,\n",
    "        -2.17471785045538e-4 * 365,\n",
    "        -3.11361111025884e-3 * 365,\n",
    "        +3.58344705491441e-5 * 365,\n",
    "        # Pluto.\n",
    "        -2.13858977531573e1,\n",
    "        +3.20719104739886e1,\n",
    "        +2.49245689556096e0,\n",
    "        -1.76936577252484e-3 * 365,\n",
    "        -2.06720938381724e-3 * 365,\n",
    "        +6.58091931493844e-4 * 365,\n",
    "    ]\n",
    ")"
   ]
  },
  {
   "cell_type": "markdown",
   "id": "212bc3fa-682d-46a5-bdc1-c2c997239195",
   "metadata": {},
   "source": [
    "We can now proceed to set up the ODEs and create a scalar integrator object:"
   ]
  },
  {
   "cell_type": "code",
   "execution_count": 3,
   "id": "804da528-b579-4777-b2bd-b6443bdc02d3",
   "metadata": {},
   "outputs": [],
   "source": [
    "import heyoka as hy\n",
    "\n",
    "# The ODEs.\n",
    "sys = hy.model.nbody(6, masses=masses, Gconst=G)\n",
    "\n",
    "# The integrator.\n",
    "ta = hy.taylor_adaptive(sys, ic, high_accuracy=True, tol=1e-18)"
   ]
  },
  {
   "cell_type": "markdown",
   "id": "5cc12ffc-3102-40ee-a96c-656311ed28af",
   "metadata": {},
   "source": [
    "We are now ready to run and time the numerical integration:"
   ]
  },
  {
   "cell_type": "code",
   "execution_count": 4,
   "id": "a913b9c7-421f-4de8-bc5a-247f043d4034",
   "metadata": {},
   "outputs": [
    {
     "name": "stdout",
     "output_type": "stream",
     "text": [
      "CPU times: user 14.4 s, sys: 1.34 ms, total: 14.4 s\n",
      "Wall time: 14.4 s\n"
     ]
    }
   ],
   "source": [
    "# Integrate for 1 million years.\n",
    "%time ret = ta.propagate_until(1e6)"
   ]
  },
  {
   "cell_type": "markdown",
   "id": "ab3d7a8e-c8d7-4889-971d-70e29c76fc6f",
   "metadata": {},
   "source": [
    "The scalar serial integration took about 14 seconds.\n",
    "\n",
    "## Parallelisation with ensemble propagation\n",
    "\n",
    "We are now going to use [ensemble propagation](<./ensemble_mode>) to integrate several instances of our dynamical system in parallel, using multiple threads of execution. In each instance of the ensemble, we will slightly and randomly alter the original initial conditions:"
   ]
  },
  {
   "cell_type": "code",
   "execution_count": 5,
   "id": "37912d31-9e11-473b-a5d9-a505965311b2",
   "metadata": {},
   "outputs": [],
   "source": [
    "# The generator for ensemble propagation.\n",
    "def gen(ta_copy, _):\n",
    "    ta_copy.time = 0.0\n",
    "    # Randomly alter the initial conditions.\n",
    "    ta_copy.state[:] += np.random.uniform(-1e-12, 1e-12, ta_copy.state.shape)\n",
    "\n",
    "    return ta_copy"
   ]
  },
  {
   "cell_type": "markdown",
   "id": "84946903-f119-47fc-8701-9e5621dd55e8",
   "metadata": {},
   "source": [
    "Let us now launch an ensemble propagation consisting of 8 instances running in parallel:"
   ]
  },
  {
   "cell_type": "code",
   "execution_count": 6,
   "id": "a2b205ba-ee08-4d5c-9f15-1c6c043b246f",
   "metadata": {},
   "outputs": [
    {
     "name": "stdout",
     "output_type": "stream",
     "text": [
      "CPU times: user 2min, sys: 6.3 ms, total: 2min\n",
      "Wall time: 15.5 s\n"
     ]
    }
   ],
   "source": [
    "%time ret = hy.ensemble_propagate_until(ta, 1e6, 8, gen)"
   ]
  },
  {
   "cell_type": "markdown",
   "id": "d2b0a591-d936-44b6-b03c-17be31facd05",
   "metadata": {},
   "source": [
    "We can see how, thanks to ensemble parallelisation, we were able to integrate 8 instances of the ODE system in roughly the same time it took to integrate a single instance in serial mode.\n",
    "\n",
    "Note that, on modern desktop CPUs, parallel speedup is rarely 100% efficient because of CPU frequency boosting when using a single core.\n",
    "\n",
    "## Vectorisation with batch mode\n",
    "\n",
    "As the last step, we are now going to activate [batch mode](<./Batch mode overview.ipynb>) in order to take full advantage of SIMD instructions in modern CPUs. In this example, we will be using a batch size of 4 (which is the SIMD vector width for double precision on most contemporary x86 CPUs). This means that each integrator in the ensemble will be propagating 4 different trajectories at once.\n",
    "\n",
    "We begin with the definition of a template batch integrator:"
   ]
  },
  {
   "cell_type": "code",
   "execution_count": 7,
   "id": "91aa55ec-8fd9-43e1-b2f7-e848dcd40b2d",
   "metadata": {},
   "outputs": [],
   "source": [
    "ta = hy.taylor_adaptive_batch(\n",
    "    sys, ic.repeat(4).reshape(-1, 4), high_accuracy=True, tol=1e-18\n",
    ")"
   ]
  },
  {
   "cell_type": "markdown",
   "id": "653aa96a-4c3d-4fb5-99e7-8e1388310437",
   "metadata": {},
   "source": [
    "Note how the original (scalar) initial conditions were splatted out in a 2D array with 4 columns. Next, we define a new ensemble generator accounting for batch mode:"
   ]
  },
  {
   "cell_type": "code",
   "execution_count": 8,
   "id": "ec7215a9-2c7c-4f33-930c-90d5d5ba57c5",
   "metadata": {},
   "outputs": [],
   "source": [
    "# The generator for ensemble propagation in batch mode.\n",
    "def gen(ta_copy, _):\n",
    "    ta_copy.set_time(0.0)\n",
    "    ta_copy.state[:] += np.random.uniform(-1e-12, 1e-12, ta_copy.state.shape)\n",
    "\n",
    "    return ta_copy"
   ]
  },
  {
   "cell_type": "markdown",
   "id": "055e908c-37c3-425f-8cd1-17735c308979",
   "metadata": {},
   "source": [
    "We can now run the ensemble batch propagation, using again 8 instances:"
   ]
  },
  {
   "cell_type": "code",
   "execution_count": 9,
   "id": "85099f57-c674-4180-a7c3-ddc9a90a34e8",
   "metadata": {},
   "outputs": [
    {
     "name": "stdout",
     "output_type": "stream",
     "text": [
      "CPU times: user 2min 32s, sys: 9.01 ms, total: 2min 32s\n",
      "Wall time: 19.8 s\n"
     ]
    }
   ],
   "source": [
    "%time ret = hy.ensemble_propagate_until(ta, 1e6, 8, gen)"
   ]
  },
  {
   "cell_type": "markdown",
   "id": "86089435-a098-4d58-a13e-c61e983e7e4e",
   "metadata": {},
   "source": [
    "We can see how, with respect to the scalar ensemble propagation, we increased the number of integrated trajectories by a factor of 4 with only a slight runtime increase.\n",
    "\n",
    "## Conclusions\n",
    "\n",
    "Thanks to the use of batch mode and ensemble propagation, we were able to increase the computational throughput of our simulations with respect to the serial scalar baseline by a factor of $\\sim 24$ using 8 CPU cores. These results show how batch mode and ensemble propagation can be very effective in accelerating Monte Carlo simulations and parameter searches."
   ]
  }
 ],
 "metadata": {
  "kernelspec": {
   "display_name": "Python 3 (ipykernel)",
   "language": "python",
   "name": "python3"
  },
  "language_info": {
   "codemirror_mode": {
    "name": "ipython",
    "version": 3
   },
   "file_extension": ".py",
   "mimetype": "text/x-python",
   "name": "python",
   "nbconvert_exporter": "python",
   "pygments_lexer": "ipython3",
   "version": "3.10.6"
  }
 },
 "nbformat": 4,
 "nbformat_minor": 5
}
