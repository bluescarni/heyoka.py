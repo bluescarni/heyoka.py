{
 "cells": [
  {
   "cell_type": "markdown",
   "id": "1e277a82-d434-4706-9c1e-8a72c0212b25",
   "metadata": {},
   "source": [
    "# Parallel mode\n",
    "\n",
    "Starting from version 0.18.0, heyoka.py can automatically parallelise\n",
    "the integration of a single ODE system using multiple threads\n",
    "of execution. This parallelisation\n",
    "mode is fine-grained, i.e., it acts at the level of an individual\n",
    "integration step, and it thus serves a fundamentally different purpose from\n",
    "the coarse-grained parallelisation approach of [ensemble propagations](<./ensemble_mode.ipynb>).\n",
    "\n",
    "In order to be effective, parallel mode needs large ODE systems, that is, systems\n",
    "with a large number of variables and/or large expressions at the right-hand side.\n",
    "When used on small ODE systems, parallel mode will likely introduce a noticeable\n",
    "slowdown due to the multithreading overhead.\n",
    "\n",
    "Note that, because Taylor integrators are memory intensive, performance\n",
    "for large ODE systems is bottlenecked by RAM speed due to the\n",
    "[memory wall](https://en.wikipedia.org/wiki/Random-access_memory#Memory_wall).\n",
    "This means, in practice, that, at least for double-precision computations,\n",
    "the performance of parallel mode will not scale linearly with the number of cores.\n",
    "On the other hand, for extended-precision computations the speedup will be more efficient,\n",
    "due to the fact that arithmetic operations on extended-precision operands\n",
    "are computationally heavier than on double-precision operands.\n",
    "\n",
    "With these caveats out of the way, let us see an example of parallel mode in action.\n",
    "\n",
    "## Parallel planetary embryos\n",
    "\n",
    "In order to illustrate the effectiveness of parallel mode, we will setup\n",
    "an N-body system consisting of a large number ($N=400$) of\n",
    "[protoplanets](https://en.wikipedia.org/wiki/Protoplanet) in orbit around\n",
    "a Sun-like star. The protoplanets interact with the star and with each other according to\n",
    "Newtonian gravity, and they are initially placed on circular orbits.\n",
    "\n",
    "Let us begin by defining a ``run_benchmark()`` function that will setup and integrate\n",
    "the N-body system. The function is parametrised over the floating-point type ``fp_type`` that\n",
    "will be used for the integration (so that we can easily run the same test in both double\n",
    "and extended precision). The input arguments are the final time and a boolean flag\n",
    "specifying whether or not to use parallel mode. The return value is the total wall clock time\n",
    "taken by the integration:"
   ]
  },
  {
   "cell_type": "code",
   "execution_count": 1,
   "id": "bcc77097-e310-4baf-bf72-e3fc1d7cdabd",
   "metadata": {},
   "outputs": [],
   "source": [
    "import heyoka as hy\n",
    "import numpy as np\n",
    "\n",
    "\n",
    "def run_benchmark(fp_t, final_time, parallel_mode):\n",
    "    import time\n",
    "\n",
    "    # The number of protoplanets.\n",
    "    nplanets = 400\n",
    "\n",
    "    # G constant, in terms of solar masses, AUs and years.\n",
    "    G = fp_t(0.01720209895 * 0.01720209895 * 365 * 365)\n",
    "\n",
    "    # Init the mass vector.\n",
    "    masses = [fp_t(1)] + list(\n",
    "        fp_t(1) / 333000 / ((i + 1) * (i + 1)) for i in range(nplanets)\n",
    "    )\n",
    "\n",
    "    # Create the nbody system.\n",
    "    sys = hy.model.nbody(nplanets + 1, masses=masses, Gconst=G)\n",
    "\n",
    "    # The initial state (zeroed out, we will change it later).\n",
    "    init_state = np.zeros(((nplanets + 1) * 6,), dtype=fp_t)\n",
    "\n",
    "    # Create the integrator.\n",
    "    # NOTE: compact_mode is *required* when using parallel mode.\n",
    "    ta = hy.taylor_adaptive(\n",
    "        sys, init_state, compact_mode=True, parallel_mode=parallel_mode, fp_type=fp_t\n",
    "    )\n",
    "\n",
    "    # Reshape the state vector for ease of indexing.\n",
    "    st = ta.state.reshape((nplanets + 1, 6))\n",
    "\n",
    "    # Set the initial positions at regular intervals on the x axis\n",
    "    # on circular orbits. The Sun is already in the origin with zero\n",
    "    # velocity.\n",
    "    for i in range(nplanets):\n",
    "        st[i + 1, 0] = i + 1\n",
    "        st[i + 1, 4] = np.sqrt(G / (i + 1))\n",
    "\n",
    "    # Take the current time.\n",
    "    t = time.monotonic_ns()\n",
    "\n",
    "    # Integrate.\n",
    "    ta.propagate_for(fp_t(final_time))\n",
    "\n",
    "    # Return the elapsed time in seconds.\n",
    "    return (time.monotonic_ns() - t) / 1e9"
   ]
  },
  {
   "cell_type": "markdown",
   "id": "dad50653-58e2-498d-92b1-5d342bddbc2b",
   "metadata": {},
   "source": [
    "Note that parallel mode **requires** compact mode: if you try to construct a parallel mode integrator\n",
    "without enabling compact mode, an exception will be thrown.\n",
    "\n",
    "Before running the benchmarks, we will limit the number of threads available for use by heyoka to 8:"
   ]
  },
  {
   "cell_type": "code",
   "execution_count": 2,
   "id": "f7502686-6146-40dd-a3cd-5ce9e72c112c",
   "metadata": {},
   "outputs": [],
   "source": [
    "# Limit to 8 threads of execution.\n",
    "hy.set_nthreads(8)"
   ]
  },
  {
   "cell_type": "markdown",
   "id": "e7b30d0f-f12f-470e-8025-753850ac782f",
   "metadata": {},
   "source": [
    "Let us now run the benchmark in double precision, and let us compare the timings with and without parallel mode:"
   ]
  },
  {
   "cell_type": "code",
   "execution_count": 3,
   "id": "1f4225c4-be94-4e67-b520-d81f443d993a",
   "metadata": {},
   "outputs": [
    {
     "name": "stdout",
     "output_type": "stream",
     "text": [
      "Serial time (double): 0.975656957\n",
      "Parallel time (double): 0.299708726\n"
     ]
    }
   ],
   "source": [
    "print(\"Serial time (double): {}\".format(run_benchmark(float, 1, False)))\n",
    "print(\"Parallel time (double): {}\".format(run_benchmark(float, 1, True)))"
   ]
  },
  {
   "cell_type": "markdown",
   "id": "a9541599-27a5-4201-99ee-e7564fbf489d",
   "metadata": {},
   "source": [
    "We can see how parallel mode resulted in a $\\times 3.3$ speedup with respect to the serial integration.\n",
    "While this speedup is suboptimal with respect to the maximum theoretically achievable speedup of $\\times 8$,\n",
    "these timings show that parallel mode can still provide an easy way of boosting the integrator's performance\n",
    "for large ODE systems.\n",
    "\n",
    "Let us now repeat the same test in quadruple precision:"
   ]
  },
  {
   "cell_type": "code",
   "execution_count": 4,
   "id": "809e5fb5-6f22-4e14-97d7-9f5fe984d67f",
   "metadata": {},
   "outputs": [
    {
     "name": "stdout",
     "output_type": "stream",
     "text": [
      "Serial time (real128): 176.803970754\n",
      "Parallel time (real128): 24.239678635\n"
     ]
    }
   ],
   "source": [
    "print(\"Serial time (real128): {}\".format(run_benchmark(hy.real128, 1, False)))\n",
    "print(\"Parallel time (real128): {}\".format(run_benchmark(hy.real128, 1, True)))"
   ]
  },
  {
   "cell_type": "markdown",
   "id": "63a161f2-a6ad-41ee-801e-d141f5135af3",
   "metadata": {},
   "source": [
    "In quadruple precision, the speedup is now $\\times 7.3$.\n",
    "\n",
    "These results show that parallel mode can provide an easy way of boosting the performance of heyoka's integrators\n",
    "for large ODE systems, and that the speedup of parallel mode is most efficient when operating in extended precision."
   ]
  }
 ],
 "metadata": {
  "kernelspec": {
   "display_name": "Python 3 (ipykernel)",
   "language": "python",
   "name": "python3"
  },
  "language_info": {
   "codemirror_mode": {
    "name": "ipython",
    "version": 3
   },
   "file_extension": ".py",
   "mimetype": "text/x-python",
   "name": "python",
   "nbconvert_exporter": "python",
   "pygments_lexer": "ipython3",
   "version": "3.10.6"
  }
 },
 "nbformat": 4,
 "nbformat_minor": 5
}
